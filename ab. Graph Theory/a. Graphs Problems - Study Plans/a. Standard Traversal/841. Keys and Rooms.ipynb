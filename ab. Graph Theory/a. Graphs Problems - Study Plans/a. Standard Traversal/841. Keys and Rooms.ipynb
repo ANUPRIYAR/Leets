{
 "cells": [
  {
   "cell_type": "markdown",
   "id": "6577e04a-4189-4955-aac9-eccdfc2e7c65",
   "metadata": {},
   "source": [
    "<h2><a href=\"https://leetcode.com/problems/keys-and-rooms\">841. Keys and Rooms</a></h2><h3>Medium</h3><hr><p>There are <code>n</code> rooms labeled from <code>0</code> to <code>n - 1</code>&nbsp;and all the rooms are locked except for room <code>0</code>. Your goal is to visit all the rooms. However, you cannot enter a locked room without having its key.</p>\n",
    "\n",
    "<p>When you visit a room, you may find a set of <strong>distinct keys</strong> in it. Each key has a number on it, denoting which room it unlocks, and you can take all of them with you to unlock the other rooms.</p>\n",
    "\n",
    "<p>Given an array <code>rooms</code> where <code>rooms[i]</code> is the set of keys that you can obtain if you visited room <code>i</code>, return <code>true</code> <em>if you can visit <strong>all</strong> the rooms, or</em> <code>false</code> <em>otherwise</em>.</p>\n",
    "\n",
    "<p>&nbsp;</p>\n",
    "<p><strong class=\"example\">Example 1:</strong></p>\n",
    "\n",
    "<pre>\n",
    "<strong>Input:</strong> rooms = [[1],[2],[3],[]]\n",
    "<strong>Output:</strong> true\n",
    "<strong>Explanation:</strong> \n",
    "We visit room 0 and pick up key 1.\n",
    "We then visit room 1 and pick up key 2.\n",
    "We then visit room 2 and pick up key 3.\n",
    "We then visit room 3.\n",
    "Since we were able to visit every room, we return true.\n",
    "</pre>\n",
    "\n",
    "<p><strong class=\"example\">Example 2:</strong></p>\n",
    "\n",
    "<pre>\n",
    "<strong>Input:</strong> rooms = [[1,3],[3,0,1],[2],[0]]\n",
    "<strong>Output:</strong> false\n",
    "<strong>Explanation:</strong> We can not enter room number 2 since the only key that unlocks it is in that room.\n",
    "</pre>\n",
    "\n",
    "<p>&nbsp;</p>\n",
    "<p><strong>Constraints:</strong></p>\n",
    "\n",
    "<ul>\n",
    "\t<li><code>n == rooms.length</code></li>\n",
    "\t<li><code>2 &lt;= n &lt;= 1000</code></li>\n",
    "\t<li><code>0 &lt;= rooms[i].length &lt;= 1000</code></li>\n",
    "\t<li><code>1 &lt;= sum(rooms[i].length) &lt;= 3000</code></li>\n",
    "\t<li><code>0 &lt;= rooms[i][j] &lt; n</code></li>\n",
    "\t<li>All the values of <code>rooms[i]</code> are <strong>unique</strong>.</li>\n",
    "</ul>\n"
   ]
  },
  {
   "attachments": {
    "875dadfb-3fc2-4f15-8031-283f77e6b2c7.png": {
     "image/png": "[encoded data removed]"
    }
   },
   "cell_type": "markdown",
   "id": "110721a3-7a1a-4065-be1b-81135c761ee5",
   "metadata": {},
   "source": [
    "\n",
    "![image.png](attachment:875dadfb-3fc2-4f15-8031-283f77e6b2c7.png)"
   ]
  },
  {
   "cell_type": "code",
   "execution_count": 1,
   "id": "7ebae6e8-6683-4831-8114-4d061d9e6d8e",
   "metadata": {},
   "outputs": [],
   "source": [
    "from typing import List\n",
    "class Solution:\n",
    "    def dfs(self, node, vis, rooms):\n",
    "        vis[node] = True\n",
    "        for it in rooms[node]:\n",
    "            if not vis[it]:\n",
    "                self.dfs(it, vis, rooms)\n",
    "\n",
    "\n",
    "    def canVisitAllRooms(self, rooms: List[List[int]]) -> bool:\n",
    "        vis = [False]* len(rooms)\n",
    "\n",
    "        self.dfs(0, vis, rooms)\n",
    "        if sum(vis) == len(rooms):\n",
    "            return True\n",
    "        else:\n",
    "            return False"
   ]
  },
  {
   "cell_type": "code",
   "execution_count": null,
   "id": "2dc2ec65-63d4-47d5-820d-8c6f4de69b65",
   "metadata": {},
   "outputs": [],
   "source": []
  }
 ],
 "metadata": {
  "kernelspec": {
   "display_name": "Python 3 (ipykernel)",
   "language": "python",
   "name": "python3"
  },
  "language_info": {
   "codemirror_mode": {
    "name": "ipython",
    "version": 3
   },
   "file_extension": ".py",
   "mimetype": "text/x-python",
   "name": "python",
   "nbconvert_exporter": "python",
   "pygments_lexer": "ipython3",
   "version": "3.11.5"
  },
  "widgets": {
   "application/vnd.jupyter.widget-state+json": {
    "state": {},
    "version_major": 2,
    "version_minor": 0
   }
  }
 },
 "nbformat": 4,
 "nbformat_minor": 5
}
