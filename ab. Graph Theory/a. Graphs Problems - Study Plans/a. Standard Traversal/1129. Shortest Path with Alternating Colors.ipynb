{
 "cells": [
  {
   "cell_type": "markdown",
   "id": "3ffdfbab-7914-4880-95fc-fcfec7c707ce",
   "metadata": {},
   "source": [
    "<h2><a href=\"https://leetcode.com/problems/shortest-path-with-alternating-colors\">1129. Shortest Path with Alternating Colors</a></h2><h3>Medium</h3><hr><p>You are given an integer <code>n</code>, the number of nodes in a directed graph where the nodes are labeled from <code>0</code> to <code>n - 1</code>. Each edge is red or blue in this graph, and there could be self-edges and parallel edges.</p>\n",
    "\n",
    "<p>You are given two arrays <code>redEdges</code> and <code>blueEdges</code> where:</p>\n",
    "\n",
    "<ul>\n",
    "\t<li><code>redEdges[i] = [a<sub>i</sub>, b<sub>i</sub>]</code> indicates that there is a directed red edge from node <code>a<sub>i</sub></code> to node <code>b<sub>i</sub></code> in the graph, and</li>\n",
    "\t<li><code>blueEdges[j] = [u<sub>j</sub>, v<sub>j</sub>]</code> indicates that there is a directed blue edge from node <code>u<sub>j</sub></code> to node <code>v<sub>j</sub></code> in the graph.</li>\n",
    "</ul>\n",
    "\n",
    "<p>Return an array <code>answer</code> of length <code>n</code>, where each <code>answer[x]</code> is the length of the shortest path from node <code>0</code> to node <code>x</code> such that the edge colors alternate along the path, or <code>-1</code> if such a path does not exist.</p>\n",
    "\n",
    "<p>&nbsp;</p>\n",
    "<p><strong class=\"example\">Example 1:</strong></p>\n",
    "\n",
    "<pre>\n",
    "<strong>Input:</strong> n = 3, redEdges = [[0,1],[1,2]], blueEdges = []\n",
    "<strong>Output:</strong> [0,1,-1]\n",
    "</pre>\n",
    "\n",
    "<p><strong class=\"example\">Example 2:</strong></p>\n",
    "\n",
    "<pre>\n",
    "<strong>Input:</strong> n = 3, redEdges = [[0,1]], blueEdges = [[2,1]]\n",
    "<strong>Output:</strong> [0,1,-1]\n",
    "</pre>\n",
    "\n",
    "<p>&nbsp;</p>\n",
    "<p><strong>Constraints:</strong></p>\n",
    "\n",
    "<ul>\n",
    "\t<li><code>1 &lt;= n &lt;= 100</code></li>\n",
    "\t<li><code>0 &lt;= redEdges.length,&nbsp;blueEdges.length &lt;= 400</code></li>\n",
    "\t<li><code>redEdges[i].length == blueEdges[j].length == 2</code></li>\n",
    "\t<li><code>0 &lt;= a<sub>i</sub>, b<sub>i</sub>, u<sub>j</sub>, v<sub>j</sub> &lt; n</code></li>\n",
    "</ul>"
   ]
  },
  {
   "cell_type": "code",
   "execution_count": 21,
   "id": "231904d9-17a3-4bb5-92a8-46636ea37a34",
   "metadata": {},
   "outputs": [],
   "source": [
    "from collections import deque\n",
    "from typing import List\n",
    "import math\n",
    "\n",
    "class Solution:\n",
    "    def shortestAlternatingPaths(self, n: int, redEdges: List[List[int]], blueEdges: List[List[int]]) -> List[int]:\n",
    "        answer = [0] * n\n",
    "        vis = set()\n",
    "        adj = [[] for _ in range(n)]\n",
    "        for i in range(len(redEdges)):\n",
    "            adj[redEdges[i][0]].append((redEdges[i][1], 'red'))\n",
    "\n",
    "        for i in range(len(blueEdges)):\n",
    "            adj[blueEdges[i][0]].append((blueEdges[i][1], 'blue'))\n",
    "\n",
    "        distances = [math.inf]* n\n",
    "        distances[0] = 0\n",
    "\n",
    "        queue = deque([(0, 'green', 0)])\n",
    "        while queue:\n",
    "            node, color, dist = queue.popleft()\n",
    "            print(f\"queue popped: {node}, {color}, {dist}\")\n",
    "\n",
    "            vis.add((node, color))\n",
    "            print(f\"added to vis: {vis}\")\n",
    "\n",
    "            for it in adj[node]:\n",
    "                child = it[0]\n",
    "                child_color = it[1]\n",
    "                print(f\"child : {child} child_color :{child_color}\")\n",
    "                \n",
    "                if (child, child_color) not in vis and child_color != color:\n",
    "                    queue.append((child, child_color, dist + 1))\n",
    "                    distances[child] = min(distances[child], dist + 1)\n",
    "                    print(distances)\n",
    "\n",
    "\n",
    "        ans = []\n",
    "        for i in range(len(distances)):\n",
    "            if distances[i] != math.inf:\n",
    "                ans.append(distances[i])\n",
    "            else:\n",
    "                ans.append(-1)\n",
    "\n",
    "        return ans"
   ]
  },
  {
   "cell_type": "code",
   "execution_count": 23,
   "id": "0496be11-ced8-4eaf-ac0e-1af6d928d298",
   "metadata": {},
   "outputs": [
    {
     "name": "stdout",
     "output_type": "stream",
     "text": [
      "queue popped: 0, green, 0\n",
      "added to vis: {(0, 'green')}\n",
      "child : 1 child_color :red\n",
      "[0, 1, inf]\n",
      "queue popped: 1, red, 1\n",
      "added to vis: {(1, 'red'), (0, 'green')}\n",
      "child : 2 child_color :red\n"
     ]
    },
    {
     "data": {
      "text/plain": [
       "[0, 1, -1]"
      ]
     },
     "execution_count": 23,
     "metadata": {},
     "output_type": "execute_result"
    }
   ],
   "source": [
    "n = 3\n",
    "redEdges = [[0,1],[1,2]]\n",
    "blueEdges = []\n",
    "sol = Solution()\n",
    "sol.shortestAlternatingPaths(n, redEdges, blueEdges)"
   ]
  },
  {
   "cell_type": "code",
   "execution_count": 24,
   "id": "1924a54d-5fb1-45e8-a51c-0a8f055a652d",
   "metadata": {},
   "outputs": [
    {
     "name": "stdout",
     "output_type": "stream",
     "text": [
      "queue popped: 0, green, 0\n",
      "added to vis: {(0, 'green')}\n",
      "child : 1 child_color :red\n",
      "[0, 1, inf]\n",
      "queue popped: 1, red, 1\n",
      "added to vis: {(1, 'red'), (0, 'green')}\n"
     ]
    },
    {
     "data": {
      "text/plain": [
       "[0, 1, -1]"
      ]
     },
     "execution_count": 24,
     "metadata": {},
     "output_type": "execute_result"
    }
   ],
   "source": [
    "n = 3\n",
    "redEdges = [[0,1]]\n",
    "blueEdges = [[2,1]]\n",
    "sol = Solution()\n",
    "sol.shortestAlternatingPaths(n, redEdges, blueEdges)"
   ]
  },
  {
   "cell_type": "code",
   "execution_count": 25,
   "id": "7122717f-ef35-4012-905e-dd31facb17ba",
   "metadata": {},
   "outputs": [],
   "source": [
    "# Using Djkstras Algorithmfe edge \n",
    "# Doesnt work for few cases "
   ]
  },
  {
   "cell_type": "code",
   "execution_count": 48,
   "id": "c6c15412-0c57-4531-b18b-22dc7a057f32",
   "metadata": {},
   "outputs": [],
   "source": [
    "# from collections import deque\n",
    "# from typing import List\n",
    "# import math\n",
    "# from heapq import heappush, heappop\n",
    "# class Solution:\n",
    "#     def shortestAlternatingPaths(self, n: int, redEdges: List[List[int]], blueEdges: List[List[int]]) -> List[int]:\n",
    "        \n",
    "        \n",
    "#         adj = [[] for _ in range(n)]\n",
    "#         for i in range(len(redEdges)):\n",
    "#             adj[redEdges[i][0]].append((redEdges[i][1], 'red', 1))\n",
    "        \n",
    "#         for i in range(len(blueEdges)):\n",
    "#             adj[blueEdges[i][0]].append((blueEdges[i][1], 'blue', 1))\n",
    "\n",
    "#         distances = [math.inf]* n\n",
    "#         distances[0] = 0\n",
    "\n",
    "#         pq = [(0, 'green', 0)]\n",
    "\n",
    "#         while pq:\n",
    "#             node, color, dist = heappop(pq)\n",
    "#             print(node, color, dist)\n",
    "\n",
    "#             for it in adj[node]:\n",
    "#                 child = it[0] \n",
    "#                 child_color = it[1]\n",
    "#                 child_dist = it[2]\n",
    "#                 print(f\"dist + child_dist : {dist + child_dist }\")\n",
    "#                 print(f\"distances[child] : {distances[child] }\")\n",
    "#                 print(f\"child color: {child_color}\")\n",
    "\n",
    "#                 if (dist + child_dist <= distances[child]) and child_color != color:\n",
    "#                     distances[child] = dist + child_dist\n",
    "#                     print(f\"pushed =========> : {child},{child_color}, {distances[child] } \\n\")\n",
    "#                     heappush(pq, (child, child_color, dist + child_dist))\n",
    "\n",
    "#         answer = []\n",
    "#         for i in range(len(distances)):\n",
    "#             if distances[i] != math.inf:\n",
    "#                 answer.append(distances[i])\n",
    "#             else:\n",
    "#                 answer.append(-1)\n",
    "\n",
    "#         return answer"
   ]
  },
  {
   "cell_type": "code",
   "execution_count": 44,
   "id": "0b54307e-7143-4279-9c6e-c42943c56c7e",
   "metadata": {},
   "outputs": [
    {
     "name": "stdout",
     "output_type": "stream",
     "text": [
      "0 green 0\n",
      "dist + child_dist : 1\n",
      "child color: red\n",
      "pushed : 1,red, 1 \n",
      "\n",
      "1 red 1\n"
     ]
    },
    {
     "data": {
      "text/plain": [
       "[0, 1, -1]"
      ]
     },
     "execution_count": 44,
     "metadata": {},
     "output_type": "execute_result"
    }
   ],
   "source": [
    "n = 3\n",
    "redEdges = [[0,1]]\n",
    "blueEdges = [[2,1]]\n",
    "sol = Solution()\n",
    "sol.shortestAlternatingPaths(n, redEdges, blueEdges)"
   ]
  },
  {
   "cell_type": "code",
   "execution_count": 49,
   "id": "96c0f706-9362-4470-9015-9439d9edaaad",
   "metadata": {},
   "outputs": [
    {
     "name": "stdout",
     "output_type": "stream",
     "text": [
      "0 green 0\n",
      "dist + child_dist : 1\n",
      "distances[child] : inf\n",
      "child color: red\n",
      "pushed =========> : 1,red, 1 \n",
      "\n",
      "1 red 1\n",
      "dist + child_dist : 2\n",
      "distances[child] : inf\n",
      "child color: red\n",
      "dist + child_dist : 2\n",
      "distances[child] : inf\n",
      "child color: blue\n",
      "pushed =========> : 2,blue, 2 \n",
      "\n",
      "2 blue 2\n",
      "dist + child_dist : 3\n",
      "distances[child] : inf\n",
      "child color: red\n",
      "pushed =========> : 3,red, 3 \n",
      "\n",
      "dist + child_dist : 3\n",
      "distances[child] : 3\n",
      "child color: blue\n",
      "3 red 3\n",
      "dist + child_dist : 4\n",
      "distances[child] : inf\n",
      "child color: red\n",
      "dist + child_dist : 4\n",
      "distances[child] : 1\n",
      "child color: blue\n"
     ]
    },
    {
     "data": {
      "text/plain": [
       "[0, 1, 2, 3, -1]"
      ]
     },
     "execution_count": 49,
     "metadata": {},
     "output_type": "execute_result"
    }
   ],
   "source": [
    "n = 5\n",
    "redEdges =[[0,1],[1,2],[2,3],[3,4]]\n",
    "blueEdges = [[1,2],[2,3],[3,1]]\n",
    "sol = Solution()\n",
    "sol.shortestAlternatingPaths(n, redEdges, blueEdges)    # [0,1,2,3,7]"
   ]
  },
  {
   "cell_type": "code",
   "execution_count": null,
   "id": "41f48b58-088f-4803-9c0e-12a0be7b3672",
   "metadata": {},
   "outputs": [],
   "source": []
  }
 ],
 "metadata": {
  "kernelspec": {
   "display_name": "Python 3 (ipykernel)",
   "language": "python",
   "name": "python3"
  },
  "language_info": {
   "codemirror_mode": {
    "name": "ipython",
    "version": 3
   },
   "file_extension": ".py",
   "mimetype": "text/x-python",
   "name": "python",
   "nbconvert_exporter": "python",
   "pygments_lexer": "ipython3",
   "version": "3.11.5"
  },
  "widgets": {
   "application/vnd.jupyter.widget-state+json": {
    "state": {},
    "version_major": 2,
    "version_minor": 0
   }
  }
 },
 "nbformat": 4,
 "nbformat_minor": 5
}
