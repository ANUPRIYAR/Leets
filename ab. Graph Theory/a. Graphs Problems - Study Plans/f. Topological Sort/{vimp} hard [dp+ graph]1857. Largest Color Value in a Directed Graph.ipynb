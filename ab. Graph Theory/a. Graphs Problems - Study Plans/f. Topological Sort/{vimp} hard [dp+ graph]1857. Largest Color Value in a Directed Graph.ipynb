{
 "cells": [
  {
   "cell_type": "markdown",
   "id": "bf63f5d5-5a14-4204-a5ab-9e8be1d30a59",
   "metadata": {},
   "source": [
    "<h2><a href=\"https://leetcode.com/problems/largest-color-value-in-a-directed-graph/?envType=study-plan-v2&envId=graph-theory\">1857. Largest Color Value in a Directed Graph</a></h2><h3>Hard</h3><hr><p>There is a <strong>directed graph</strong> of <code>n</code> colored nodes and <code>m</code> edges. The nodes are numbered from <code>0</code> to <code>n - 1</code>.</p>\n",
    "\n",
    "<p>You are given a string <code>colors</code> where <code>colors[i]</code> is a lowercase English letter representing the <strong>color</strong> of the <code>i<sup>th</sup></code> node in this graph (<strong>0-indexed</strong>). You are also given a 2D array <code>edges</code> where <code>edges[j] = [a<sub>j</sub>, b<sub>j</sub>]</code> indicates that there is a <strong>directed edge</strong> from node <code>a<sub>j</sub></code> to node <code>b<sub>j</sub></code>.</p>\n",
    "\n",
    "<p>A valid <strong>path</strong> in the graph is a sequence of nodes <code>x<sub>1</sub> -&gt; x<sub>2</sub> -&gt; x<sub>3</sub> -&gt; ... -&gt; x<sub>k</sub></code> such that there is a directed edge from <code>x<sub>i</sub></code> to <code>x<sub>i+1</sub></code> for every <code>1 &lt;= i &lt; k</code>. The <strong>color value</strong> of the path is the number of nodes that are colored the <strong>most frequently</strong> occurring color along that path.</p>\n",
    "\n",
    "<p>Return <em>the <strong>largest color value</strong> of any valid path in the given graph, or </em><code>-1</code><em> if the graph contains a cycle</em>.</p>\n",
    "\n",
    "<p>&nbsp;</p>\n",
    "<p><strong class=\"example\">Example 1:</strong></p>\n",
    "\n",
    "<p><img alt=\"\" src=\"https://assets.leetcode.com/uploads/2021/04/21/leet1.png\" style=\"width: 400px; height: 182px;\" /></p>\n",
    "\n",
    "<pre>\n",
    "<strong>Input:</strong> colors = &quot;abaca&quot;, edges = [[0,1],[0,2],[2,3],[3,4]]\n",
    "<strong>Output:</strong> 3\n",
    "<strong>Explanation:</strong> The path 0 -&gt; 2 -&gt; 3 -&gt; 4 contains 3 nodes that are colored <code>&quot;a&quot; (red in the above image)</code>.\n",
    "</pre>\n",
    "\n",
    "<p><strong class=\"example\">Example 2:</strong></p>\n",
    "\n",
    "<p><img alt=\"\" src=\"https://assets.leetcode.com/uploads/2021/04/21/leet2.png\" style=\"width: 85px; height: 85px;\" /></p>\n",
    "\n",
    "<pre>\n",
    "<strong>Input:</strong> colors = &quot;a&quot;, edges = [[0,0]]\n",
    "<strong>Output:</strong> -1\n",
    "<strong>Explanation:</strong> There is a cycle from 0 to 0.\n",
    "</pre>\n",
    "\n",
    "<p>&nbsp;</p>\n",
    "<p><strong>Constraints:</strong></p>\n",
    "\n",
    "<ul>\n",
    "\t<li><code>n == colors.length</code></li>\n",
    "\t<li><code>m == edges.length</code></li>\n",
    "\t<li><code>1 &lt;= n &lt;= 10<sup>5</sup></code></li>\n",
    "\t<li><code>0 &lt;= m &lt;= 10<sup>5</sup></code></li>\n",
    "\t<li><code>colors</code> consists of lowercase English letters.</li>\n",
    "\t<li><code>0 &lt;= a<sub>j</sub>, b<sub>j</sub>&nbsp;&lt; n</code></li>\n",
    "</ul>"
   ]
  },
  {
   "attachments": {
    "c88b020c-2ced-47c3-9bc3-15937bc5cb2a.png": {
     "image/png": "[encoded data removed]"
    }
   },
   "cell_type": "markdown",
   "id": "cfe5176e-006d-475a-b3d0-72212cde2cf9",
   "metadata": {},
   "source": [
    "![image.png](attachment:c88b020c-2ced-47c3-9bc3-15937bc5cb2a.png)"
   ]
  },
  {
   "cell_type": "code",
   "execution_count": 8,
   "id": "3255bac9-6d4a-457b-8b41-3ee51991e51e",
   "metadata": {},
   "outputs": [],
   "source": [
    "from typing import List\n",
    "from collections import defaultdict, deque\n",
    "\n",
    "class Solution:\n",
    "    def largestPathValue(self, colors: str, edges: List[List[int]]) -> int:\n",
    "        graph = defaultdict(list)\n",
    "        indegree = [0] * len(colors)\n",
    "        for a, b in edges:\n",
    "            graph[a].append(b)\n",
    "            indegree[b] += 1\n",
    "\n",
    "        queue = deque([i for i in range(len(colors)) if indegree[i] == 0])    # add nodes to queue with indegree 0\n",
    "        dp = [[0] * 26 for _ in range(len(colors))]\n",
    "\n",
    "        max_color = -1\n",
    "        while queue:\n",
    "            node = queue.popleft()\n",
    "            color_index = ord(colors[node]) - ord('a')   # get the index of the color\n",
    "            dp[node][color_index] += 1      \n",
    "\n",
    "            max_color = max(max_color, dp[node][color_index])\n",
    "\n",
    "            for neighbor in graph[node]:\n",
    "                indegree[neighbor] -= 1\n",
    "                \n",
    "                for c in range(26):\n",
    "                    dp[neighbor][c] = max(dp[neighbor][c], dp[node][c])   #for all 26 cols , get max out of its color and nodes color\n",
    "                    # print(f\"dp[neighbor][c] : {dp[neighbor][c]}\")\n",
    "\n",
    "                if indegree[neighbor] == 0:\n",
    "                    queue.append(neighbor)\n",
    "\n",
    "\n",
    "        if any(indegree):\n",
    "            return -1\n",
    "\n",
    "        return max_color"
   ]
  },
  {
   "cell_type": "code",
   "execution_count": 9,
   "id": "72d0de7a-0e84-4682-9091-d68fb23e02a4",
   "metadata": {},
   "outputs": [
    {
     "data": {
      "text/plain": [
       "3"
      ]
     },
     "execution_count": 9,
     "metadata": {},
     "output_type": "execute_result"
    }
   ],
   "source": [
    "colors = \"abaca\"\n",
    "edges = [[0,1],[0,2],[2,3],[3,4]]\n",
    "sol = Solution()\n",
    "sol.largestPathValue(colors, edges)"
   ]
  },
  {
   "cell_type": "code",
   "execution_count": null,
   "id": "88f6f537-a315-4431-afe2-4f6825285778",
   "metadata": {},
   "outputs": [],
   "source": []
  }
 ],
 "metadata": {
  "kernelspec": {
   "display_name": "Python 3 (ipykernel)",
   "language": "python",
   "name": "python3"
  },
  "language_info": {
   "codemirror_mode": {
    "name": "ipython",
    "version": 3
   },
   "file_extension": ".py",
   "mimetype": "text/x-python",
   "name": "python",
   "nbconvert_exporter": "python",
   "pygments_lexer": "ipython3",
   "version": "3.11.5"
  },
  "widgets": {
   "application/vnd.jupyter.widget-state+json": {
    "state": {},
    "version_major": 2,
    "version_minor": 0
   }
  }
 },
 "nbformat": 4,
 "nbformat_minor": 5
}
