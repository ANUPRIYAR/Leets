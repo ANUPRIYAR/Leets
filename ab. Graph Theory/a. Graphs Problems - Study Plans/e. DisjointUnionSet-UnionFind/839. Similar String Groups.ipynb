{
 "cells": [
  {
   "cell_type": "markdown",
   "id": "46570193-a602-4aff-adc2-dd6867ff823e",
   "metadata": {},
   "source": [
    "<h2><a href=\"https://leetcode.com/problems/similar-string-groups\">839. Similar String Groups</a></h2><h3>Hard</h3><hr><p>Two strings, <code>X</code> and <code>Y</code>, are considered similar if either they are identical or we can make them equivalent by swapping at most two letters (in distinct positions) within the string <code>X</code>.</p>\n",
    "\n",
    "<p>For example, <code>&quot;tars&quot;</code>&nbsp;and <code>&quot;rats&quot;</code>&nbsp;are similar (swapping at positions <code>0</code> and <code>2</code>), and <code>&quot;rats&quot;</code> and <code>&quot;arts&quot;</code> are similar, but <code>&quot;star&quot;</code> is not similar to <code>&quot;tars&quot;</code>, <code>&quot;rats&quot;</code>, or <code>&quot;arts&quot;</code>.</p>\n",
    "\n",
    "<p>Together, these form two connected groups by similarity: <code>{&quot;tars&quot;, &quot;rats&quot;, &quot;arts&quot;}</code> and <code>{&quot;star&quot;}</code>.&nbsp; Notice that <code>&quot;tars&quot;</code> and <code>&quot;arts&quot;</code> are in the same group even though they are not similar.&nbsp; Formally, each group is such that a word is in the group if and only if it is similar to at least one other word in the group.</p>\n",
    "\n",
    "<p>We are given a list <code>strs</code> of strings where every string in <code>strs</code> is an anagram of every other string in <code>strs</code>. How many groups are there?</p>\n",
    "\n",
    "<p>&nbsp;</p>\n",
    "<p><strong class=\"example\">Example 1:</strong></p>\n",
    "\n",
    "<pre>\n",
    "<strong>Input:</strong> strs = [&quot;tars&quot;,&quot;rats&quot;,&quot;arts&quot;,&quot;star&quot;]\n",
    "<strong>Output:</strong> 2\n",
    "</pre>\n",
    "\n",
    "<p><strong class=\"example\">Example 2:</strong></p>\n",
    "\n",
    "<pre>\n",
    "<strong>Input:</strong> strs = [&quot;omv&quot;,&quot;ovm&quot;]\n",
    "<strong>Output:</strong> 1\n",
    "</pre>\n",
    "\n",
    "<p>&nbsp;</p>\n",
    "<p><strong>Constraints:</strong></p>\n",
    "\n",
    "<ul>\n",
    "\t<li><code>1 &lt;= strs.length &lt;= 300</code></li>\n",
    "\t<li><code>1 &lt;= strs[i].length &lt;= 300</code></li>\n",
    "\t<li><code>strs[i]</code> consists of lowercase letters only.</li>\n",
    "\t<li>All words in <code>strs</code> have the same length and are anagrams of each other.</li>\n",
    "</ul>\n"
   ]
  },
  {
   "attachments": {
    "5a6d2ed7-d110-48df-8b3e-ec603e289d4a.png": {
     "image/png": "[encoded data removed]"
    }
   },
   "cell_type": "markdown",
   "id": "df9e3b8e-7327-4512-ad39-a52c3a20a021",
   "metadata": {},
   "source": [
    "![image.png](attachment:5a6d2ed7-d110-48df-8b3e-ec603e289d4a.png)"
   ]
  },
  {
   "cell_type": "code",
   "execution_count": 25,
   "id": "ada72630-7fa5-4a20-816c-ac05a3898f75",
   "metadata": {},
   "outputs": [],
   "source": [
    "from typing import List\n",
    "\n",
    "class Solution:\n",
    "    def numSimilarGroups(self, strs: List[str]) -> int:\n",
    "        uf = UnionFind(len(strs))\n",
    "\n",
    "        n = len(strs)\n",
    "        for i in range(n):\n",
    "            for j in range(i + 1, n):\n",
    "                if self.find_distance(strs[i], strs[j]) <= 2:   # we will do union of i and j if its distance is less or equal to 2\n",
    "                    uf.union(i, j)\n",
    "\n",
    "        print(f\"uf.root before : {uf.root}\")\n",
    "        for i in range(len(strs)):    # Once after doing all the unions , we run a loop to find_root to reupdate the root list,\n",
    "            root_i = uf.find_root(i)     # this will adjust the roots of the numbers which were found later\n",
    "\n",
    "        print(f\"uf.root : {uf.root}\")\n",
    "        return len(set(uf.root))          # Once all the roots are set , we will give the number of unique roots as answer\n",
    "         \n",
    "        \n",
    "\n",
    "    def find_distance(self, s1, s2):\n",
    "        count = 0\n",
    "        for c1, c2 in zip(s1, s2):\n",
    "            if c1 != c2:\n",
    "                count += 1\n",
    "            if count > 2:\n",
    "                break\n",
    "        return count\n",
    "\n",
    "\n",
    "class UnionFind:\n",
    "    def __init__(self, size):\n",
    "        self.root = list(range(size))\n",
    "        self.rank = [1] * size\n",
    "\n",
    "    def find_root(self, node):\n",
    "        if self.root[node] != node:\n",
    "            self.root[node] = self.find_root(self.root[node])\n",
    "        return self.root[node]\n",
    "\n",
    "    def union(self, u, v):\n",
    "        root_u , root_v = self.find_root(u), self.find_root(v)\n",
    "\n",
    "        if self.rank[root_u] > self.rank[root_v]:\n",
    "            self.root[root_v] = root_u\n",
    "        elif self.rank[root_u] < self.rank[root_v] :\n",
    "            self.root[root_u] = root_v\n",
    "        else:\n",
    "            self.root[root_v] = root_u\n",
    "            self.rank[root_u] += 1"
   ]
  },
  {
   "cell_type": "code",
   "execution_count": 12,
   "id": "557e452b-520d-4368-b490-090d30f1f0df",
   "metadata": {},
   "outputs": [
    {
     "data": {
      "text/plain": [
       "1"
      ]
     },
     "execution_count": 12,
     "metadata": {},
     "output_type": "execute_result"
    }
   ],
   "source": [
    "strs = [\"omv\",\"ovm\"]\n",
    "sol = Solution()\n",
    "sol.numSimilarGroups(strs)"
   ]
  },
  {
   "cell_type": "code",
   "execution_count": 13,
   "id": "2a0904d8-5b77-4aa9-8c6f-77d1c6c297b4",
   "metadata": {},
   "outputs": [
    {
     "data": {
      "text/plain": [
       "1"
      ]
     },
     "execution_count": 13,
     "metadata": {},
     "output_type": "execute_result"
    }
   ],
   "source": [
    "strs = [\"abc\",\"abc\"]\n",
    "sol = Solution()\n",
    "sol.numSimilarGroups(strs)"
   ]
  },
  {
   "cell_type": "code",
   "execution_count": 24,
   "id": "468fcf80-79a2-48aa-b22f-51a94ba02629",
   "metadata": {},
   "outputs": [
    {
     "name": "stdout",
     "output_type": "stream",
     "text": [
      "uf.root before : [0, 0, 4, 1, 4, 4, 0, 4, 1, 2]\n",
      "uf.root : [0, 0, 4, 0, 4, 4, 0, 4, 0, 4]\n"
     ]
    },
    {
     "data": {
      "text/plain": [
       "2"
      ]
     },
     "execution_count": 24,
     "metadata": {},
     "output_type": "execute_result"
    }
   ],
   "source": [
    "strs = [\"ajdidocuyh\",\"djdyaohuic\",\"ddjyhuicoa\",\"djdhaoyuic\",\"ddjoiuycha\",\"ddhoiuycja\",\"ajdydocuih\",\"ddjiouycha\",\"ajdydohuic\",\"ddjyouicha\"]\n",
    "sol = Solution()\n",
    "sol.numSimilarGroups(strs)"
   ]
  },
  {
   "cell_type": "code",
   "id": "2c41a012-a351-4793-aa79-68f8040cd3e8",
   "metadata": {
    "ExecuteTime": {
     "end_time": "2024-06-24T13:58:40.705714Z",
     "start_time": "2024-06-24T13:58:40.702252Z"
    }
   },
   "source": [],
   "outputs": [],
   "execution_count": null
  },
  {
   "metadata": {},
   "cell_type": "code",
   "outputs": [],
   "execution_count": null,
   "source": "",
   "id": "e3ed43d93c03f697"
  }
 ],
 "metadata": {
  "kernelspec": {
   "display_name": "Python 3 (ipykernel)",
   "language": "python",
   "name": "python3"
  },
  "language_info": {
   "codemirror_mode": {
    "name": "ipython",
    "version": 3
   },
   "file_extension": ".py",
   "mimetype": "text/x-python",
   "name": "python",
   "nbconvert_exporter": "python",
   "pygments_lexer": "ipython3",
   "version": "3.11.5"
  },
  "widgets": {
   "application/vnd.jupyter.widget-state+json": {
    "state": {},
    "version_major": 2,
    "version_minor": 0
   }
  }
 },
 "nbformat": 4,
 "nbformat_minor": 5
}
