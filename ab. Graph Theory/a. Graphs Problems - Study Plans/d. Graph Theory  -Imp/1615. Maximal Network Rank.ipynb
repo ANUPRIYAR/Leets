{
 "cells": [
  {
   "cell_type": "markdown",
   "id": "2f1be052-7d34-4cc2-8b78-aa33a05bb2f0",
   "metadata": {},
   "source": [
    "<h2><a href=\"https://leetcode.com/problems/maximal-network-rank\">1615. Maximal Network Rank</a></h2><h3>Medium</h3><hr><p>There is an infrastructure of <code>n</code> cities with some number of <code>roads</code> connecting these cities. Each <code>roads[i] = [a<sub>i</sub>, b<sub>i</sub>]</code> indicates that there is a bidirectional road between cities <code>a<sub>i</sub></code> and <code>b<sub>i</sub></code>.</p>\n",
    "\n",
    "<p>The <strong>network rank</strong><em> </em>of <strong>two different cities</strong> is defined as the total number of&nbsp;<strong>directly</strong> connected roads to <strong>either</strong> city. If a road is directly connected to both cities, it is only counted <strong>once</strong>.</p>\n",
    "\n",
    "<p>The <strong>maximal network rank </strong>of the infrastructure is the <strong>maximum network rank</strong> of all pairs of different cities.</p>\n",
    "\n",
    "<p>Given the integer <code>n</code> and the array <code>roads</code>, return <em>the <strong>maximal network rank</strong> of the entire infrastructure</em>.</p>\n",
    "\n",
    "<p>&nbsp;</p>\n",
    "<p><strong class=\"example\">Example 1:</strong></p>\n",
    "\n",
    "<p><strong><img alt=\"\" src=\"https://assets.leetcode.com/uploads/2020/09/21/ex1.png\" style=\"width: 292px; height: 172px;\" /></strong></p>\n",
    "\n",
    "<pre>\n",
    "<strong>Input:</strong> n = 4, roads = [[0,1],[0,3],[1,2],[1,3]]\n",
    "<strong>Output:</strong> 4\n",
    "<strong>Explanation:</strong> The network rank of cities 0 and 1 is 4 as there are 4 roads that are connected to either 0 or 1. The road between 0 and 1 is only counted once.\n",
    "</pre>\n",
    "\n",
    "<p><strong class=\"example\">Example 2:</strong></p>\n",
    "\n",
    "<p><strong><img alt=\"\" src=\"https://assets.leetcode.com/uploads/2020/09/21/ex2.png\" style=\"width: 292px; height: 172px;\" /></strong></p>\n",
    "\n",
    "<pre>\n",
    "<strong>Input:</strong> n = 5, roads = [[0,1],[0,3],[1,2],[1,3],[2,3],[2,4]]\n",
    "<strong>Output:</strong> 5\n",
    "<strong>Explanation:</strong> There are 5 roads that are connected to cities 1 or 2.\n",
    "</pre>\n",
    "\n",
    "<p><strong class=\"example\">Example 3:</strong></p>\n",
    "\n",
    "<pre>\n",
    "<strong>Input:</strong> n = 8, roads = [[0,1],[1,2],[2,3],[2,4],[5,6],[5,7]]\n",
    "<strong>Output:</strong> 5\n",
    "<strong>Explanation:</strong> The network rank of 2 and 5 is 5. Notice that all the cities do not have to be connected.\n",
    "</pre>\n",
    "\n",
    "<p>&nbsp;</p>\n",
    "<p><strong>Constraints:</strong></p>\n",
    "\n",
    "<ul>\n",
    "\t<li><code>2 &lt;= n &lt;= 100</code></li>\n",
    "\t<li><code>0 &lt;= roads.length &lt;= n * (n - 1) / 2</code></li>\n",
    "\t<li><code>roads[i].length == 2</code></li>\n",
    "\t<li><code>0 &lt;= a<sub>i</sub>, b<sub>i</sub>&nbsp;&lt;= n-1</code></li>\n",
    "\t<li><code>a<sub>i</sub>&nbsp;!=&nbsp;b<sub>i</sub></code></li>\n",
    "\t<li>Each&nbsp;pair of cities has <strong>at most one</strong> road connecting them.</li>\n",
    "</ul>\n"
   ]
  },
  {
   "attachments": {
    "6e0c2633-37ac-44ac-8fff-2884607f9a83.png": {
     "image/png": "[encoded data removed]"
    }
   },
   "cell_type": "markdown",
   "id": "11fb1b0a-3628-472a-b789-b60a92b29a3d",
   "metadata": {},
   "source": [
    "![image.png](attachment:6e0c2633-37ac-44ac-8fff-2884607f9a83.png)"
   ]
  },
  {
   "cell_type": "code",
   "execution_count": null,
   "id": "1f4cb5b7-e51c-4d5a-8372-8e5eaeda835a",
   "metadata": {},
   "outputs": [],
   "source": [
    "from collections import defaultdict\n",
    "class Solution:\n",
    "    def maximalNetworkRank(self, n: int, roads: List[List[int]]) -> int:\n",
    "        degree = [0] * n \n",
    "\n",
    "        for u, v in roads:  # Get degrees of each node, This is an undirected graph so dont need to bother about indegree and outdegeree\n",
    "            degree[u] += 1\n",
    "            degree[v] += 1   \n",
    "\n",
    "        road_set = set(tuple(road) for road in roads)\n",
    "        max_rank = 0\n",
    "\n",
    "        for i in range(n):    \n",
    "            for j in range(i + 1, n):\n",
    "                rank = degree[i] + degree[j]\n",
    "                if (i, j) in road_set or (j, i) in road_set:    # Add degrees of all roads and subtract by 1 if added i, j and j, i combination\n",
    "                    rank -= 1\n",
    "                max_rank = max(max_rank, rank)\n",
    "\n",
    "        return max_rank"
   ]
  }
 ],
 "metadata": {
  "kernelspec": {
   "display_name": "Python 3 (ipykernel)",
   "language": "python",
   "name": "python3"
  },
  "language_info": {
   "codemirror_mode": {
    "name": "ipython",
    "version": 3
   },
   "file_extension": ".py",
   "mimetype": "text/x-python",
   "name": "python",
   "nbconvert_exporter": "python",
   "pygments_lexer": "ipython3",
   "version": "3.11.5"
  },
  "widgets": {
   "application/vnd.jupyter.widget-state+json": {
    "state": {},
    "version_major": 2,
    "version_minor": 0
   }
  }
 },
 "nbformat": 4,
 "nbformat_minor": 5
}
