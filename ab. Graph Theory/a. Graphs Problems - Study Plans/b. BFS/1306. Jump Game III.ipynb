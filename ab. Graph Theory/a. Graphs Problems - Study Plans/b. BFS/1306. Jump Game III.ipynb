{
 "cells": [
  {
   "cell_type": "markdown",
   "id": "3e45880d-8ce3-488b-a2a8-56cc572cb2f8",
   "metadata": {},
   "source": [
    "<h2><a href=\"https://leetcode.com/problems/jump-game-iii/?envType=study-plan-v2&envId=graph-theory\">1306. Jump Game III</a></h2><h3>Medium</h3><hr><p>Given an array of non-negative integers <code>arr</code>, you are initially positioned at <code>start</code>&nbsp;index of the array. When you are at index <code>i</code>, you can jump&nbsp;to <code>i + arr[i]</code> or <code>i - arr[i]</code>, check if you can reach&nbsp;<strong>any</strong> index with value 0.</p>\n",
    "\n",
    "<p>Notice that you can not jump outside of the array at any time.</p>\n",
    "\n",
    "<p>&nbsp;</p>\n",
    "<p><strong class=\"example\">Example 1:</strong></p>\n",
    "\n",
    "<pre>\n",
    "<strong>Input:</strong> arr = [4,2,3,0,3,1,2], start = 5\n",
    "<strong>Output:</strong> true\n",
    "<strong>Explanation:</strong> \n",
    "All possible ways to reach at index 3 with value 0 are: \n",
    "index 5 -&gt; index 4 -&gt; index 1 -&gt; index 3 \n",
    "index 5 -&gt; index 6 -&gt; index 4 -&gt; index 1 -&gt; index 3 \n",
    "</pre>\n",
    "\n",
    "<p><strong class=\"example\">Example 2:</strong></p>\n",
    "\n",
    "<pre>\n",
    "<strong>Input:</strong> arr = [4,2,3,0,3,1,2], start = 0\n",
    "<strong>Output:</strong> true \n",
    "<strong>Explanation: \n",
    "</strong>One possible way to reach at index 3 with value 0 is: \n",
    "index 0 -&gt; index 4 -&gt; index 1 -&gt; index 3\n",
    "</pre>\n",
    "\n",
    "<p><strong class=\"example\">Example 3:</strong></p>\n",
    "\n",
    "<pre>\n",
    "<strong>Input:</strong> arr = [3,0,2,1,2], start = 2\n",
    "<strong>Output:</strong> false\n",
    "<strong>Explanation: </strong>There is no way to reach at index 1 with value 0.\n",
    "</pre>\n",
    "\n",
    "<p>&nbsp;</p>\n",
    "<p><strong>Constraints:</strong></p>\n",
    "\n",
    "<ul>\n",
    "\t<li><code>1 &lt;= arr.length &lt;= 5 * 10<sup>4</sup></code></li>\n",
    "\t<li><code>0 &lt;= arr[i] &lt;&nbsp;arr.length</code></li>\n",
    "\t<li><code>0 &lt;= start &lt; arr.length</code></li>\n",
    "</ul>\n"
   ]
  },
  {
   "attachments": {
    "ca19df34-ce88-4a56-abac-65ff38eb9a62.png": {
     "image/png": "[encoded data removed]"
    }
   },
   "cell_type": "markdown",
   "id": "fc23fb24-3af3-4282-9075-a5d3f5e79f29",
   "metadata": {},
   "source": [
    "![image.png](attachment:ca19df34-ce88-4a56-abac-65ff38eb9a62.png)"
   ]
  },
  {
   "cell_type": "code",
   "execution_count": 1,
   "id": "251d08e0-aafc-43fd-9e77-611e09f80c07",
   "metadata": {},
   "outputs": [],
   "source": [
    "from collections import deque\n",
    "from typing import List\n",
    "\n",
    "class Solution:\n",
    "    def canReach(self, arr: List[int], start: int) -> bool:\n",
    "\n",
    "        visited = set()\n",
    "        queue = deque([start])\n",
    "        visited.add(start)\n",
    "\n",
    "        while queue:\n",
    "            index = queue.popleft()\n",
    "            \n",
    "            if arr[index] == 0:    # EXIT CONDITION\n",
    "                return True\n",
    "\n",
    "            steps = [index + arr[index], index - arr[index]] \n",
    "            for step in steps:\n",
    "                if 0 <= step < len(arr) and step not in visited: # Validating step index\n",
    "                    queue.append(step)\n",
    "                    visited.add(step)\n",
    "\n",
    "        return False\n"
   ]
  },
  {
   "cell_type": "code",
   "execution_count": null,
   "id": "69600cde-87a5-43ac-b9b8-7a1fd235508b",
   "metadata": {},
   "outputs": [],
   "source": []
  }
 ],
 "metadata": {
  "kernelspec": {
   "display_name": "Python 3 (ipykernel)",
   "language": "python",
   "name": "python3"
  },
  "language_info": {
   "codemirror_mode": {
    "name": "ipython",
    "version": 3
   },
   "file_extension": ".py",
   "mimetype": "text/x-python",
   "name": "python",
   "nbconvert_exporter": "python",
   "pygments_lexer": "ipython3",
   "version": "3.11.5"
  },
  "widgets": {
   "application/vnd.jupyter.widget-state+json": {
    "state": {},
    "version_major": 2,
    "version_minor": 0
   }
  }
 },
 "nbformat": 4,
 "nbformat_minor": 5
}
