{
 "cells": [
  {
   "cell_type": "markdown",
   "id": "ba033bbd-6ffe-4027-9ce9-7295833eb67e",
   "metadata": {},
   "source": [
    "<h2><a href=\"https://leetcode.com/problems/01-matrix\">542. 01 Matrix</a></h2><h3>Medium</h3><hr><p>Given an <code>m x n</code> binary matrix <code>mat</code>, return <em>the distance of the nearest </em><code>0</code><em> for each cell</em>.</p>\n",
    "\n",
    "<p>The distance between two adjacent cells is <code>1</code>.</p>\n",
    "\n",
    "<p>&nbsp;</p>\n",
    "<p><strong class=\"example\">Example 1:</strong></p>\n",
    "<img alt=\"\" src=\"https://assets.leetcode.com/uploads/2021/04/24/01-1-grid.jpg\" style=\"width: 253px; height: 253px;\" />\n",
    "<pre>\n",
    "<strong>Input:</strong> mat = [[0,0,0],[0,1,0],[0,0,0]]\n",
    "<strong>Output:</strong> [[0,0,0],[0,1,0],[0,0,0]]\n",
    "</pre>\n",
    "\n",
    "<p><strong class=\"example\">Example 2:</strong></p>\n",
    "<img alt=\"\" src=\"https://assets.leetcode.com/uploads/2021/04/24/01-2-grid.jpg\" style=\"width: 253px; height: 253px;\" />\n",
    "<pre>\n",
    "<strong>Input:</strong> mat = [[0,0,0],[0,1,0],[1,1,1]]\n",
    "<strong>Output:</strong> [[0,0,0],[0,1,0],[1,2,1]]\n",
    "</pre>\n",
    "\n",
    "<p>&nbsp;</p>\n",
    "<p><strong>Constraints:</strong></p>\n",
    "\n",
    "<ul>\n",
    "\t<li><code>m == mat.length</code></li>\n",
    "\t<li><code>n == mat[i].length</code></li>\n",
    "\t<li><code>1 &lt;= m, n &lt;= 10<sup>4</sup></code></li>\n",
    "\t<li><code>1 &lt;= m * n &lt;= 10<sup>4</sup></code></li>\n",
    "\t<li><code>mat[i][j]</code> is either <code>0</code> or <code>1</code>.</li>\n",
    "\t<li>There is at least one <code>0</code> in <code>mat</code>.</li>\n",
    "</ul>\n"
   ]
  },
  {
   "cell_type": "markdown",
   "id": "8cb4a81e-b4a2-4eb4-98c9-03a6f066039a",
   "metadata": {},
   "source": []
  },
  {
   "cell_type": "code",
   "execution_count": 2,
   "id": "52c63314-3ac7-41ff-8f38-e89ea426878b",
   "metadata": {},
   "outputs": [],
   "source": [
    "# Intuition: We can use Bfs Traversal to get the distance to nearest 0 (cant use dfs)\n",
    "# because bfs goes level by lebel , and in matrix the next level is surrounding 4 nodes \n",
    "# In the queue, we add extra parmeter called d, which will be 0 for initial node \n",
    "from collections import deque\n",
    "from typing import List\n",
    "\n",
    "class Solution:\n",
    "    def updateMatrix(self, mat: List[List[int]]) -> List[List[int]]:\n",
    "        visited = set()\n",
    "        directions = [(1, 0), (-1, 0), (0,1), (0, -1)]\n",
    "        output = [[0 for _ in range(len(mat[0]))] for _ in range(len(mat))]\n",
    "\n",
    "        queue = deque()\n",
    "        for i in range(len(mat)):\n",
    "            for j in range(len(mat[0])):\n",
    "                if mat[i][j] == 0:\n",
    "                    queue.append(((i,j), 0))\n",
    "                    visited.add((i,j))               # Marking all 0s as visited, so that we only update(reach) corrdinates (x,y) through BFS which were 1 earlier\n",
    "\n",
    "        while queue:\n",
    "            (x,y), d = queue.popleft()\n",
    "            output[x][y] = d\n",
    "\n",
    "            \n",
    "            for dx, dy in directions:\n",
    "                if 0 <= x + dx <len(mat) and 0<= y + dy <len(mat[0]) and (x+dx, y+dy) not in visited:\n",
    "                    queue.append(((x+dx, y+dy), d + 1))\n",
    "                    visited.add((x+dx, y+dy))\n",
    "\n",
    "        return output"
   ]
  },
  {
   "cell_type": "code",
   "execution_count": null,
   "id": "09f11bff-0e06-42ad-a914-9496e2f637be",
   "metadata": {},
   "outputs": [],
   "source": []
  }
 ],
 "metadata": {
  "kernelspec": {
   "display_name": "Python 3 (ipykernel)",
   "language": "python",
   "name": "python3"
  },
  "language_info": {
   "codemirror_mode": {
    "name": "ipython",
    "version": 3
   },
   "file_extension": ".py",
   "mimetype": "text/x-python",
   "name": "python",
   "nbconvert_exporter": "python",
   "pygments_lexer": "ipython3",
   "version": "3.11.5"
  },
  "widgets": {
   "application/vnd.jupyter.widget-state+json": {
    "state": {},
    "version_major": 2,
    "version_minor": 0
   }
  }
 },
 "nbformat": 4,
 "nbformat_minor": 5
}
