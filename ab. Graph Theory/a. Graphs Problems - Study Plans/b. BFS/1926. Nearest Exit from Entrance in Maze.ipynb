{
 "cells": [
  {
   "cell_type": "markdown",
   "id": "9899a32d-6fe3-427c-8aae-80cbff1e32e2",
   "metadata": {},
   "source": [
    "<h2><a href=\"https://leetcode.com/problems/nearest-exit-from-entrance-in-maze\">1926. Nearest Exit from Entrance in Maze</a></h2><h3>Medium</h3><hr><p>You are given an <code>m x n</code> matrix <code>maze</code> (<strong>0-indexed</strong>) with empty cells (represented as <code>&#39;.&#39;</code>) and walls (represented as <code>&#39;+&#39;</code>). You are also given the <code>entrance</code> of the maze, where <code>entrance = [entrance<sub>row</sub>, entrance<sub>col</sub>]</code> denotes the row and column of the cell you are initially standing at.</p>\n",
    "\n",
    "<p>In one step, you can move one cell <strong>up</strong>, <strong>down</strong>, <strong>left</strong>, or <strong>right</strong>. You cannot step into a cell with a wall, and you cannot step outside the maze. Your goal is to find the <strong>nearest exit</strong> from the <code>entrance</code>. An <strong>exit</strong> is defined as an <strong>empty cell</strong> that is at the <strong>border</strong> of the <code>maze</code>. The <code>entrance</code> <strong>does not count</strong> as an exit.</p>\n",
    "\n",
    "<p>Return <em>the <strong>number of steps</strong> in the shortest path from the </em><code>entrance</code><em> to the nearest exit, or </em><code>-1</code><em> if no such path exists</em>.</p>\n",
    "\n",
    "<p>&nbsp;</p>\n",
    "<p><strong class=\"example\">Example 1:</strong></p>\n",
    "<img alt=\"\" src=\"https://assets.leetcode.com/uploads/2021/06/04/nearest1-grid.jpg\" style=\"width: 333px; height: 253px;\" />\n",
    "<pre>\n",
    "<strong>Input:</strong> maze = [[&quot;+&quot;,&quot;+&quot;,&quot;.&quot;,&quot;+&quot;],[&quot;.&quot;,&quot;.&quot;,&quot;.&quot;,&quot;+&quot;],[&quot;+&quot;,&quot;+&quot;,&quot;+&quot;,&quot;.&quot;]], entrance = [1,2]\n",
    "<strong>Output:</strong> 1\n",
    "<strong>Explanation:</strong> There are 3 exits in this maze at [1,0], [0,2], and [2,3].\n",
    "Initially, you are at the entrance cell [1,2].\n",
    "- You can reach [1,0] by moving 2 steps left.\n",
    "- You can reach [0,2] by moving 1 step up.\n",
    "It is impossible to reach [2,3] from the entrance.\n",
    "Thus, the nearest exit is [0,2], which is 1 step away.\n",
    "</pre>\n",
    "\n",
    "<p><strong class=\"example\">Example 2:</strong></p>\n",
    "<img alt=\"\" src=\"https://assets.leetcode.com/uploads/2021/06/04/nearesr2-grid.jpg\" style=\"width: 253px; height: 253px;\" />\n",
    "<pre>\n",
    "<strong>Input:</strong> maze = [[&quot;+&quot;,&quot;+&quot;,&quot;+&quot;],[&quot;.&quot;,&quot;.&quot;,&quot;.&quot;],[&quot;+&quot;,&quot;+&quot;,&quot;+&quot;]], entrance = [1,0]\n",
    "<strong>Output:</strong> 2\n",
    "<strong>Explanation:</strong> There is 1 exit in this maze at [1,2].\n",
    "[1,0] does not count as an exit since it is the entrance cell.\n",
    "Initially, you are at the entrance cell [1,0].\n",
    "- You can reach [1,2] by moving 2 steps right.\n",
    "Thus, the nearest exit is [1,2], which is 2 steps away.\n",
    "</pre>\n",
    "\n",
    "<p><strong class=\"example\">Example 3:</strong></p>\n",
    "<img alt=\"\" src=\"https://assets.leetcode.com/uploads/2021/06/04/nearest3-grid.jpg\" style=\"width: 173px; height: 93px;\" />\n",
    "<pre>\n",
    "<strong>Input:</strong> maze = [[&quot;.&quot;,&quot;+&quot;]], entrance = [0,0]\n",
    "<strong>Output:</strong> -1\n",
    "<strong>Explanation:</strong> There are no exits in this maze.\n",
    "</pre>\n",
    "\n",
    "<p>&nbsp;</p>\n",
    "<p><strong>Constraints:</strong></p>\n",
    "\n",
    "<ul>\n",
    "\t<li><code>maze.length == m</code></li>\n",
    "\t<li><code>maze[i].length == n</code></li>\n",
    "\t<li><code>1 &lt;= m, n &lt;= 100</code></li>\n",
    "\t<li><code>maze[i][j]</code> is either <code>&#39;.&#39;</code> or <code>&#39;+&#39;</code>.</li>\n",
    "\t<li><code>entrance.length == 2</code></li>\n",
    "\t<li><code>0 &lt;= entrance<sub>row</sub> &lt; m</code></li>\n",
    "\t<li><code>0 &lt;= entrance<sub>col</sub> &lt; n</code></li>\n",
    "\t<li><code>entrance</code> will always be an empty cell.</li>\n",
    "</ul>\n"
   ]
  },
  {
   "cell_type": "markdown",
   "id": "ad76e292-ec04-4582-9ae6-1c6f45a51e24",
   "metadata": {},
   "source": [
    "## Time Limit Excceeded\n"
   ]
  },
  {
   "cell_type": "code",
   "execution_count": 1,
   "id": "59edf543-2471-4f6c-a476-f4638a4b21c0",
   "metadata": {},
   "outputs": [],
   "source": [
    "from collections import deque\n",
    "from typing import List\n",
    "class Solution:\n",
    "    def nearestExit(self, maze: List[List[str]], entrance: List[int]) -> int:\n",
    "        vis = [[False for _ in range(len(maze[0]))] for _ in range(len(maze))]\n",
    "        count = 0\n",
    "        directions = [(1,0), (-1, 0), (0, 1), (0, -1)]\n",
    "        queue = deque([((entrance) , 0)])\n",
    "        rows = len(maze)\n",
    "        cols = len(maze[0])\n",
    "\n",
    "        # find exits\n",
    "        # Horizontal\n",
    "        exits = set()\n",
    "        for i in range(len(maze[0])):\n",
    "            if [0,i] != entrance and maze[0][i] != '+':\n",
    "                exits.add((0,i))\n",
    "\n",
    "            if [rows-1,i] != entrance and maze[rows -1][i] != '+':\n",
    "                exits.add((rows -1,i))\n",
    "\n",
    "        for i in range(len(maze)):\n",
    "            if [i,0] != entrance and maze[i][0] != '+':\n",
    "                exits.add((i, 0))\n",
    "\n",
    "            if [i, cols -1] != entrance and maze[i][cols -1] != '+':\n",
    "                exits.add((i,cols -1))\n",
    "\n",
    "        # print(exits)\n",
    "        if len(exits) == 0:\n",
    "            return -1\n",
    "\n",
    "        while queue:\n",
    "            (x, y), d = queue.popleft()\n",
    "            vis[x][y] = True\n",
    "            if (x,y) in exits:\n",
    "                return d\n",
    "\n",
    "            for dx, dy in directions:\n",
    "                if 0 <= x + dx <len(maze) and 0 <= y + dy <len(maze[0]) and maze[x+dx][y+dy] != '+' and vis[x+dx][y+dy] == False:\n",
    "                    queue.append(((x +dx, y + dy), d + 1))\n",
    "        return -1"
   ]
  },
  {
   "attachments": {
    "818fb217-89d0-442f-950a-619020e49761.png": {
     "image/png": "[encoded data removed]"
    }
   },
   "cell_type": "markdown",
   "id": "23744483-47b3-43cd-b158-6a3c1b040512",
   "metadata": {},
   "source": [
    "## Passed after changing just one condition of visit\n",
    "![image.png](attachment:818fb217-89d0-442f-950a-619020e49761.png)"
   ]
  },
  {
   "cell_type": "code",
   "execution_count": 3,
   "id": "63ddd98a-12e0-4d93-81e9-0013929cd52f",
   "metadata": {},
   "outputs": [],
   "source": [
    "from collections import deque\n",
    "class Solution:\n",
    "    def nearestExit(self, maze: List[List[str]], entrance: List[int]) -> int:\n",
    "        vis = [[False for _ in range(len(maze[0]))] for _ in range(len(maze))]\n",
    "\n",
    "        directions = [(1,0), (-1, 0), (0, 1), (0, -1)]\n",
    "        queue = deque([((entrance) , 0)])\n",
    "        rows, cols = len(maze), len(maze[0])\n",
    "\n",
    "\n",
    "        while queue:\n",
    "            (x, y), d = queue.popleft()\n",
    "            # vis[x][y] = True\n",
    "\n",
    "            if ((x  == 0) or (x == rows -1) or (y == 0) or (y== cols -1)) and [x,y] != entrance:\n",
    "                        return d \n",
    "\n",
    "            for dx, dy in directions:\n",
    "                if 0 <= x + dx <len(maze) and 0 <= y + dy <len(maze[0]) and maze[x+dx][y+dy] != '+' and vis[x+dx][y+dy] == False:\n",
    "                    queue.append(((x + dx, y + dy), d + 1))\n",
    "                    vis[x+dx][y+dy] = True           # added visit here \n",
    "\n",
    "\n",
    "        return -1"
   ]
  },
  {
   "cell_type": "code",
   "id": "88f6a8c7-7b29-4abd-ac4b-e4c100eb7138",
   "metadata": {
    "ExecuteTime": {
     "end_time": "2024-06-12T17:55:01.416409Z",
     "start_time": "2024-06-12T17:55:01.403262Z"
    }
   },
   "source": [],
   "outputs": [],
   "execution_count": null
  },
  {
   "metadata": {},
   "cell_type": "code",
   "outputs": [],
   "execution_count": null,
   "source": "",
   "id": "edba5cba5ce7aec9"
  }
 ],
 "metadata": {
  "kernelspec": {
   "display_name": "Python 3 (ipykernel)",
   "language": "python",
   "name": "python3"
  },
  "language_info": {
   "codemirror_mode": {
    "name": "ipython",
    "version": 3
   },
   "file_extension": ".py",
   "mimetype": "text/x-python",
   "name": "python",
   "nbconvert_exporter": "python",
   "pygments_lexer": "ipython3",
   "version": "3.11.5"
  },
  "widgets": {
   "application/vnd.jupyter.widget-state+json": {
    "state": {},
    "version_major": 2,
    "version_minor": 0
   }
  }
 },
 "nbformat": 4,
 "nbformat_minor": 5
}
