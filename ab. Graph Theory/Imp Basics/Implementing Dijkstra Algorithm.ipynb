{
 "cells": [
  {
   "cell_type": "markdown",
   "id": "42a869fa-a176-4f50-bb0e-acc7ccf657d5",
   "metadata": {},
   "source": [
    "## Implementing Dijkstra Algorithm\n",
    "MediumAccuracy: 50.83%Submissions: 150K+Points: 4\n",
    "\n",
    "\n",
    "Given a weighted, undirected and connected graph of V vertices and an adjacency list adj where adj[i] is a list of lists containing two integers where the first integer of each list j denotes there is edge between i and j , second integers corresponds to the weight of that  edge . You are given the source vertex S and You to Find the shortest distance of all the vertex's from the source vertex S. You have to return a list of integers denoting shortest distance between each node and Source vertex S.\n",
    " \n",
    "\n",
    "Note: The Graph doesn't contain any negative weight cycle.\n",
    "\n",
    " \n",
    "\n",
    "Example 1:  \n",
    "\n",
    "Input:  \n",
    "V = 2  \n",
    "adj [] = {{{1, 9}}, {{0, 9}}}  \n",
    "S = 0  \n",
    "Output:  \n",
    "0 9   \n",
    "Explanation:  \n",
    "\n",
    "The source vertex is 0. Hence, the shortest  \n",
    "distance of node 0 is 0 and the shortest   \n",
    "distance from node 1 is 9.  \n",
    " \n",
    "\n",
    "Example 2:  \n",
    "\n",
    "Input:  \n",
    "V = 3, E = 3  \n",
    "adj = {{{1, 1}, {2, 6}}, {{2, 3}, {0, 1}}, {{1, 3}, {0, 6}}}  \n",
    "S = 2  \n",
    "Output:  \n",
    "4 3 0  \n",
    "Explanation:  \n",
    "\n",
    "For nodes 2 to 0, we can follow the path-  \n",
    "2-1-0. This has a distance of 1+3 = 4,  \n",
    "whereas the path 2-0 has a distance of 6. So,  \n",
    "the Shortest path from 2 to 0 is 4.  \n",
    "The shortest distance from 0 to 1 is 1 .  \n",
    " \n",
    "\n",
    "Your Task:  \n",
    "You don't need to read input or print anything. Your task is to complete the function dijkstra()  which takes the number of vertices V and an adjacency list adj as input parameters and Source vertex S returns a list of integers, where ith integer denotes the shortest distance of the ith node from the Source node. Here adj[i] contains a list of lists containing two integers where the first integer j denotes that there is an edge between i and j and the second integer w denotes that the weight between edge i and j is w.  \n",
    "\n",
    " \n",
    " \n",
    "Expected Time Complexity: O(V2).  \n",
    "Expected Auxiliary Space: O(V2).  \n",
    "\n",
    " \n",
    "\n",
    "Constraints:  \n",
    "1 ≤ V ≤ 1000   \n",
    "0 ≤ adj[i][j] ≤ 1000  \n",
    "1 ≤ adj.size() ≤ [ (V*(V - 1)) / 2 ]  \n",
    "0 ≤ S < V  "
   ]
  },
  {
   "cell_type": "markdown",
   "id": "7c975d08-68ad-410e-b4a7-fcf9bdeddaf1",
   "metadata": {},
   "source": [
    "## Using Minheap\n"
   ]
  },
  {
   "cell_type": "code",
   "execution_count": null,
   "id": "f195c3a4-0fd2-4d30-9c79-5eaf2ce105f8",
   "metadata": {},
   "outputs": [],
   "source": [
    "import heapq\n",
    "import math\n",
    "\n",
    "class Solution:\n",
    "\n",
    "    #Function to find the shortest distance of all the vertices\n",
    "    #from the source vertex S.\n",
    "    def dijkstra(self, V, adj, S):\n",
    "        \n",
    "        dist = [math.inf]* V\n",
    "        \n",
    "        # Create minheap\n",
    "        pq = []\n",
    "        \n",
    "        # Set the distance from source to source as 0\n",
    "        dist[S] = 0\n",
    "        heapq.heappush(pq, (0, S))\n",
    "        \n",
    "        while pq:\n",
    "            dis, node = heapq.heappop(pq)\n",
    "\n",
    "            # Explore the nighbours of the current vertex\n",
    "            for neighbour in adj[node]:\n",
    "                curnode = neighbour[0]\n",
    "                curdist = neighbour[1]\n",
    "                \n",
    "                \n",
    "                if dist[node] + curdist < dist[curnode]:  # Compare previous node dist plus current weight with dist at current node \n",
    "                    dist[curnode] = dist[node] + curdist   # and if smaller, update dist at current node\n",
    "                    heapq.heappush(pq, (dist[curnode], curnode))\n",
    "                    \n",
    "        return dist"
   ]
  }
 ],
 "metadata": {
  "kernelspec": {
   "display_name": "Python 3 (ipykernel)",
   "language": "python",
   "name": "python3"
  },
  "language_info": {
   "codemirror_mode": {
    "name": "ipython",
    "version": 3
   },
   "file_extension": ".py",
   "mimetype": "text/x-python",
   "name": "python",
   "nbconvert_exporter": "python",
   "pygments_lexer": "ipython3",
   "version": "3.11.5"
  },
  "widgets": {
   "application/vnd.jupyter.widget-state+json": {
    "state": {},
    "version_major": 2,
    "version_minor": 0
   }
  }
 },
 "nbformat": 4,
 "nbformat_minor": 5
}
