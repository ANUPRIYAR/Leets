{
 "cells": [
  {
   "cell_type": "markdown",
   "id": "beceab10-7470-4299-8326-fcd721860a4b",
   "metadata": {},
   "source": [
    "## Find Min spanning Tree"
   ]
  },
  {
   "cell_type": "code",
   "execution_count": 2,
   "id": "99eba172-56dc-4149-9fc1-0770736de975",
   "metadata": {},
   "outputs": [],
   "source": [
    "class DisjointSet:\n",
    "    def __init__(self, n):\n",
    "        self.rank = [0]* (n+1)\n",
    "        self.parent = list(range(n+1))\n",
    "        self.size = [0]*(n+1)\n",
    "\n",
    "    def findUltPar(self, node):\n",
    "        if self.parent[node] == node:\n",
    "            return node\n",
    "        self.parent[node] = self.findUltPar(node)\n",
    "        return self.parent[node]\n",
    "\n",
    "    def UnionByRank(self, u, v):\n",
    "        ult_u = self.findUltPar(u)\n",
    "        ult_v = self.findUltPar(v)\n",
    "        if ult_u  == ult_v:\n",
    "            return\n",
    "\n",
    "        if self.rank[ult_u] > self.rank[ult_v]:\n",
    "            self.parent[ult_v] = ult_u\n",
    "        elif self.rank[ult_u] < self.rank[ult_v]:\n",
    "            self.parent[ult_u] = ult_v\n",
    "        else:\n",
    "            self.parent[ult_v] = ult_u\n",
    "            self.rank[ult_u] += 1\n",
    "\n",
    "    def UnionBySize(self, u, v):\n",
    "        ult_u = self.findUltPar(u)\n",
    "        ult_v = self.findUltPar(v)\n",
    "        if ult_u == ult_v:\n",
    "            return\n",
    "\n",
    "        if self.size[ult_u] < self.size[ult_v]:\n",
    "            self.parent[ult_u] = ult_v\n",
    "            self.size[ult_v] += self.size[ult_u]\n",
    "        else:\n",
    "            self.parent[ult_v] = ult_u\n",
    "            self.size[ult_u] += self.size[ult_v]\n",
    "\n",
    "class Solution:\n",
    "    def spanningTree(self, V, adj):\n",
    "        edges = []\n",
    "        for i in range(V):     # Create edges\n",
    "            for it in adj[i]:\n",
    "                adjnode, wt = it[0], it[1]\n",
    "                node = i\n",
    "                edges.append((wt, (node, adjnode)))\n",
    "\n",
    "        ds = DisjointSet(V)    # Initialize DisjointSet object instance\n",
    "\n",
    "        edges.sort()            # Sort the edges by weight  ==> important step\n",
    "\n",
    "        min_span_tree_wt = 0\n",
    "        for it in edges:\n",
    "            wt, nodes = it[0], it[1]   # get current weight and nodes u, v\n",
    "            u, v = nodes[0], nodes[1]\n",
    "\n",
    "            if ds.findUltPar(u) != ds.findUltPar(v):  # check if ultimate parent of current node is not same as other\n",
    "                min_span_tree_wt += wt          # then add up the current weight for min spanning tree weight\n",
    "                ds.UnionBySize(u, v)          # do union of u and v by size\n",
    "        return min_span_tree_wt"
   ]
  },
  {
   "cell_type": "code",
   "execution_count": null,
   "id": "74e6d55f-21d7-4930-a8da-b792b9407f50",
   "metadata": {},
   "outputs": [],
   "source": []
  }
 ],
 "metadata": {
  "kernelspec": {
   "display_name": "Python 3 (ipykernel)",
   "language": "python",
   "name": "python3"
  },
  "language_info": {
   "codemirror_mode": {
    "name": "ipython",
    "version": 3
   },
   "file_extension": ".py",
   "mimetype": "text/x-python",
   "name": "python",
   "nbconvert_exporter": "python",
   "pygments_lexer": "ipython3",
   "version": "3.11.5"
  },
  "widgets": {
   "application/vnd.jupyter.widget-state+json": {
    "state": {},
    "version_major": 2,
    "version_minor": 0
   }
  }
 },
 "nbformat": 4,
 "nbformat_minor": 5
}
