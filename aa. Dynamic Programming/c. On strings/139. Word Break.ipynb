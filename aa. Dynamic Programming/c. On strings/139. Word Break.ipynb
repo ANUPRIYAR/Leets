{
 "cells": [
  {
   "cell_type": "code",
   "execution_count": 3,
   "id": "a5014183-eb0f-4565-ab23-28f4b5406b3c",
   "metadata": {},
   "outputs": [],
   "source": [
    "s = \"leetcode\"\n",
    "s = s.split('leet')"
   ]
  },
  {
   "cell_type": "code",
   "execution_count": 4,
   "id": "47f87dd7-d37e-4807-9925-38b1fcc3124f",
   "metadata": {},
   "outputs": [
    {
     "data": {
      "text/plain": [
       "'code'"
      ]
     },
     "execution_count": 4,
     "metadata": {},
     "output_type": "execute_result"
    }
   ],
   "source": [
    "''.join(s)"
   ]
  },
  {
   "cell_type": "code",
   "execution_count": null,
   "id": "c6bbaa59-6d4c-450e-a54b-ddf168ccc7fd",
   "metadata": {},
   "outputs": [],
   "source": [
    "class Solution:\n",
    "    def wordBreak(self, s: str, wordDict: List[str]) -> bool:\n",
    "        new_s = s\n",
    "        for word in wordDict:\n",
    "            if self.helper(new_s, wordDict, 0, word, 0):\n",
    "                new_s = s.split(word)\n",
    "                new_s = ''.join(new_s)\n",
    "            else:\n",
    "                return False\n",
    "        return True\n",
    "\n",
    "    def helper(self, s, words, idx, word, widx):\n",
    "        if widx >= len(word):\n",
    "            return True\n",
    "\n",
    "        if idx >= len(s) and widx < len(word):\n",
    "            return False\n",
    "\n",
    "        if s[idx] == word[widx]:\n",
    "            if self.helper(s, words, idx + 1, word, widx + 1):\n",
    "                s = s[:idx] + s[idx +len(word):] \n",
    "                print(s)\n",
    "                return True\n",
    "\n",
    "        return self.helper(s, words, idx + 1, word, widx)\n",
    "        "
   ]
  },
  {
   "cell_type": "code",
   "execution_count": 2,
   "id": "c45007b5-f9cb-4ef8-823a-eec7d56c51bc",
   "metadata": {},
   "outputs": [],
   "source": [
    "from typing import List\n",
    "\n",
    "class Solution:\n",
    "    def wordBreak(self, s: str, wordDict: List[str]) -> bool:\n",
    "        newstring = ''\n",
    "        if not self.helper(s, wordDict, 0, newstring ):\n",
    "            return False\n",
    "\n",
    "        return True\n",
    "\n",
    "    def helper(self, s, words, widx, ns):\n",
    "        if ns == s:\n",
    "            return True\n",
    "\n",
    "        if widx >= len(words) -1:\n",
    "            return False\n",
    "            \n",
    "        if len(ns) > len(s):\n",
    "            return False\n",
    "\n",
    "\n",
    "        if len(ns) <= len(s):\n",
    "            # print(words[widx])\n",
    "            print(f\"ns: {ns}\")\n",
    "            if self.helper(s, words, widx + 1, ns + words[widx]):\n",
    "                print(ns)\n",
    "                return True\n",
    "                \n",
    "        if self.helper(s, words, widx + 1, ns):\n",
    "            return True"
   ]
  },
  {
   "cell_type": "code",
   "execution_count": 3,
   "id": "07bc9d41-0d37-47bd-90eb-fe6644f991cb",
   "metadata": {},
   "outputs": [
    {
     "name": "stdout",
     "output_type": "stream",
     "text": [
      "ns: \n"
     ]
    },
    {
     "data": {
      "text/plain": [
       "False"
      ]
     },
     "execution_count": 3,
     "metadata": {},
     "output_type": "execute_result"
    }
   ],
   "source": [
    "s = \"leetcode\"\n",
    "wordDict = [\"leet\",\"code\"]\n",
    "sol = Solution()\n",
    "sol.wordBreak(s, wordDict)"
   ]
  },
  {
   "cell_type": "code",
   "execution_count": null,
   "id": "81083963-ef05-47dd-80fe-bf405a065dc6",
   "metadata": {},
   "outputs": [],
   "source": []
  },
  {
   "cell_type": "code",
   "execution_count": null,
   "id": "e885914e-29ee-47c4-9208-6749363ca32f",
   "metadata": {},
   "outputs": [],
   "source": []
  },
  {
   "cell_type": "code",
   "execution_count": null,
   "id": "c868d152-f218-47cb-af5f-3628b3c8dda6",
   "metadata": {},
   "outputs": [],
   "source": []
  }
 ],
 "metadata": {
  "kernelspec": {
   "display_name": "Python 3 (ipykernel)",
   "language": "python",
   "name": "python3"
  },
  "language_info": {
   "codemirror_mode": {
    "name": "ipython",
    "version": 3
   },
   "file_extension": ".py",
   "mimetype": "text/x-python",
   "name": "python",
   "nbconvert_exporter": "python",
   "pygments_lexer": "ipython3",
   "version": "3.11.5"
  },
  "widgets": {
   "application/vnd.jupyter.widget-state+json": {
    "state": {},
    "version_major": 2,
    "version_minor": 0
   }
  }
 },
 "nbformat": 4,
 "nbformat_minor": 5
}
