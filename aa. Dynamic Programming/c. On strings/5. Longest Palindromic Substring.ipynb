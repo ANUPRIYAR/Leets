{
 "cells": [
  {
   "cell_type": "raw",
   "id": "1b46a5b7-6011-4a73-bad3-83ba6ec8d1e0",
   "metadata": {},
   "source": [
    "5. Longest Palindromic Substring\n",
    "Attempted\n",
    "Medium\n",
    "Topics\n",
    "Companies\n",
    "Hint\n",
    "Given a string s, return the longest \n",
    "palindromic\n",
    " \n",
    "substring\n",
    " in s.\n",
    "\n",
    "Example 1:\n",
    "\n",
    "Input: s = \"babad\"\n",
    "Output: \"bab\"\n",
    "Explanation: \"aba\" is also a valid answer.\n",
    "Example 2:\n",
    "\n",
    "Input: s = \"cbbd\"\n",
    "Output: \"bb\"\n",
    " \n",
    "\n",
    "Constraints:\n",
    "\n",
    "1 <= s.length <= 1000\n",
    "s consist of only digits and English letters."
   ]
  },
  {
   "cell_type": "code",
   "execution_count": 22,
   "id": "da5f31f6-ff25-4652-a279-913366c594cd",
   "metadata": {},
   "outputs": [],
   "source": [
    "##NOT WORKING  , oNE REASON ITMIGHT BE NOT WORKING WAS I WAS max() TO GET MAXLENGTH SO STRING WAS GETTING REPLACED EVERYTIME.\n",
    "\n",
    "# class Solution:\n",
    "#     def __init__(self):\n",
    "#         self.maxstring = ''\n",
    "#         self.maxlength = 0\n",
    "\n",
    "#     def longestPalindrome(self, s: str) -> str:\n",
    "#         if len(s) == 1:\n",
    "#             return s\n",
    "#         dp = [[-1 for _ in range(len(s))] for _ in range(len(s))]\n",
    "#         self.helper(dp, s, 0, len(s) - 1)\n",
    "#         return self.maxstring\n",
    "\n",
    "#     def helper(self, dp,  s, start, end):\n",
    "#         if start > end:\n",
    "#             return 0\n",
    "\n",
    "#         if start == end:\n",
    "#             if self.maxstring == '':\n",
    "#                 self.maxstring = s[start]\n",
    "#             return 1\n",
    "\n",
    "#         c1 = 0\n",
    "#         if dp[start][end] != -1:\n",
    "#             return dp[start][end]\n",
    "\n",
    "#         if s[start] == s[end]:\n",
    "#             i = start\n",
    "#             j = end\n",
    "#             print(f\"inside\")\n",
    "#             print(f\"checking ..  {s[start :end + 1]}\")\n",
    "#             remlength = end - start -1 \n",
    "#             print(f\"remlength: {remlength}\")\n",
    "#             if remlength == self.helper(dp, s, start + 1, end -1):\n",
    "#                 print(f\"maxlength: {self.maxlength}\")\n",
    "#                 if self.maxlength < remlength + 2:\n",
    "#                     self.maxlength = remlength + 2\n",
    "#                     self.maxstring = s[start : end + 1]\n",
    "#                     print(self.maxstring)\n",
    "#                 dp[start][end] = remlength + 2\n",
    "#         else:\n",
    "#             c2  = self.helper(dp, s, start + 1, end)\n",
    "#             c3  = self.helper(dp, s, start, end -1 )\n",
    "#             dp[start][end] = max(c1, c2)\n",
    "#         print(f\"maxlength ata end: {self.maxlength}\")\n",
    "#         return dp[start][end]"
   ]
  },
  {
   "cell_type": "code",
   "execution_count": 23,
   "id": "4e21915e-ff0d-4f9e-b465-97ca9e7921c8",
   "metadata": {},
   "outputs": [
    {
     "name": "stdout",
     "output_type": "stream",
     "text": [
      "inside\n",
      "checking ..  aacabdkacaa\n",
      "remlength: 9\n",
      "inside\n",
      "checking ..  acabdkaca\n",
      "remlength: 7\n",
      "inside\n",
      "checking ..  cabdkac\n",
      "remlength: 5\n",
      "inside\n",
      "checking ..  abdka\n",
      "remlength: 3\n",
      "maxlength ata end: 0\n",
      "maxlength ata end: 0\n",
      "maxlength ata end: 0\n",
      "maxlength ata end: 0\n",
      "maxlength ata end: 0\n",
      "maxlength ata end: 0\n",
      "maxlength ata end: 0\n",
      "k\n"
     ]
    }
   ],
   "source": [
    "# s = \"ac\"\n",
    "sol = Solution()\n",
    "# print(sol.longestPalindrome(s))\n",
    "\n",
    "# s = \"babad\"\n",
    "# print(sol.longestPalindrome(s))\n",
    "\n",
    "s = \"aacabdkacaa\"\n",
    "print(sol.longestPalindrome(s))"
   ]
  },
  {
   "cell_type": "code",
   "execution_count": null,
   "id": "965636cb-abaf-4c2e-80d0-3b44e7fd217f",
   "metadata": {},
   "outputs": [],
   "source": [
    "s = \"ac\"\n",
    "sol = Solution()\n",
    "sol.longestPalindrome(s)"
   ]
  },
  {
   "cell_type": "markdown",
   "id": "89d8d48c-9869-4f95-a589-8e15b7b750d7",
   "metadata": {},
   "source": [
    "## Dynamic programming to return string"
   ]
  },
  {
   "cell_type": "code",
   "execution_count": 5,
   "id": "f1300c61-997f-48c0-b09b-aaab352eee05",
   "metadata": {},
   "outputs": [],
   "source": [
    "class Solution:\n",
    "    def __init__(self):\n",
    "        self.maxstring = ''\n",
    "\n",
    "    def longestPalindrome(self, s: str) -> str:\n",
    "        n  = len(s)\n",
    "        dp = [[False for _ in range(len(s))] for _ in range(len(s))]\n",
    "        for i in range(n):\n",
    "            dp[i][i] = True\n",
    "        \n",
    "        maxlength = 0\n",
    "        self.maxstring = s[0]\n",
    "        for start in range(n-1, -1, -1):\n",
    "            for end in range(start + 1, n):\n",
    "                if s[start] == s[end]:\n",
    "                    if end - start ==1 or dp[start+1][end-1]:\n",
    "                        dp[start][end] = True\n",
    "                        if end- start +1 > maxlength:\n",
    "                            maxlength = end- start +1\n",
    "                            self.maxstring = s[start: end + 1]\n",
    "\n",
    "        return self.maxstring "
   ]
  },
  {
   "cell_type": "code",
   "execution_count": null,
   "id": "7c29eaae-e975-4e98-a7af-a5eae3bfaaa9",
   "metadata": {},
   "outputs": [],
   "source": []
  }
 ],
 "metadata": {
  "kernelspec": {
   "display_name": "Python 3 (ipykernel)",
   "language": "python",
   "name": "python3"
  },
  "language_info": {
   "codemirror_mode": {
    "name": "ipython",
    "version": 3
   },
   "file_extension": ".py",
   "mimetype": "text/x-python",
   "name": "python",
   "nbconvert_exporter": "python",
   "pygments_lexer": "ipython3",
   "version": "3.11.5"
  },
  "widgets": {
   "application/vnd.jupyter.widget-state+json": {
    "state": {},
    "version_major": 2,
    "version_minor": 0
   }
  }
 },
 "nbformat": 4,
 "nbformat_minor": 5
}
