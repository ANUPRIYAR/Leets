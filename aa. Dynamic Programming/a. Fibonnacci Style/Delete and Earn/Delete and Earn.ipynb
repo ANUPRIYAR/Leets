{
 "cells": [
  {
   "cell_type": "code",
   "execution_count": null,
   "id": "80b44f00-629c-4fd2-92a9-b774814ed89d",
   "metadata": {},
   "outputs": [],
   "source": [
    "class Solution:\n",
    "    def deleteAndEarn(self, nums: List[int]) -> int:\n",
    "        return self.helper(nums, 0)\n",
    "\n",
    "    def helper(self, nums, idx):\n",
    "        if len(nums) == 0 or idx >= len(nums):\n",
    "            return 0\n",
    "\n",
    "        current_score = nums[idx] \n",
    "        # if idx != len(nums) -1:\n",
    "        #     i = idx + 1\n",
    "        #     next_num = 0\n",
    "        #     while (nums[i] == current_score -1 or nums[i] == current_score +1) and i < len(nums):\n",
    "        #         i += 1\n",
    "        #     next_num = nums[i]\n",
    "        nums_copy = nums.copy()\n",
    "        nums_copy.remove(current_score)\n",
    "        if current_score - 1 in nums_copy:\n",
    "            nums_copy.remove(current_score - 1)\n",
    "        if current_score + 1 in nums_copy:\n",
    "            nums_copy.remove(current_score + 1)\n",
    "        delete_score = current_score + self.helper(nums_copy, nums.index(next_num))\n",
    "        \n",
    "        skip_score = self.helper(nums, idx + 1)\n",
    "        print(max(delete_score, skip_score))\n",
    "        return delete_score+ skip_score\n",
    "        "
   ]
  }
 ],
 "metadata": {
  "kernelspec": {
   "display_name": "Python 3 (ipykernel)",
   "language": "python",
   "name": "python3"
  },
  "language_info": {
   "codemirror_mode": {
    "name": "ipython",
    "version": 3
   },
   "file_extension": ".py",
   "mimetype": "text/x-python",
   "name": "python",
   "nbconvert_exporter": "python",
   "pygments_lexer": "ipython3",
   "version": "3.11.5"
  },
  "widgets": {
   "application/vnd.jupyter.widget-state+json": {
    "state": {},
    "version_major": 2,
    "version_minor": 0
   }
  }
 },
 "nbformat": 4,
 "nbformat_minor": 5
}
