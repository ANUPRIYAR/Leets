{
 "cells": [
  {
   "cell_type": "raw",
   "id": "a843f714-f4b6-4065-9849-ee738de3914b",
   "metadata": {},
   "source": [
    "279. Perfect Squares\n",
    "\n",
    "Medium\n",
    "Topics\n",
    "Companies\n",
    "Given an integer n, return the least number of perfect square numbers that sum to n.\n",
    "\n",
    "A perfect square is an integer that is the square of an integer; in other words, it is the product of some integer with itself. For example, 1, 4, 9, and 16 are perfect squares while 3 and 11 are not.\n",
    "\n",
    " \n",
    "\n",
    "Example 1:\n",
    "\n",
    "Input: n = 12\n",
    "Output: 3\n",
    "Explanation: 12 = 4 + 4 + 4.\n",
    "Example 2:\n",
    "\n",
    "Input: n = 13\n",
    "Output: 2\n",
    "Explanation: 13 = 4 + 9.\n",
    " \n",
    "\n",
    "Constraints:\n",
    "\n",
    "1 <= n <= 104\n"
   ]
  },
  {
   "cell_type": "markdown",
   "id": "61aea129-582f-4477-ac50-8995376cf51a",
   "metadata": {},
   "source": [
    "## Recursion with TLE"
   ]
  },
  {
   "cell_type": "code",
   "execution_count": null,
   "id": "700d5475-47b0-4f22-972b-42f57fb038a2",
   "metadata": {},
   "outputs": [],
   "source": [
    "class Solution:\n",
    "    def __init__(self):\n",
    "        self.min_count = math.inf\n",
    "\n",
    "    def numSquares(self, n: int) -> int:\n",
    "        squares = self.calculate_squares(int(n**1/2))\n",
    "        if n == 1:\n",
    "             return 1\n",
    "\n",
    "        dp = [[-1 for _ in range(n + 1)]for _ in range(len(squares) + 1 )]\n",
    "        count = self.helper(n, squares,  0, dp)\n",
    "        return count if count!= math.inf else 0\n",
    "\n",
    "    \n",
    "    def helper(self, target, sq, idx, dp):\n",
    "        if target == 0:\n",
    "            return 0\n",
    "\n",
    "        if idx == len(sq):\n",
    "            return math.inf\n",
    "\n",
    "        if dp[idx][target] == -1:\n",
    "            pick = math.inf\n",
    "            if sq[idx] <= target:\n",
    "                pick  = 1 + self.helper(target - sq[idx], sq, idx, dp)\n",
    "\n",
    "            notpick = self.helper(target, sq, idx + 1, dp)\n",
    "            dp[idx][target] = min(pick, notpick)\n",
    "        return dp[idx][target]\n",
    "\n",
    "    def calculate_squares(self, num):\n",
    "        sq_list = []\n",
    "        for i in range(1, num + 1):\n",
    "            sq_list.append(i*i)\n",
    "\n",
    "        return sq_list[::-1]\n"
   ]
  }
 ],
 "metadata": {
  "kernelspec": {
   "display_name": "Python 3 (ipykernel)",
   "language": "python",
   "name": "python3"
  },
  "language_info": {
   "codemirror_mode": {
    "name": "ipython",
    "version": 3
   },
   "file_extension": ".py",
   "mimetype": "text/x-python",
   "name": "python",
   "nbconvert_exporter": "python",
   "pygments_lexer": "ipython3",
   "version": "3.11.5"
  },
  "widgets": {
   "application/vnd.jupyter.widget-state+json": {
    "state": {},
    "version_major": 2,
    "version_minor": 0
   }
  }
 },
 "nbformat": 4,
 "nbformat_minor": 5
}
