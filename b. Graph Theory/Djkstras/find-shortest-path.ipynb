{
 "cells": [
  {
   "cell_type": "markdown",
   "id": "4c00264f-6415-4c62-bf7c-822897e05021",
   "metadata": {},
   "source": [
    "## Shortest Path in Weighted undirected graph\n",
    "MediumAccuracy: 50.0%Submissions: 37K+Points: 4\n",
    "\n",
    "You are given a weighted undirected graph having n vertices numbered from 1 to n and m edges describing there are edges between a to b with some weight, find the shortest path between the vertex 1 and the vertex n and if path does not exist then return a list consisting of only -1.  \n",
    "\n",
    "Note -   \n",
    "1. If there exists a path, then return a list whose first element is the weight of the path.  \n",
    "2. If no path exists then return a list containing a single element -1.  \n",
    "\n",
    "Example:  \n",
    "Input:  \n",
    "n = 5, m= 6  \n",
    "edges = [[1,2,2], [2,5,5], [2,3,4], [1,4,1],[4,3,3],[3,5,1]]  \n",
    "Output:  \n",
    "5 1 4 3 5  \n",
    "Explaination:  \n",
    "Shortest path from 1 to n is by the path 1 4 3 5 whose weight is 5.   \n",
    "\n",
    "Your Task:  \n",
    "You don't need to read input or print anything. Your task is to complete the function shortestPath() which takes n vertex and m edges and vector of edges having weight as inputs and returns the shortest path between vertex 1 to n.  \n",
    "\n",
    "Expected Time Complexity: O(m* log(n))  \n",
    "Expected Space Complexity: O(n)  \n",
    "\n",
    "Constraint:  \n",
    "2 <= n <= 105  \n",
    "0 <= m <= 105  \n",
    "0<= a, b <= n  \n",
    "1 <= w <= 105  "
   ]
  },
  {
   "cell_type": "code",
   "execution_count": 1,
   "id": "6cb5a67d-ba03-4ad9-bca4-49dd8978b937",
   "metadata": {},
   "outputs": [],
   "source": [
    "from typing import List\n",
    "from collections import defaultdict\n",
    "import heapq\n",
    "import math\n",
    "\n",
    "class Solution:\n",
    "    def shortestPath(self, n: int, m: int, edges: List[List[int]]) -> List[int]:\n",
    "\n",
    "        # Create adjacency list\n",
    "        adj = defaultdict(list)\n",
    "        for edge in edges:\n",
    "            u, v, dist = edge[0], edge[1], edge[2]\n",
    "            adj[u].append((v, dist))\n",
    "            adj[v].append((u, dist))\n",
    "\n",
    "        pq = []\n",
    "\n",
    "        dist = [math.inf] * (n + 1)   # Create distance list with n + 1 elements coz 1 based indexing\n",
    "        parent = list(range(n + 1))   # create parent list to store the path\n",
    "\n",
    "        dist[1] = 0                             # Intialize the source 1 with 0 distance\n",
    "        heapq.heappush(pq, (dist[1], 1))      # Push the source node to the queue\n",
    "\n",
    "        while pq:\n",
    "            prevdist, node = heapq.heappop(pq)\n",
    "\n",
    "            for neighbours in adj[node]:\n",
    "                curnode = neighbours[0]\n",
    "                curdist = neighbours[1]\n",
    "\n",
    "                if prevdist + curdist < dist[curnode]:      # relax the edge\n",
    "                    dist[curnode] = prevdist + curdist\n",
    "                    heapq.heappush(pq, (prevdist + curdist, curnode))\n",
    "                    parent[curnode] = node                                  # update the parent\n",
    "\n",
    "        if dist[n] == math.inf:    # If distance to a node could not be found, return an array containing -1.\n",
    "            return [-1]\n",
    "\n",
    "        # Iterate backwards from destination to source through parent array\n",
    "        path = []\n",
    "        node = n                        # start from the destination node\n",
    "        while parent[node] != node:    # Until the parent to a node is node itself ie. it is not the source node\n",
    "            path.append(node)         # append the node to the path\n",
    "            node = parent[node]       # get the parent of the node as the current node\n",
    "        path.append(1)                # append the source node to the path\n",
    "\n",
    "        path.reverse()       \n",
    "        return path\n"
   ]
  },
  {
   "cell_type": "code",
   "execution_count": 2,
   "id": "f3cb68e6-1ecf-4c4b-8189-0edaf3faf702",
   "metadata": {},
   "outputs": [
    {
     "name": "stdout",
     "output_type": "stream",
     "text": [
      "[1, 4, 3, 5]\n"
     ]
    }
   ],
   "source": [
    "edges = [[1,2,2], [2,5,5], [2,3,4], [1,4,1],[4,3,3],[3,5,1]]\n",
    "n = 5\n",
    "m= 6\n",
    "\n",
    "sol = Solution()\n",
    "print(sol.shortestPath(n, m, edges))"
   ]
  },
  {
   "cell_type": "code",
   "execution_count": null,
   "id": "d5790638-f187-4557-a38c-9f0c1e5687ac",
   "metadata": {},
   "outputs": [],
   "source": []
  }
 ],
 "metadata": {
  "kernelspec": {
   "display_name": "Python 3 (ipykernel)",
   "language": "python",
   "name": "python3"
  },
  "language_info": {
   "codemirror_mode": {
    "name": "ipython",
    "version": 3
   },
   "file_extension": ".py",
   "mimetype": "text/x-python",
   "name": "python",
   "nbconvert_exporter": "python",
   "pygments_lexer": "ipython3",
   "version": "3.11.5"
  },
  "widgets": {
   "application/vnd.jupyter.widget-state+json": {
    "state": {},
    "version_major": 2,
    "version_minor": 0
   }
  }
 },
 "nbformat": 4,
 "nbformat_minor": 5
}
