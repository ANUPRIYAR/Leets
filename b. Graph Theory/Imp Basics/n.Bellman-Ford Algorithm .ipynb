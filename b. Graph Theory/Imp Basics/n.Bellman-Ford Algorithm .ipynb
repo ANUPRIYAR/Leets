{
 "cells": [
  {
   "cell_type": "markdown",
   "id": "69ae6c43-c0c1-46a3-ae13-a1ff0b01c864",
   "metadata": {},
   "source": [
    "## Distance from the Source (Bellman-Ford Algorithm)\n",
    "MediumAccuracy: 48.11%Submissions: 94K+Points: 4\n",
    "\n",
    "Given a weighted and directed graph of V vertices and E edges, Find the shortest distance of all the vertex's from the source vertex S. If a vertices can't be reach from the S then mark the distance as 10^8. Note: If the Graph contains a negative cycle then return an array consisting of only -1.\n",
    "\n",
    "Example 1:  \n",
    "\n",
    "Input:  \n",
    "\n",
    "E = [[0,1,9]]  \n",
    "S = 0  \n",
    "Output:  \n",
    "0 9  \n",
    "Explanation:  \n",
    "Shortest distance of all nodes from  \n",
    "source is printed.  \n",
    "Example 2:  \n",
    "\n",
    "Input:  \n",
    "\n",
    "E = [[0,1,5],[1,0,3],[1,2,-1],[2,0,1]]  \n",
    "S = 2  \n",
    "Output:  \n",
    "1 6 0  \n",
    "Explanation:  \n",
    "For nodes 2 to 0, we can follow the path-  \n",
    "2-0. This has a distance of 1.  \n",
    "For nodes 2 to 1, we cam follow the path-  \n",
    "2-0-1, which has a distance of 1+5 = 6,  \n",
    " \n",
    "\n",
    "Your Task:  \n",
    "You don't need to read input or print anything. Your task is to complete the function bellman_ford( ) which takes a number of vertices V and an E-sized list of lists of three integers where the three integers are u,v, and w; denoting there's an edge from u to v, which has a weight of w and source node S as input parameters and returns a list of integers where the ith integer denotes the distance of an ith node from the source node.  \n",
    "\n",
    "If some node isn't possible to visit, then its distance should be 100000000(1e8). Also, If the Graph contains a negative cycle then return an array consisting of a single -1.  \n",
    "\n",
    " \n",
    "\n",
    "Expected Time Complexity: O(V*E).  \n",
    "Expected Auxiliary Space: O(V).  \n",
    "\n",
    " \n",
    "\n",
    "Constraints:  \n",
    "1 ≤ V ≤ 500  \n",
    "1 ≤ E ≤ V*(V-1)  \n",
    "-1000 ≤ adj[i][j] ≤ 1000  \n",
    "0 ≤ S < V  \n",
    "\n"
   ]
  },
  {
   "cell_type": "code",
   "execution_count": 1,
   "id": "af997ba1-07b2-4adc-9584-ac9f9b9fa467",
   "metadata": {},
   "outputs": [],
   "source": [
    "import sys\n",
    "# Bellman -Ford algorithm is run N-1 times, if N is the number of vertices \n",
    "\n",
    "class Solution:\n",
    "    # Function to construct and return cost of MST for a graph\n",
    "    # represented using adjacency matrix representation\n",
    "    '''\n",
    "    V: nodes in graph\n",
    "    edges: adjacency list for the graph\n",
    "    S: Source\n",
    "    '''\n",
    "    def bellman_ford(self, V, edges, S):\n",
    "        \n",
    "        dist = [sys.maxsize] * V\n",
    "        dist[S] = 0\n",
    "        \n",
    "        for _ in range(V):        # Take V because V is excluded in pyhton. \n",
    "            for it in edges:\n",
    "                u, v, wt = it[0], it[1], it[2]\n",
    "                if dist[u] != sys.maxsize and dist[u] + wt < dist[v]:\n",
    "                    dist[v] = dist[u] + wt\n",
    "                    \n",
    "                    \n",
    "        # Nth relaxation to check negative cycle\n",
    "        for it in edges:\n",
    "            u, v, wt = it[0], it[1], it[2]\n",
    "            if dist[u] !=sys.maxsize and dist[u] + wt < dist[v]:\n",
    "                return [-1]\n",
    "                \n",
    "        return [x  if x != sys.maxsize else 10**8 for x in dist]"
   ]
  },
  {
   "cell_type": "code",
   "execution_count": null,
   "id": "fa5f827d-f234-4fc6-b6f4-6ac04b73bc51",
   "metadata": {},
   "outputs": [],
   "source": []
  }
 ],
 "metadata": {
  "kernelspec": {
   "display_name": "Python 3 (ipykernel)",
   "language": "python",
   "name": "python3"
  },
  "language_info": {
   "codemirror_mode": {
    "name": "ipython",
    "version": 3
   },
   "file_extension": ".py",
   "mimetype": "text/x-python",
   "name": "python",
   "nbconvert_exporter": "python",
   "pygments_lexer": "ipython3",
   "version": "3.11.5"
  },
  "widgets": {
   "application/vnd.jupyter.widget-state+json": {
    "state": {},
    "version_major": 2,
    "version_minor": 0
   }
  }
 },
 "nbformat": 4,
 "nbformat_minor": 5
}
