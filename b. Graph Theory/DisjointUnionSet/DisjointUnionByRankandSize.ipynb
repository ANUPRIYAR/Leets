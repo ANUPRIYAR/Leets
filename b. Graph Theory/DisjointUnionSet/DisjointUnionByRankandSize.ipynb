{
 "cells": [
  {
   "cell_type": "markdown",
   "id": "5c79185c-c05f-438b-98af-2ee86052ee3b",
   "metadata": {},
   "source": [
    "## Disjoint Union by Rank and Size"
   ]
  },
  {
   "cell_type": "code",
   "execution_count": 1,
   "id": "e3471785-4d85-42a5-a034-0fb6e6829aaf",
   "metadata": {},
   "outputs": [
    {
     "name": "stdout",
     "output_type": "stream",
     "text": [
      "Different parents\n",
      "same parents\n"
     ]
    }
   ],
   "source": [
    "class DisjointSet:\n",
    "    def __init__(self, n):\n",
    "        self.rank = [0] * (n + 1)\n",
    "        self.parent = list(range(n+1))\n",
    "        self.size = [0]* (n + 1)\n",
    "\n",
    "    def findUltPar(self, node):\n",
    "        if node == self.parent[node]:     # if parent of node is node itself (i.e. its already ultimate parent), then return node\n",
    "            return node\n",
    "        self.parent[node] = self.findUltPar(self.parent[node])   # else find the ultimate parent and store in parent list\n",
    "        return self.parent[node]\n",
    "\n",
    "    def UnionByRank(self, u, v):\n",
    "        if self.findUltPar(u) == self.findUltPar(v):  # If Both u and v belong to same parents, just return\n",
    "            return\n",
    "        ultu, ultv = self.findUltPar(u), self.findUltPar(v)\n",
    "\n",
    "        if self.rank[ultu] < self.rank[ultv]:     # else if rank of u more than v, then u becomes parent of v or viceversa\n",
    "            self.parent[ultu] = ultv\n",
    "        elif self.rank[ultu] > self.rank[ultv]:\n",
    "            self.parent[ultv] = ultu\n",
    "        else:\n",
    "            self.parent[ultv] = ultu   # but if rank of u and v are same, then u becomes parent of v\n",
    "            self.rank[ultu] += 1      # and we increase rank of u by 1\n",
    "\n",
    "    def UnionBySize(self, u, v):\n",
    "        ultu, ultv = self.findUltPar(u), self.findUltPar(v)\n",
    "        if ultu == ultv:\n",
    "            return\n",
    "\n",
    "        if self.size[ultu] < self.size[ultv]:\n",
    "            self.parent[ultv] = ultu\n",
    "            self.size[ultv] += self.size[ultu]\n",
    "        else:\n",
    "            self.parent[ultv] = ultu\n",
    "            self.size[ultu] += self.size[ultv]\n",
    "\n",
    "\n",
    "ds = DisjointSet(7)\n",
    "ds.UnionBySize(1, 2)\n",
    "ds.UnionBySize(2, 3)\n",
    "ds.UnionBySize(4, 5)\n",
    "ds.UnionBySize(6, 7)\n",
    "ds.UnionBySize(5, 6)\n",
    "\n",
    "if ds.findUltPar(3) == ds.findUltPar(7):\n",
    "    print(\"same parents\")\n",
    "else:\n",
    "    print(\"Different parents\")\n",
    "\n",
    "ds.UnionBySize(3, 7)\n",
    "\n",
    "if ds.findUltPar(3) == ds.findUltPar(7):\n",
    "    print(\"same parents\")\n",
    "else:\n",
    "    print(\"Different parents\")"
   ]
  },
  {
   "cell_type": "code",
   "execution_count": null,
   "id": "f39d0020-ceae-4bc7-8805-0fc7e892ecaf",
   "metadata": {},
   "outputs": [],
   "source": []
  }
 ],
 "metadata": {
  "kernelspec": {
   "display_name": "Python 3 (ipykernel)",
   "language": "python",
   "name": "python3"
  },
  "language_info": {
   "codemirror_mode": {
    "name": "ipython",
    "version": 3
   },
   "file_extension": ".py",
   "mimetype": "text/x-python",
   "name": "python",
   "nbconvert_exporter": "python",
   "pygments_lexer": "ipython3",
   "version": "3.11.5"
  },
  "widgets": {
   "application/vnd.jupyter.widget-state+json": {
    "state": {},
    "version_major": 2,
    "version_minor": 0
   }
  }
 },
 "nbformat": 4,
 "nbformat_minor": 5
}
