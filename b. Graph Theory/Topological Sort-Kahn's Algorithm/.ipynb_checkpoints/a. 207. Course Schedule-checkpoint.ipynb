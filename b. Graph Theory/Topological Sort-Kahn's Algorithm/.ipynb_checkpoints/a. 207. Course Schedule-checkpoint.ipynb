{
 "cells": [
  {
   "cell_type": "code",
   "execution_count": null,
   "id": "1856df29-a037-43c9-9320-fe5fdc17f03b",
   "metadata": {},
   "outputs": [],
   "source": [
    "## 207. Course Schedule\n",
    "Solved\n",
    "Medium\n",
    "Topics\n",
    "Companies\n",
    "Hint\n",
    "There are a total of numCourses courses you have to take, labeled from 0 to numCourses - 1. You are given an array prerequisites where prerequisites[i] = [ai, bi] indicates that you must take course bi first if you want to take course ai.\n",
    "\n",
    "For example, the pair [0, 1], indicates that to take course 0 you have to first take course 1.\n",
    "Return true if you can finish all courses. Otherwise, return false.\n",
    "\n",
    " \n",
    "\n",
    "Example 1:\n",
    "\n",
    "Input: numCourses = 2, prerequisites = [[1,0]]\n",
    "Output: true\n",
    "Explanation: There are a total of 2 courses to take. \n",
    "To take course 1 you should have finished course 0. So it is possible.\n",
    "Example 2:\n",
    "\n",
    "Input: numCourses = 2, prerequisites = [[1,0],[0,1]]\n",
    "Output: false\n",
    "Explanation: There are a total of 2 courses to take. \n",
    "To take course 1 you should have finished course 0, and to take course 0 you should also have finished course 1. So it is impossible.\n",
    " \n",
    "\n",
    "Constraints:\n",
    "\n",
    "1 <= numCourses <= 2000\n",
    "0 <= prerequisites.length <= 5000\n",
    "prerequisites[i].length == 2\n",
    "0 <= ai, bi < numCourses\n",
    "All the pairs prerequisites[i] are unique."
   ]
  }
 ],
 "metadata": {
  "kernelspec": {
   "display_name": "Python 3 (ipykernel)",
   "language": "python",
   "name": "python3"
  },
  "language_info": {
   "codemirror_mode": {
    "name": "ipython",
    "version": 3
   },
   "file_extension": ".py",
   "mimetype": "text/x-python",
   "name": "python",
   "nbconvert_exporter": "python",
   "pygments_lexer": "ipython3",
   "version": "3.11.5"
  },
  "widgets": {
   "application/vnd.jupyter.widget-state+json": {
    "state": {},
    "version_major": 2,
    "version_minor": 0
   }
  }
 },
 "nbformat": 4,
 "nbformat_minor": 5
}
