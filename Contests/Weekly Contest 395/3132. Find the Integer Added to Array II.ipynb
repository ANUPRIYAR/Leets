{
 "cells": [
  {
   "cell_type": "markdown",
   "id": "71c3521c-9116-40f3-a3b6-58cc06d3bc47",
   "metadata": {},
   "source": [
    "## https://leetcode.com/problems/find-the-integer-added-to-array-ii/description/\n",
    "## 3132. Find the Integer Added to Array II\n",
    "Medium\n",
    "Companies\n",
    "Hint\n",
    ">You are given two integer arrays nums1 and nums2.\n",
    "From nums1 two elements have been removed, and all other elements have been increased (or decreased in the case of negative) by an integer, represented by the variable x.\n",
    "As a result, nums1 becomes equal to nums2. Two arrays are considered equal when they contain the same integers with the same frequencies.\n",
    "Return the minimum possible integer x that achieves this equivalence.\n",
    "\n",
    " \n",
    "\n",
    ">Example 1:\n",
    "Input: nums1 = [4,20,16,12,8], nums2 = [14,18,10]\n",
    "Output: -2\n",
    "Explnation:\n",
    "After removing elements at indices [0,4] and adding -2, nums1 becomes [18,14,10].\n",
    "\n",
    ">Example 2:\n",
    "Input: nums1 = [3,5,5,3], nums2 = [7,7]\n",
    "Output: 2\n",
    "Explanation:\n",
    "After removing elements at indices [0,3] and adding 2, nums1 becomes [7,7].\n",
    "\n",
    " \n",
    "\n",
    ">Constraints:\n",
    "3 <= nums1.length <= 200\n",
    "nums2.length == nums1.length - 2\n",
    "0 <= nums1[i], nums2[i] <= 1000\n",
    "The test cases are generated in a way that there is an integer x such that nums1 can become equal to nums2 by removing two elements and adding x to each element of nums1."
   ]
  },
  {
   "cell_type": "code",
   "execution_count": 2,
   "id": "4a221516-b3e6-4518-89aa-308241b96faf",
   "metadata": {},
   "outputs": [],
   "source": [
    "from typing import List\n",
    "class Solution:\n",
    "    def minimumAddedInteger(self, nums1: List[int], nums2: List[int]) -> int:\n",
    "        pass"
   ]
  },
  {
   "metadata": {},
   "cell_type": "markdown",
   "source": "",
   "id": "43b18412738d508e"
  },
  {
   "metadata": {},
   "cell_type": "code",
   "outputs": [],
   "execution_count": null,
   "source": "",
   "id": "6ceefe7189fc7cff"
  }
 ],
 "metadata": {
  "kernelspec": {
   "display_name": "Python 3 (ipykernel)",
   "language": "python",
   "name": "python3"
  },
  "language_info": {
   "codemirror_mode": {
    "name": "ipython",
    "version": 3
   },
   "file_extension": ".py",
   "mimetype": "text/x-python",
   "name": "python",
   "nbconvert_exporter": "python",
   "pygments_lexer": "ipython3",
   "version": "3.11.5"
  },
  "widgets": {
   "application/vnd.jupyter.widget-state+json": {
    "state": {},
    "version_major": 2,
    "version_minor": 0
   }
  }
 },
 "nbformat": 4,
 "nbformat_minor": 5
}
