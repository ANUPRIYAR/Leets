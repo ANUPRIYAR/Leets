{
 "cells": [
  {
   "cell_type": "markdown",
   "id": "940e9a85-e2cf-41e4-841d-c20d9f807d40",
   "metadata": {},
   "source": [
    "## https://leetcode.com/problems/find-the-median-of-the-uniqueness-array/description/\n",
    "\n",
    "## 3134. Find the Median of the Uniqueness Array\n",
    "Hard\n",
    "Companies\n",
    "Hint\n",
    ">You are given an integer array nums. The uniqueness array of nums is the sorted array that contains the number of distinct elements of all the subarrays of nums. In other words, it is a sorted array consisting of distinct(nums[i..j]), for all 0 <= i <= j < nums.length.\n",
    "Here, distinct(nums[i..j]) denotes the number of distinct elements in the subarray that starts at index i and ends at index j.\n",
    "Return the median of the uniqueness array of nums.\n",
    "Note that the median of an array is defined as the middle element of the array when it is sorted in non-decreasing order. If there are two choices for a median, the smaller of the two values is taken.\n",
    "\n",
    " \n",
    "\n",
    ">Example 1:\n",
    "Input: nums = [1,2,3]\n",
    "Output: 1\n",
    "Explanation:\n",
    "The uniqueness array of nums is [distinct(nums[0..0]), distinct(nums[1..1]), distinct(nums[2..2]), distinct(nums[0..1]), distinct(nums[1..2]), distinct(nums[0..2])] which is equal to [1, 1, 1, 2, 2, 3]. The uniqueness array has a median of 1. Therefore, the answer is 1.\n",
    "\n",
    ">Example 2:\n",
    "Input: nums = [3,4,3,4,5]\n",
    "Output: 2\n",
    "Explanation:\n",
    "The uniqueness array of nums is [1, 1, 1, 1, 1, 2, 2, 2, 2, 2, 2, 2, 3, 3, 3]. The uniqueness array has a median of 2. Therefore, the answer is 2.\n",
    "\n",
    ">Example 3:\n",
    "Input: nums = [4,3,5,4]\n",
    "Output: 2\n",
    "Explanation:\n",
    "The uniqueness array of nums is [1, 1, 1, 1, 2, 2, 2, 3, 3, 3]. The uniqueness array has a median of 2. Therefore, the answer is 2.\n",
    "\n",
    " \n",
    "\n",
    ">Constraints:\n",
    "1 <= nums.length <= 105\n",
    "1 <= nums[i] <= 105"
   ]
  },
  {
   "cell_type": "code",
   "execution_count": 1,
   "id": "9c301309-c29a-4a5f-9f0c-17fed03a68a3",
   "metadata": {},
   "outputs": [],
   "source": [
    "from typing import List\n",
    "class Solution:\n",
    "    def medianOfUniquenessArray(self, nums: List[int]) -> int:\n",
    "        pass"
   ]
  },
  {
   "cell_type": "code",
   "execution_count": null,
   "id": "79008138-c8af-4d75-90e9-fd14097c1a43",
   "metadata": {},
   "outputs": [],
   "source": []
  }
 ],
 "metadata": {
  "kernelspec": {
   "display_name": "Python 3 (ipykernel)",
   "language": "python",
   "name": "python3"
  },
  "language_info": {
   "codemirror_mode": {
    "name": "ipython",
    "version": 3
   },
   "file_extension": ".py",
   "mimetype": "text/x-python",
   "name": "python",
   "nbconvert_exporter": "python",
   "pygments_lexer": "ipython3",
   "version": "3.11.5"
  },
  "widgets": {
   "application/vnd.jupyter.widget-state+json": {
    "state": {},
    "version_major": 2,
    "version_minor": 0
   }
  }
 },
 "nbformat": 4,
 "nbformat_minor": 5
}
