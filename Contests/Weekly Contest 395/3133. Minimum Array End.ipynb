{
 "cells": [
  {
   "cell_type": "markdown",
   "id": "c311c077-729a-4d47-a8c9-8b4da9760309",
   "metadata": {},
   "source": [
    "\n",
    "## https://leetcode.com/problems/minimum-array-end/\n",
    "## 3133. Minimum Array End\n",
    "Attempted\n",
    "Medium\n",
    "Companies\n",
    "Hint\n",
    ">You are given two integers n and x. You have to construct an array of positive integers nums of size n where for every 0 <= i < n - 1, nums[i + 1] is greater than nums[i], and the result of the bitwise AND operation between all elements of nums is x.\n",
    "Return the minimum possible value of nums[n - 1].\n",
    "\n",
    ">Example 1:\n",
    "Input: n = 3, x = 4\n",
    "Output: 6\n",
    "Explanation: nums can be [4,5,6] and its last element is 6.\n",
    "\n",
    ">Example 2:\n",
    "Input: n = 2, x = 7\n",
    "Output: 15\n",
    "Explanation:nums can be [7,15] and its last element is 15.\n",
    "\n",
    "\n",
    ">Constraints:\n",
    "1 <= n, x <= 108"
   ]
  },
  {
   "cell_type": "code",
   "execution_count": 31,
   "id": "7687aaf0-b190-4bec-b094-aadff69ed346",
   "metadata": {},
   "outputs": [],
   "source": [
    "class Solution:\n",
    "    def minEnd(self, n: int, x: int) -> int:\n",
    "        #   if we have to do AND achieve x , then it has to start with nums[0] = x\n",
    "        bits = [0]*32\n",
    "        for i in range(32):\n",
    "            if x & 1<<i:\n",
    "                bits[i] += 1\n",
    "\n",
    "        ans = [x]\n",
    "        i = 0\n",
    "        while len(ans) < n:\n",
    "            if bits[i] == 0:\n",
    "                bits[i] += 1\n",
    "                new_num = ''.join(map(str, bits))\n",
    "                new_num = new_num[::-1]\n",
    "                ans.append(int(new_num, 2))\n",
    "                # resetting same bit to 0\n",
    "                bits[i] -= 1\n",
    "            i += 1\n",
    "        return ans"
   ]
  },
  {
   "cell_type": "code",
   "execution_count": 32,
   "id": "a2dc964e-8903-4bef-91c0-391cd5e1f06d",
   "metadata": {},
   "outputs": [
    {
     "data": {
      "text/plain": [
       "[4, 5, 6]"
      ]
     },
     "execution_count": 32,
     "metadata": {},
     "output_type": "execute_result"
    }
   ],
   "source": [
    "n=3\n",
    "x = 4\n",
    "sol = Solution()\n",
    "sol.minEnd(n ,x)"
   ]
  },
  {
   "cell_type": "code",
   "execution_count": 33,
   "id": "aceadc46-21a8-4f54-8201-8621caf98ab4",
   "metadata": {},
   "outputs": [
    {
     "data": {
      "text/plain": [
       "[7, 15]"
      ]
     },
     "execution_count": 33,
     "metadata": {},
     "output_type": "execute_result"
    }
   ],
   "source": [
    "n=2\n",
    "x = 7\n",
    "sol = Solution()\n",
    "sol.minEnd(n ,x)"
   ]
  },
  {
   "cell_type": "code",
   "execution_count": 59,
   "id": "42ae3881-2dff-4d15-b9ea-8b3f6f7d818e",
   "metadata": {},
   "outputs": [
    {
     "name": "stdout",
     "output_type": "stream",
     "text": [
      "[1, 0, 0, 0, 0, 0, 0, 0, 0, 0, 0, 0, 0, 0, 0, 0, 0, 0, 0, 0, 0, 0, 0, 0, 0, 0, 0, 0, 0, 0, 0, 0]\n"
     ]
    }
   ],
   "source": [
    "bits = [0]*32\n",
    "x = 1\n",
    "mst = 0\n",
    "for i in range(32):\n",
    "    if x & 1<<i:\n",
    "        bits[i] += 1\n",
    "        mst = max(mst, i)\n",
    "print(bits)"
   ]
  },
  {
   "cell_type": "code",
   "execution_count": 60,
   "id": "3c05507e-26e8-493d-a078-6133f4757627",
   "metadata": {},
   "outputs": [],
   "source": [
    "n = 5\n",
    "ans = [x]\n",
    "i = 0\n",
    "orig_bits = bits"
   ]
  },
  {
   "cell_type": "code",
   "execution_count": 61,
   "id": "42d478d6-a386-41ea-9c0f-ea3e9286723e",
   "metadata": {},
   "outputs": [],
   "source": [
    "while len(ans) <n:\n",
    "    if bits[i]==0  :\n",
    "        bits[i] += 1\n",
    "        new_num = ''.join(map(str, bits))\n",
    "        new_num = new_num[::-1]\n",
    "        ans.append(int(new_num, 2))\n",
    "        if i > mst and 0 in bits[:i]:\n",
    "            i = -1\n",
    "            bits[mst] = 1\n",
    "        else: \n",
    "            bits[i] -= 1\n",
    "    i += 1"
   ]
  },
  {
   "cell_type": "code",
   "execution_count": 62,
   "id": "9f842ba3-1cf2-466c-81d1-ed128c786dfa",
   "metadata": {},
   "outputs": [
    {
     "data": {
      "text/plain": [
       "[1, 3, 5, 7, 13]"
      ]
     },
     "execution_count": 62,
     "metadata": {},
     "output_type": "execute_result"
    }
   ],
   "source": [
    "ans"
   ]
  },
  {
   "cell_type": "code",
   "execution_count": 34,
   "id": "5a1ce384-0972-4160-b224-806cee953121",
   "metadata": {},
   "outputs": [
    {
     "data": {
      "text/plain": [
       "0"
      ]
     },
     "execution_count": 34,
     "metadata": {},
     "output_type": "execute_result"
    }
   ],
   "source": [
    "1&2"
   ]
  },
  {
   "cell_type": "code",
   "id": "c1c6f713-9fb7-4e51-9841-f5f3ed752518",
   "metadata": {
    "ExecuteTime": {
     "end_time": "2024-05-02T02:18:10.278109Z",
     "start_time": "2024-05-02T02:18:10.247197Z"
    }
   },
   "source": [
    "1&3"
   ],
   "outputs": [
    {
     "data": {
      "text/plain": [
       "1"
      ]
     },
     "execution_count": 2,
     "metadata": {},
     "output_type": "execute_result"
    }
   ],
   "execution_count": 2
  },
  {
   "cell_type": "code",
   "id": "8080aaf6-f97a-476b-bea1-9a77b6cf4a97",
   "metadata": {
    "ExecuteTime": {
     "end_time": "2024-05-02T02:18:26.164355Z",
     "start_time": "2024-05-02T02:18:26.162626Z"
    }
   },
   "source": [],
   "outputs": [],
   "execution_count": 2
  },
  {
   "metadata": {},
   "cell_type": "code",
   "outputs": [],
   "execution_count": null,
   "source": "",
   "id": "586d877ac49fbdf4"
  }
 ],
 "metadata": {
  "kernelspec": {
   "display_name": "Python 3 (ipykernel)",
   "language": "python",
   "name": "python3"
  },
  "language_info": {
   "codemirror_mode": {
    "name": "ipython",
    "version": 3
   },
   "file_extension": ".py",
   "mimetype": "text/x-python",
   "name": "python",
   "nbconvert_exporter": "python",
   "pygments_lexer": "ipython3",
   "version": "3.11.5"
  },
  "widgets": {
   "application/vnd.jupyter.widget-state+json": {
    "state": {},
    "version_major": 2,
    "version_minor": 0
   }
  }
 },
 "nbformat": 4,
 "nbformat_minor": 5
}
