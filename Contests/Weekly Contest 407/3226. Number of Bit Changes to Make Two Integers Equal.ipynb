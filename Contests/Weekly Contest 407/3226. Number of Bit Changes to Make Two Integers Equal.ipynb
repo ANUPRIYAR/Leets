{
 "cells": [
  {
   "cell_type": "markdown",
   "id": "15c230d2-5c3d-4bd4-b2ba-d712b7eee32f",
   "metadata": {},
   "source": [
    "<h2><a href=\"https://leetcode.com/problems/number-of-bit-changes-to-make-two-integers-equal\">3226. Number of Bit Changes to Make Two Integers Equal</a></h2><h3>Easy</h3><hr><p>You are given two positive integers <code>n</code> and <code>k</code>.</p>\n",
    "\n",
    "<p>You can choose <strong>any</strong> bit in the <strong>binary representation</strong> of <code>n</code> that is equal to 1 and change it to 0.</p>\n",
    "\n",
    "<p>Return the <em>number of changes</em> needed to make <code>n</code> equal to <code>k</code>. If it is impossible, return -1.</p>\n",
    "\n",
    "<p>&nbsp;</p>\n",
    "<p><strong class=\"example\">Example 1:</strong></p>\n",
    "\n",
    "<div class=\"example-block\">\n",
    "<p><strong>Input:</strong> <span class=\"example-io\">n = 13, k = 4</span></p>\n",
    "\n",
    "<p><strong>Output:</strong> <span class=\"example-io\">2</span></p>\n",
    "\n",
    "<p><strong>Explanation:</strong><br />\n",
    "Initially, the binary representations of <code>n</code> and <code>k</code> are <code>n = (1101)<sub>2</sub></code> and <code>k = (0100)<sub>2</sub></code>.<br />\n",
    "We can change the first and fourth bits of <code>n</code>. The resulting integer is <code>n = (<u><strong>0</strong></u>10<u><strong>0</strong></u>)<sub>2</sub> = k</code>.</p>\n",
    "</div>\n",
    "\n",
    "<p><strong class=\"example\">Example 2:</strong></p>\n",
    "\n",
    "<div class=\"example-block\">\n",
    "<p><strong>Input:</strong> <span class=\"example-io\">n = 21, k = 21</span></p>\n",
    "\n",
    "<p><strong>Output:</strong> <span class=\"example-io\">0</span></p>\n",
    "\n",
    "<p><strong>Explanation:</strong><br />\n",
    "<code>n</code> and <code>k</code> are already equal, so no changes are needed.</p>\n",
    "</div>\n",
    "\n",
    "<p><strong class=\"example\">Example 3:</strong></p>\n",
    "\n",
    "<div class=\"example-block\">\n",
    "<p><strong>Input:</strong> <span class=\"example-io\">n = 14, k = 13</span></p>\n",
    "\n",
    "<p><strong>Output:</strong> <span class=\"example-io\">-1</span></p>\n",
    "\n",
    "<p><strong>Explanation:</strong><br />\n",
    "It is not possible to make <code>n</code> equal to <code>k</code>.</p>\n",
    "</div>\n",
    "\n",
    "<p>&nbsp;</p>\n",
    "<p><strong>Constraints:</strong></p>\n",
    "\n",
    "<ul>\n",
    "\t<li><code>1 &lt;= n, k &lt;= 10<sup>6</sup></code></li>\n",
    "</ul>\n"
   ]
  },
  {
   "cell_type": "markdown",
   "id": "141c5d1f-78de-4cc8-b6d9-6c7a03dc1ccb",
   "metadata": {},
   "source": [
    "## **First Solution**"
   ]
  },
  {
   "cell_type": "code",
   "execution_count": 1,
   "id": "41bcd3c5-6505-4a60-b43a-56ff9afab72b",
   "metadata": {},
   "outputs": [],
   "source": [
    "class Solution:\n",
    "    def minChanges(self, n: int, k: int) -> int:\n",
    "        # checking if unset bit of n is also unset for k\n",
    "        for i in range(32):\n",
    "            if n & 1<<i == 0:\n",
    "                if k & 1 << i != 0:\n",
    "                    return -1\n",
    "\n",
    "        res = n ^ k\n",
    "        count = 0\n",
    "        while res > 0:\n",
    "            res &= res -1 \n",
    "            count += 1\n",
    "\n",
    "        return count"
   ]
  },
  {
   "cell_type": "markdown",
   "id": "34eec5cc-e4da-4368-9443-930c8aa01cd3",
   "metadata": {},
   "source": [
    "## **Second Solution : More optimized**"
   ]
  },
  {
   "cell_type": "code",
   "execution_count": 2,
   "id": "d276eadb-523a-4074-a7ed-ad3c4b74449d",
   "metadata": {},
   "outputs": [],
   "source": [
    "class Solution:\n",
    "    def minChanges(self, n: int, k: int) -> int:\n",
    "        if n == k :\n",
    "            return 0\n",
    "\n",
    "        count = 0\n",
    "        while n > 0 or  k > 0 :\n",
    "            if n & 1 == 1 and k & 1 == 0:    # if set for n and unset for k , then take count\n",
    "                count += 1\n",
    "            if n & 1 == 0 and k & 1 == 1:    # if unset for n but set for k , then return -1\n",
    "                return -1\n",
    "\n",
    "            n >>= 1                # each time right shift n and k \n",
    "            k >>= 1\n",
    "\n",
    "        return count"
   ]
  },
  {
   "cell_type": "code",
   "execution_count": null,
   "id": "67bfc721-991a-4881-9fe5-b8b54b2269eb",
   "metadata": {},
   "outputs": [],
   "source": []
  }
 ],
 "metadata": {
  "kernelspec": {
   "display_name": "Python 3 (ipykernel)",
   "language": "python",
   "name": "python3"
  },
  "language_info": {
   "codemirror_mode": {
    "name": "ipython",
    "version": 3
   },
   "file_extension": ".py",
   "mimetype": "text/x-python",
   "name": "python",
   "nbconvert_exporter": "python",
   "pygments_lexer": "ipython3",
   "version": "3.11.5"
  },
  "widgets": {
   "application/vnd.jupyter.widget-state+json": {
    "state": {},
    "version_major": 2,
    "version_minor": 0
   }
  }
 },
 "nbformat": 4,
 "nbformat_minor": 5
}
