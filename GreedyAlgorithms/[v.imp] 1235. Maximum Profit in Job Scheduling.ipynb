{
 "cells": [
  {
   "cell_type": "code",
   "execution_count": null,
   "id": "df8c46af-ddfa-42b8-a32a-f8ed2798bdf4",
   "metadata": {},
   "outputs": [],
   "source": [
    "class Solution:\n",
    "    def jobScheduling(self, startTime: List[int], endTime: List[int], profit: List[int]) -> int:\n",
    "        jobs = []\n",
    "        for start, end , profit in zip(startTime, endTime, profit):\n",
    "            jobs.append((start, end, profit))\n",
    "        prev_end = -1\n",
    "        max_profit = 0\n",
    "        jobs.sort(key = lambda x: x[1])\n",
    "        return self.helper(jobs, prev_end, 0)\n",
    "\n",
    "    def helper(self, jobs, prev_end, index):\n",
    "        if index >= len(jobs):\n",
    "            return 0\n",
    "\n",
    "        # pick\n",
    "        next_index = self.binary_search(jobs, prev_end, index, len(jobs) - 1)\n",
    "        profit1 = jobs[next_index][2] + self.helper(jobs, jobs[next_index][1], next_index )\n",
    "\n",
    "        # not pick\n",
    "        profit2 = self.helper(jobs, prev_end, index + 1)\n",
    "        return max(profit1, profit2)\n",
    "\n",
    "\n",
    "    def binary_search(self, jobs, prev_end, start, end):\n",
    "        while start < end:\n",
    "            mid = (start + end)//2\n",
    "            if jobs[mid][0] == prev_end:\n",
    "                return mid\n",
    "            if jobs[mid][0] > prev_end:\n",
    "                start = mid + 1\n",
    "            else:\n",
    "                end = mid \n",
    "\n",
    "        return end\n",
    "\n",
    "\n",
    "\n",
    "        "
   ]
  },
  {
   "cell_type": "code",
   "execution_count": null,
   "id": "97c36bc1-0f3f-405b-96dc-e3ffa5cb17bb",
   "metadata": {},
   "outputs": [],
   "source": [
    "https://leetcode.com/problems/maximum-profit-in-job-scheduling/solutions/1430745/maximum-profit-in-job-scheduling-sweep-line\n",
    "\n",
    "\n",
    "https://leetcode.com/problems/maximum-profit-in-job-scheduling/solutions/5631657/detailed-dp-recursive-soln-o-nlogn"
   ]
  },
  {
   "cell_type": "code",
   "execution_count": null,
   "id": "d53287ba-2912-4424-bd40-554d8505677d",
   "metadata": {},
   "outputs": [],
   "source": [
    "https://www.techiedelight.com/weighted-interval-scheduling-problem/"
   ]
  }
 ],
 "metadata": {
  "kernelspec": {
   "display_name": "Python 3 (ipykernel)",
   "language": "python",
   "name": "python3"
  },
  "language_info": {
   "codemirror_mode": {
    "name": "ipython",
    "version": 3
   },
   "file_extension": ".py",
   "mimetype": "text/x-python",
   "name": "python",
   "nbconvert_exporter": "python",
   "pygments_lexer": "ipython3",
   "version": "3.12.4"
  }
 },
 "nbformat": 4,
 "nbformat_minor": 5
}
