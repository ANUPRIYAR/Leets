{
 "cells": [
  {
   "cell_type": "markdown",
   "id": "1d7143b5-f165-4367-9fac-d88ed9653d47",
   "metadata": {},
   "source": [
    "# Activity Selection Problem   (Unweighted)"
   ]
  },
  {
   "cell_type": "markdown",
   "id": "af8f1b9f-f5bb-4651-9694-7d65ef88de72",
   "metadata": {},
   "source": [
    "<pre><strong> <italic>Activity Selection Problem </italic>: Given a set of activities, along with the starting and finishing time of each activity, find the maximum number of activities performed by a single person assuming that a person can only work on a single activity at a time. </strong> </pre>\n",
    "\n",
    "<li>\n",
    "    Input: Following set of activities (1, 4), (3, 5), (0, 6), (5, 7), (3, 8), (5, 9), (6, 10), (8, 11), (8, 12), (2, 13), (12, 14) \n",
    "\n",
    "</li>\n",
    "<li>\n",
    "    Output: (1, 4), (5, 7), (8, 11), (12, 14)\n",
    "</li>"
   ]
  },
  {
   "cell_type": "markdown",
   "id": "3aee6550-e10a-4dca-b18d-2197a7378e9c",
   "metadata": {},
   "source": [
    "<pre>The activity selection problem is a problem concerning selecting non-conflicting activities to perform within a given time frame, given a set of activities each marked by a start and finish time. A classic application of this problem is scheduling a room for multiple competing events, each having its time requirements (start and end time). </pre>\n",
    "\n",
    "<pre>Let’s assume there exist n activities each being represented by a start time si and finish time fj. Two activities i and j are said to be non-conflicting if si = fj or sj = fi.</pre>"
   ]
  },
  {
   "cell_type": "markdown",
   "id": "03abded5-55d6-4287-8a7a-56c6357d8ab9",
   "metadata": {},
   "source": [
    "<pre>We can solve this problem by being greedy. Using a greedy approach will always result in an optimal solution to this problem. The idea is to initially <italic> <bold> sort the activities in increasing order of their finish times </bold> </italic> and create a <italic> set S to store the selected activities </italic> and <italic>initialize it with the first activity.</italic> Then from the second activity onward,<italic> include the activity</italic> in the activities list if the <italic>activity’s start time is greater or equal to the finish time of the last selected activity</italic>. Repeat this for each activity involved.</pre>"
   ]
  },
  {
   "cell_type": "code",
   "execution_count": 2,
   "id": "59d98b54-8b92-4d73-ad4e-4f194610a461",
   "metadata": {},
   "outputs": [],
   "source": [
    "def activity_selection(jobs):\n",
    "    jobs.sort(key = lambda x:x[1])\n",
    "    selected = set()\n",
    "    selected.add(jobs[0])\n",
    "    prev_start = jobs[0][0]\n",
    "    prev_end = jobs[0][1]\n",
    "\n",
    "    for start, end in jobs[1:]:\n",
    "        if start >= prev_end:\n",
    "            selected.add((start, end))\n",
    "            prev_start = start\n",
    "            prev_end = end\n",
    "\n",
    "    return selected            "
   ]
  },
  {
   "cell_type": "code",
   "execution_count": 3,
   "id": "b403b9fe-24ca-4276-af08-abdd761946c9",
   "metadata": {},
   "outputs": [
    {
     "name": "stdout",
     "output_type": "stream",
     "text": [
      "{(8, 11), (12, 14), (5, 7), (1, 4)}\n"
     ]
    }
   ],
   "source": [
    "jobs = [(1, 4), (3, 5), (0, 6), (5, 7), (3, 8), (5, 9), (6, 10), (8, 11), (8, 12), (2, 13), (12, 14)]\n",
    "print(activity_selection(jobs))"
   ]
  },
  {
   "cell_type": "code",
   "execution_count": null,
   "id": "5c5cd32a-e7b8-41c2-b966-35890d5998c3",
   "metadata": {},
   "outputs": [],
   "source": []
  }
 ],
 "metadata": {
  "kernelspec": {
   "display_name": "Python 3 (ipykernel)",
   "language": "python",
   "name": "python3"
  },
  "language_info": {
   "codemirror_mode": {
    "name": "ipython",
    "version": 3
   },
   "file_extension": ".py",
   "mimetype": "text/x-python",
   "name": "python",
   "nbconvert_exporter": "python",
   "pygments_lexer": "ipython3",
   "version": "3.12.4"
  }
 },
 "nbformat": 4,
 "nbformat_minor": 5
}
