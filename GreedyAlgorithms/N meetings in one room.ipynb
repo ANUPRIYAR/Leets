{
 "cells": [
  {
   "cell_type": "markdown",
   "id": "f66e50d2-819b-4453-bd35-7bf7e24c47c3",
   "metadata": {},
   "source": [
    "## N meetings in one room\n",
    "<h3> Easy </h3> Accuracy: 34.51%Submissions: 251K+Points: 4\n",
    "\n",
    "<p></p> You are given timings of n meetings in the form of (start[i], end[i]) where start[i] is the start time of meeting i and end[i] is the finish time of meeting i. Return the maximum number of meetings that can be accommodated in a single meeting room, when only one meeting can be held in the meeting room at a particular time.  </p>\n",
    "\n",
    "<pre><strong>Note: The start time of one chosen meeting can't be equal to the end time of the other chosen meeting.</strong></pre>\n",
    "\n",
    "<p><strong class=\"example\">Examples :</strong></p>\n",
    "\n",
    "<pre>\n",
    "<strong>Input: </strong> n = 6, start[] = [1, 3, 0, 5, 8, 5], end[] =  [2, 4, 6, 7, 9, 9]\n",
    "<strong>Output:</strong> 4\n",
    "<strong>Explanation:</strong> Maximum four meetings can be held with given start and end timings. The meetings are - (1, 2), (3, 4), (5,7) and (8,9)\n",
    " </pre>\n",
    "\n",
    "<pre>\n",
    "<strong>Input: </strong>n = 3, start[] = [10, 12, 20], end[] = [20, 25, 30]\n",
    "<strong>Output:</strong> 1\n",
    "<strong>Explanation:</strong> Only one meetings can be held with given start and end timings.\n",
    " </pre>\n",
    "Expected Time Complexity: O(nlogn)\n",
    "Expected Auxilliary Space: O(n)\n",
    "\n",
    "\n",
    "<li>\n",
    "Constraints:\n",
    "</li>\n",
    "<li>\n",
    "1 <= n <= 105\n",
    "</li>\n",
    "<li>\n",
    "0 ≤ start[i] < end[i] ≤ 106\n",
    "</li>\n"
   ]
  },
  {
   "cell_type": "code",
   "execution_count": 1,
   "id": "b8c854b6-aa21-4562-a912-48d9bc7a9213",
   "metadata": {},
   "outputs": [],
   "source": [
    "class Solution:\n",
    "    \n",
    "    #Function to find the maximum number of meetings that can\n",
    "    #be performed in a meeting room.\n",
    "    def maximumMeetings(self,n,start,end):\n",
    "        meetings = []\n",
    "        for s, e in zip(start, end):\n",
    "            meetings.append([s, e])\n",
    "        \n",
    "        meetings.sort(key = lambda x:x[1])\n",
    "        single_room_meets = []\n",
    "        count = 1\n",
    "        prev_start, prev_end = meetings[0][0], meetings[0][1]\n",
    "        for start, end in meetings[1:]:\n",
    "            if prev_end < start:\n",
    "                count += 1\n",
    "                prev_end = end\n",
    "            \n",
    "        return count"
   ]
  },
  {
   "cell_type": "code",
   "execution_count": null,
   "id": "1177b6b3-51b7-4ea1-8b60-cc540c0ef120",
   "metadata": {},
   "outputs": [],
   "source": []
  }
 ],
 "metadata": {
  "kernelspec": {
   "display_name": "Python 3 (ipykernel)",
   "language": "python",
   "name": "python3"
  },
  "language_info": {
   "codemirror_mode": {
    "name": "ipython",
    "version": 3
   },
   "file_extension": ".py",
   "mimetype": "text/x-python",
   "name": "python",
   "nbconvert_exporter": "python",
   "pygments_lexer": "ipython3",
   "version": "3.12.4"
  }
 },
 "nbformat": 4,
 "nbformat_minor": 5
}
