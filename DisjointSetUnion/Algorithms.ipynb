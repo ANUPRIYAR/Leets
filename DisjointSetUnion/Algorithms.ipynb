{
 "cells": [
  {
   "cell_type": "code",
   "execution_count": null,
   "id": "initial_id",
   "metadata": {
    "collapsed": true
   },
   "outputs": [],
   "source": [
    "from collections import deque\n",
    "class Vertex:\n",
    "    def __init__(self):\n",
    "        self.id = None\n",
    "        self.adjacent = {}\n",
    "        self.distance = -1\n",
    "        self.visited = False\n",
    "        self.previous = None\n",
    "        \n",
    "class Graph:\n",
    "    def __init__(self):\n",
    "        self.vertices = {}\n",
    "        self.numVertices = 0\n",
    "        \n",
    "def unweightedShortestPath(graph, start):\n",
    "    startVertex = graph.vertices[start]\n",
    "    startVertex.distance = 0\n",
    "    startVertex.previous = None\n",
    "    startVertex.visited = True\n",
    "    queue = deque()\n",
    "    queue.append(startVertex)\n",
    "    while len(queue) > 0:\n",
    "        currentVertex = queue.pop(0)\n",
    "        for neighbor in currentVertex.adjacent:\n",
    "            if not neighbor.visited:\n",
    "                neighbor.distance = currentVertex.distance + 1\n",
    "                neighbor.previous = currentVertex\n",
    "                neighbor.visited = True\n",
    "                queue.append(neighbor)\n",
    "                \n",
    "    for vertex in graph.vertices:\n",
    "        print(f\"Vertex {vertex} has distance {graph.vertices[vertex].distance}\")\n",
    "        \n",
    "# Time Complexity: O(V + E), if adjacency lists are used.\n",
    "# In for loop, we are checking outgoing edges for a  given vertex and sum of all examined edges in the while loop is equal to the number of edges in the graph, which gives O(E)\n",
    "# If we use adjacency matrix, then time complexity is O(V^2), as we need to read an entire row for each vertex in order to find its neighbors.\n",
    "\n",
    "\n"
   ]
  },
  {
   "metadata": {
    "ExecuteTime": {
     "end_time": "2024-08-07T02:15:30.667059Z",
     "start_time": "2024-08-07T02:15:30.664413Z"
    }
   },
   "cell_type": "code",
   "source": "",
   "id": "a9885b8987a9ee03",
   "outputs": [],
   "execution_count": null
  },
  {
   "metadata": {},
   "cell_type": "code",
   "outputs": [],
   "execution_count": null,
   "source": "",
   "id": "5b53dc0b645e1a76"
  }
 ],
 "metadata": {
  "kernelspec": {
   "display_name": "Python 3",
   "language": "python",
   "name": "python3"
  },
  "language_info": {
   "codemirror_mode": {
    "name": "ipython",
    "version": 2
   },
   "file_extension": ".py",
   "mimetype": "text/x-python",
   "name": "python",
   "nbconvert_exporter": "python",
   "pygments_lexer": "ipython2",
   "version": "2.7.6"
  }
 },
 "nbformat": 4,
 "nbformat_minor": 5
}
