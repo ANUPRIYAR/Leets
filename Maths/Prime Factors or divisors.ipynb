{
 "cells": [
  {
   "metadata": {},
   "cell_type": "markdown",
   "source": "<p> Print divisors of a number </p>",
   "id": "30976cbb1094f7fc"
  },
  {
   "metadata": {
    "ExecuteTime": {
     "end_time": "2024-07-28T14:23:01.704367Z",
     "start_time": "2024-07-28T14:23:01.693445Z"
    }
   },
   "cell_type": "code",
   "source": [
    "from math import sqrt\n",
    "\n",
    "def check_prime(n):\n",
    "    for i in range(2, int(sqrt(n) + 1)):\n",
    "        if n % i == 0:\n",
    "            return False\n",
    "    return True"
   ],
   "id": "a4f76e13bfc17a45",
   "outputs": [],
   "execution_count": 1
  },
  {
   "metadata": {},
   "cell_type": "markdown",
   "source": "# Print all prime factors of a given number",
   "id": "e0b378a379104f18"
  },
  {
   "metadata": {
    "ExecuteTime": {
     "end_time": "2024-07-28T14:31:01.277083Z",
     "start_time": "2024-07-28T14:31:01.272121Z"
    }
   },
   "cell_type": "code",
   "source": [
    "def prime_factors(n):\n",
    "    prime = []\n",
    "    for i in range(2, int(sqrt(n) + 1)):\n",
    "        if n% i== 0:\n",
    "            if check_prime(i):\n",
    "                prime.append(i)\n",
    "        if n//i != i:\n",
    "            if check_prime(n//i):\n",
    "                prime.append(n//i)\n",
    "                \n",
    "    return prime\n",
    "\n",
    "prime_factors(200)               \n",
    "\n",
    "# Time complexity: O(sqrt(n))\n",
    "# Space complexity: O(1)"
   ],
   "id": "96921a3783de2210",
   "outputs": [
    {
     "data": {
      "text/plain": [
       "[2, 5]"
      ]
     },
     "execution_count": 5,
     "metadata": {},
     "output_type": "execute_result"
    }
   ],
   "execution_count": 5
  },
  {
   "metadata": {},
   "cell_type": "markdown",
   "source": "### Print all prime factors of a given number  =  Optimized solution",
   "id": "b74960b4b2834fab"
  },
  {
   "metadata": {
    "ExecuteTime": {
     "end_time": "2024-07-28T14:52:18.529557Z",
     "start_time": "2024-07-28T14:52:18.524005Z"
    }
   },
   "cell_type": "code",
   "source": [
    "def prime_factors_optimized(n):\n",
    "    prime = []\n",
    "    for i in range(2, int(sqrt(n) + 1)):\n",
    "        if n% i== 0:\n",
    "            if check_prime(i):\n",
    "                prime.append(i)\n",
    "                while n%i == 0:\n",
    "                    n = n//i\n",
    "    if n != 1:\n",
    "        prime.append(n)               \n",
    "        return prime\n",
    "\n",
    "prime_factors_optimized(39)"
   ],
   "id": "2ad66d4e52a285f9",
   "outputs": [
    {
     "data": {
      "text/plain": [
       "[3, 13]"
      ]
     },
     "execution_count": 17,
     "metadata": {},
     "output_type": "execute_result"
    }
   ],
   "execution_count": 17
  },
  {
   "metadata": {},
   "cell_type": "code",
   "outputs": [],
   "execution_count": null,
   "source": "",
   "id": "8c6962aa4f3b9083"
  }
 ],
 "metadata": {
  "kernelspec": {
   "display_name": "Python 3",
   "language": "python",
   "name": "python3"
  },
  "language_info": {
   "codemirror_mode": {
    "name": "ipython",
    "version": 2
   },
   "file_extension": ".py",
   "mimetype": "text/x-python",
   "name": "python",
   "nbconvert_exporter": "python",
   "pygments_lexer": "ipython2",
   "version": "2.7.6"
  }
 },
 "nbformat": 4,
 "nbformat_minor": 5
}
