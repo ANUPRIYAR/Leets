{
 "cells": [
  {
   "metadata": {},
   "cell_type": "markdown",
   "source": [
    "## **Power Exponentiation**\n",
    "<p> <strong> <italic> The pow() function returns the value of x to the power of y (xy). </italic> </strong> </p>\n",
    "<strong> <code > pow(2, 5) = 2 ^5 = 32 </code> </strong>\n"
   ],
   "id": "893a7ee3f71cd29f"
  },
  {
   "metadata": {},
   "cell_type": "markdown",
   "source": "<img src=\"\">",
   "id": "45e772379a228953"
  },
  {
   "metadata": {
    "ExecuteTime": {
     "end_time": "2024-07-28T15:09:01.088183Z",
     "start_time": "2024-07-28T15:09:01.068718Z"
    }
   },
   "cell_type": "code",
   "source": [
    "def power_exponentiation(x, y):\n",
    "    if y == 0:\n",
    "        return 1\n",
    "    \n",
    "    res = power_exponentiation(x, y//2)  \n",
    "    if y % 2 == 1:\n",
    "        return res * res * x\n",
    "    else:\n",
    "        return res * res\n",
    "\n",
    "print(power_exponentiation(2, 5)) "
   ],
   "id": "1fb587e9ef7b88aa",
   "outputs": [
    {
     "name": "stdout",
     "output_type": "stream",
     "text": [
      "32\n"
     ]
    }
   ],
   "execution_count": 2
  },
  {
   "metadata": {},
   "cell_type": "code",
   "outputs": [],
   "execution_count": null,
   "source": "",
   "id": "3e73015da0683b52"
  }
 ],
 "metadata": {
  "kernelspec": {
   "display_name": "Python 3",
   "language": "python",
   "name": "python3"
  },
  "language_info": {
   "codemirror_mode": {
    "name": "ipython",
    "version": 2
   },
   "file_extension": ".py",
   "mimetype": "text/x-python",
   "name": "python",
   "nbconvert_exporter": "python",
   "pygments_lexer": "ipython2",
   "version": "2.7.6"
  }
 },
 "nbformat": 4,
 "nbformat_minor": 5
}
