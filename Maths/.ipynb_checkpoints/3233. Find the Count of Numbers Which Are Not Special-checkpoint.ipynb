{
 "cells": [
  {
   "cell_type": "code",
   "id": "initial_id",
   "metadata": {
    "collapsed": true,
    "ExecuteTime": {
     "end_time": "2024-07-28T18:21:00.591002Z",
     "start_time": "2024-07-28T18:21:00.583694Z"
    }
   },
   "source": [
    ""
   ],
   "outputs": [],
   "execution_count": null
  },
  {
   "metadata": {
    "ExecuteTime": {
     "end_time": "2024-07-28T18:25:39.541527Z",
     "start_time": "2024-07-28T18:25:39.532320Z"
    }
   },
   "cell_type": "code",
   "source": [
    "import time\n",
    "from math import sqrt\n",
    "class Solution:\n",
    "    def nonSpecialCount(self, l: int, r: int) -> int:\n",
    "        start = time.time()\n",
    "        prime_numbers = self.find_prime_range(l, r)\n",
    "        end = time.time()\n",
    "        print(f\"Time taken to find prime numbers : {end - start}\")\n",
    "        \n",
    "        print(f\"total prime numbers : {len(prime_numbers)}\")\n",
    "        special_count = 0\n",
    "        \n",
    "        start = time.time()\n",
    "        for prime in prime_numbers:\n",
    "            if l <= prime * prime  <= r:\n",
    "                special_count += 1\n",
    "        end = time.time()\n",
    "        print(f\"Time taken to find special numbers : {end - start}\")    \n",
    "        print(f\"special count : {special_count}\")   \n",
    "        non_special_count = (r -l + 1) - special_count\n",
    "        return non_special_count\n",
    "\n",
    "\n",
    "    def find_prime_range(self, l, r):\n",
    "        prime = [1]* (r + 1)\n",
    "        prime[0]= prime[1] = 0\n",
    "\n",
    "        for i in range(2, int(sqrt(r) + 1)):\n",
    "            if prime[i] == 1:\n",
    "                for j in range(i*i , r + 1, i):\n",
    "                    prime[j] = 0\n",
    "\n",
    "        prime_numbers = []\n",
    "        for i in range(int(sqrt(l) -1), r+1):\n",
    "            if prime[i] == 1:\n",
    "                prime_numbers.append(i)\n",
    "\n",
    "\n",
    "        return prime_numbers "
   ],
   "id": "84c712036a5cd858",
   "outputs": [],
   "execution_count": 7
  },
  {
   "metadata": {
    "ExecuteTime": {
     "end_time": "2024-07-28T18:25:50.143786Z",
     "start_time": "2024-07-28T18:25:41.936902Z"
    }
   },
   "cell_type": "code",
   "source": [
    "sol = Solution()\n",
    "l = 10086764\n",
    "r = 96508040\n",
    "sol.nonSpecialCount(l, r)"
   ],
   "id": "59a8cdd1064e9bab",
   "outputs": [
    {
     "name": "stdout",
     "output_type": "stream",
     "text": [
      "Time taken to find prime numbers : 7.943507671356201\n",
      "total prime numbers : 5571278\n",
      "Time taken to find special numbers : 0.22084665298461914\n",
      "special count : 762\n"
     ]
    },
    {
     "data": {
      "text/plain": [
       "86420515"
      ]
     },
     "execution_count": 8,
     "metadata": {},
     "output_type": "execute_result"
    }
   ],
   "execution_count": 8
  },
  {
   "metadata": {
    "ExecuteTime": {
     "end_time": "2024-07-28T18:22:45.426245Z",
     "start_time": "2024-07-28T18:22:45.406361Z"
    }
   },
   "cell_type": "code",
   "source": "r-l",
   "id": "b7be448a920b4eee",
   "outputs": [
    {
     "data": {
      "text/plain": [
       "86421276"
      ]
     },
     "execution_count": 4,
     "metadata": {},
     "output_type": "execute_result"
    }
   ],
   "execution_count": 4
  },
  {
   "metadata": {},
   "cell_type": "code",
   "outputs": [],
   "execution_count": null,
   "source": "",
   "id": "b8daf5d15ee0db34"
  }
 ],
 "metadata": {
  "kernelspec": {
   "display_name": "Python 3",
   "language": "python",
   "name": "python3"
  },
  "language_info": {
   "codemirror_mode": {
    "name": "ipython",
    "version": 2
   },
   "file_extension": ".py",
   "mimetype": "text/x-python",
   "name": "python",
   "nbconvert_exporter": "python",
   "pygments_lexer": "ipython2",
   "version": "2.7.6"
  }
 },
 "nbformat": 4,
 "nbformat_minor": 5
}
