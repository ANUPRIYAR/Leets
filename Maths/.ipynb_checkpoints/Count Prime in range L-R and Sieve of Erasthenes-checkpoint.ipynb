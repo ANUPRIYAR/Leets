{
 "cells": [
  {
   "metadata": {},
   "cell_type": "markdown",
   "source": [
    "## <bold> Seive of Eratosthenes </bold>\n",
    "\n",
    "<p> We can create a list of consecutive integers from 2 to ‘n’. </p>\n",
    "\n",
    "<p>  <italic> Start with the prime number which is 2. Mark all of its multiple greater than 2 as composite (ie. 4, 6, 8, 10 and so on). Find the next number in the list that is not marked as composite. This is the next prime number. Repeat until all numbers up to ‘n’ have to be processed. </italic> </p>\n"
   ],
   "id": "b2465f9911fa00ef"
  },
  {
   "metadata": {
    "ExecuteTime": {
     "end_time": "2024-07-28T15:41:41.599384Z",
     "start_time": "2024-07-28T15:41:41.583857Z"
    }
   },
   "cell_type": "code",
   "source": [
    "import math\n",
    "\n",
    "def find_all_primes(n):\n",
    "    # Initialise with 1 (assuming all numbers are prime initially)\n",
    "    prime = [1] * (n + 1)\n",
    "    # 0 and 1 are not prime\n",
    "    prime[0] = prime[1] = 0\n",
    "    \n",
    "    # Apply Sieve of Eratosthenes\n",
    "    for i in range(2, int(math.sqrt(n) + 1)):\n",
    "        if prime[i] == 1:\n",
    "            for j in range(i*i, n+1, i):\n",
    "                # Mark multiples of prime numbers as not prime\n",
    "                prime[j] = 0\n",
    "                \n",
    "    prime_numbers = []\n",
    "    for i in range(2, n+1):\n",
    "        if prime[i] == 1:\n",
    "            prime_numbers.append(i)\n",
    "            \n",
    "    return prime_numbers\n",
    "            \n",
    "            \n",
    "print(find_all_primes(136))           "
   ],
   "id": "c44507dd207660e",
   "outputs": [
    {
     "name": "stdout",
     "output_type": "stream",
     "text": [
      "[2, 3, 5, 7, 11, 13, 17, 19, 23, 29, 31, 37, 41, 43, 47, 53, 59, 61, 67, 71, 73, 79, 83, 89, 97, 101, 103, 107, 109, 113, 127, 131]\n"
     ]
    }
   ],
   "execution_count": 6
  },
  {
   "metadata": {},
   "cell_type": "markdown",
   "source": "## Prime Numbers in a given range : L-R",
   "id": "c2ecbe5af8a64626"
  },
  {
   "metadata": {
    "ExecuteTime": {
     "end_time": "2024-07-28T16:42:07.067238Z",
     "start_time": "2024-07-28T16:42:07.048221Z"
    }
   },
   "cell_type": "code",
   "source": [
    "def find_primes_in_range(L, R):\n",
    "    prime = [1] * (R + 1)\n",
    "    prime[0] = prime[1] = 0\n",
    "    \n",
    "    for i in range(2, int(math.sqrt(R) + 1)):\n",
    "        if prime[i] == 1:\n",
    "            for j in range(i*i, R+1, i):\n",
    "                prime[j] = 0\n",
    "                \n",
    "    prime_numbers = []\n",
    "    for i in range(L, R+1):\n",
    "        if prime[i] == 1:\n",
    "            prime_numbers.append(i)\n",
    "            \n",
    "    return prime_numbers\n",
    "\n",
    "find_primes_in_range(10, 50)"
   ],
   "id": "5cc64932346d9075",
   "outputs": [
    {
     "data": {
      "text/plain": [
       "[11, 13, 17, 19, 23, 29, 31, 37, 41, 43, 47]"
      ]
     },
     "execution_count": 7,
     "metadata": {},
     "output_type": "execute_result"
    }
   ],
   "execution_count": 7
  },
  {
   "metadata": {},
   "cell_type": "markdown",
   "source": "## Count prime number in a given range L-R",
   "id": "af7df58e8881bcd9"
  },
  {
   "metadata": {
    "ExecuteTime": {
     "end_time": "2024-07-28T16:42:41.171799Z",
     "start_time": "2024-07-28T16:42:41.167960Z"
    }
   },
   "cell_type": "code",
   "source": [
    "def count_primes_in_range(L, R):\n",
    "    prime = [1] * (R + 1)\n",
    "    prime[0] = prime[1] = 0\n",
    "    \n",
    "    for i in range(2, int(math.sqrt(R) + 1)):\n",
    "        if prime[i] == 1:\n",
    "            for j in range(i*i, R+1, i):\n",
    "                prime[j] = 0\n",
    "                \n",
    "    count = 0\n",
    "    for i in range(L, R+1):\n",
    "        if prime[i] == 1:\n",
    "            count += 1\n",
    "            \n",
    "    return count"
   ],
   "id": "c3bda4cdc11de208",
   "outputs": [],
   "execution_count": 8
  },
  {
   "metadata": {},
   "cell_type": "markdown",
   "source": "<p> <strong > We can further reduce the time complexity of the previous algorithm by avoiding redundant counting of primes for each index. For each query, we need to continuously count the number of primes between the left and right endpoints. If we pre calculate the count of primes up to each index we can answer each query in constant time complexity. </strong> </p>",
   "id": "6d13efed0e0756d3"
  },
  {
   "metadata": {},
   "cell_type": "code",
   "outputs": [],
   "execution_count": null,
   "source": "",
   "id": "c6cabc410e9757d6"
  }
 ],
 "metadata": {
  "kernelspec": {
   "display_name": "Python 3",
   "language": "python",
   "name": "python3"
  },
  "language_info": {
   "codemirror_mode": {
    "name": "ipython",
    "version": 2
   },
   "file_extension": ".py",
   "mimetype": "text/x-python",
   "name": "python",
   "nbconvert_exporter": "python",
   "pygments_lexer": "ipython2",
   "version": "2.7.6"
  }
 },
 "nbformat": 4,
 "nbformat_minor": 5
}
