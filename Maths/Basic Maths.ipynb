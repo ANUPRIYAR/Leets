{
 "cells": [
  {
   "metadata": {},
   "cell_type": "markdown",
   "source": "## **Reverse the Number**",
   "id": "5f12fb669194b912"
  },
  {
   "cell_type": "code",
   "id": "initial_id",
   "metadata": {
    "collapsed": true,
    "ExecuteTime": {
     "end_time": "2024-07-28T09:42:19.357159Z",
     "start_time": "2024-07-28T09:42:19.352763Z"
    }
   },
   "source": [
    "# Reverse the Number \n",
    "def reverse_digits(n):\n",
    "    digits = []\n",
    "    while n > 0:\n",
    "        digits.append(n%10)\n",
    "        n //= 10\n",
    "    return int(''.join((list(map(str, digits)))))\n",
    "\n",
    "n = 56902\n",
    "reverse_digits(n)"
   ],
   "outputs": [
    {
     "data": {
      "text/plain": [
       "20965"
      ]
     },
     "execution_count": 4,
     "metadata": {},
     "output_type": "execute_result"
    }
   ],
   "execution_count": 4
  },
  {
   "metadata": {
    "ExecuteTime": {
     "end_time": "2024-07-28T09:57:13.957673Z",
     "start_time": "2024-07-28T09:57:13.953654Z"
    }
   },
   "cell_type": "code",
   "source": [
    "# Find reverse number : Better Approach \n",
    "def find_reverse(n):\n",
    "    rev_num = 0\n",
    "    while n > 0:\n",
    "        last_digit = n % 10\n",
    "        rev_num = (rev_num * 10) + last_digit\n",
    "        n //= 10\n",
    "    return rev_num\n",
    "\n",
    "n = 56902\n",
    "reverse_digits(n)"
   ],
   "id": "1bbb6cdb775a344e",
   "outputs": [
    {
     "data": {
      "text/plain": [
       "20965"
      ]
     },
     "execution_count": 9,
     "metadata": {},
     "output_type": "execute_result"
    }
   ],
   "execution_count": 9
  },
  {
   "metadata": {},
   "cell_type": "markdown",
   "source": "## **Count the number of digits** ",
   "id": "18768f2a58067e23"
  },
  {
   "metadata": {
    "ExecuteTime": {
     "end_time": "2024-07-28T09:45:11.250266Z",
     "start_time": "2024-07-28T09:45:11.245388Z"
    }
   },
   "cell_type": "code",
   "source": [
    "# Time Complexity: O(LOG10(N)\n",
    "def find_numberofdigits(n):\n",
    "    count = 0\n",
    "    while n > 0:\n",
    "        count += 1\n",
    "        n //= 10              # => this part can be utlized for logarithm ic appporach \n",
    "    return count\n",
    "\n",
    "n =  793329393\n",
    "find_numberofdigits(n)"
   ],
   "id": "4bad21a1bad5c01e",
   "outputs": [
    {
     "data": {
      "text/plain": [
       "9"
      ]
     },
     "execution_count": 6,
     "metadata": {},
     "output_type": "execute_result"
    }
   ],
   "execution_count": 6
  },
  {
   "metadata": {},
   "cell_type": "markdown",
   "source": "###### **O(1) Method to Count digits of a Number**",
   "id": "f9a29851b3c9a9fb"
  },
  {
   "metadata": {
    "ExecuteTime": {
     "end_time": "2024-07-28T09:48:59.719383Z",
     "start_time": "2024-07-28T09:48:59.715097Z"
    }
   },
   "cell_type": "code",
   "source": [
    "from math import log10\n",
    "\n",
    "def find_digit_count(n):\n",
    "    count = int(log10(n) + 1)\n",
    "    return count\n",
    "\n",
    "n =  793329393\n",
    "find_digit_count(n)"
   ],
   "id": "dd12bf04d7f62238",
   "outputs": [
    {
     "data": {
      "text/plain": [
       "9"
      ]
     },
     "execution_count": 8,
     "metadata": {},
     "output_type": "execute_result"
    }
   ],
   "execution_count": 8
  },
  {
   "metadata": {},
   "cell_type": "markdown",
   "source": [
    "## **Armstrong Number**\n",
    "\n",
    "153: (1^3 + 5^3 + 3^3 = 1 + 125 + 27 = 153)\n",
    "9474: (9^4 + 4^4 + 7^4 + 4^4 = 6561 + 256 + 2401 + 256 = 9474) \n"
   ],
   "id": "92b1324b419f8b4b"
  },
  {
   "metadata": {
    "ExecuteTime": {
     "end_time": "2024-07-28T10:37:07.231710Z",
     "start_time": "2024-07-28T10:37:07.225900Z"
    }
   },
   "cell_type": "code",
   "source": [
    "def check_armstrong(n):\n",
    "    sum_, original_n = 0, n\n",
    "    while n > 0:\n",
    "        last_dig = n % 10\n",
    "        sum_ += (last_dig*last_dig*last_dig)\n",
    "        n //= 10\n",
    "    return sum_ == original_n\n",
    "\n",
    "n = 153\n",
    "check_armstrong(n)"
   ],
   "id": "3352929426e1be42",
   "outputs": [
    {
     "data": {
      "text/plain": [
       "True"
      ]
     },
     "execution_count": 4,
     "metadata": {},
     "output_type": "execute_result"
    }
   ],
   "execution_count": 4
  },
  {
   "metadata": {},
   "cell_type": "markdown",
   "source": "## Find the factors of number",
   "id": "9dd01d2adabe2547"
  },
  {
   "metadata": {
    "ExecuteTime": {
     "end_time": "2024-07-28T10:41:51.728255Z",
     "start_time": "2024-07-28T10:41:51.721707Z"
    }
   },
   "cell_type": "code",
   "source": [
    "from math import sqrt\n",
    "\n",
    "def find_factors(n):\n",
    "    factors = []\n",
    "    \n",
    "    for i in range(2, int(sqrt(n))):\n",
    "        if n% i == 0:\n",
    "            factors.append(i)\n",
    "            if i != n:\n",
    "                factors.append(n//i)\n",
    "    return factors\n",
    "     \n",
    "n = 100\n",
    "find_factors(n)"
   ],
   "id": "ba074cbb7354f5c6",
   "outputs": [
    {
     "data": {
      "text/plain": [
       "[2, 4, 5, 20, 25, 50]"
      ]
     },
     "execution_count": 7,
     "metadata": {},
     "output_type": "execute_result"
    }
   ],
   "execution_count": 7
  },
  {
   "metadata": {},
   "cell_type": "markdown",
   "source": "## Find GCD or HCF of two numbers",
   "id": "568b7bdd1054dc33"
  },
  {
   "metadata": {
    "ExecuteTime": {
     "end_time": "2024-07-28T12:40:35.804811Z",
     "start_time": "2024-07-28T12:40:35.799419Z"
    }
   },
   "cell_type": "code",
   "source": [
    "# Brute Force Approach\n",
    "def find_gcd(a, b):\n",
    "    for i in range(min(a, b),0, -1):\n",
    "        if a%i == 0 and b%i == 0:\n",
    "            gcd = i  \n",
    "            break\n",
    "    return gcd\n",
    "\n",
    "a, b = 12, 15\n",
    "find_gcd(a, b)"
   ],
   "id": "953a9a245ee935e6",
   "outputs": [
    {
     "data": {
      "text/plain": [
       "3"
      ]
     },
     "execution_count": 11,
     "metadata": {},
     "output_type": "execute_result"
    }
   ],
   "execution_count": 11
  },
  {
   "metadata": {},
   "cell_type": "markdown",
   "source": [
    "# Euclidean Algorithm\n",
    "<strong>  gcd(a, b) = gcd(a-b, b) </strong>\n",
    "\n",
    "<p> <strong> <italic> <code> Eg: gcd(20, 15) = gcd(5, 15) = gcd(5, 10) = gcd(5, 5) = gcd(0, 5) = 5 </code> </italic> </strong> </p>\n",
    "<p> <italic> The moment we get 0, we return the other number </italic> </p>\n",
    "\n",
    "\n",
    "<p> <strong> <italic> But this might take a lot of space in the stack, so we can use the modulo operator to reduce the space complexity. since 20%15 = 5, we can replace 20 with 15 and 15 with 5. </italic> </strong> </p>\n",
    "<p> <italic> Time Complexity becomes: log(min(a, b)) </italic> </p>"
   ],
   "id": "f136ee140bde02f4"
  },
  {
   "metadata": {
    "ExecuteTime": {
     "end_time": "2024-07-28T12:56:16.606562Z",
     "start_time": "2024-07-28T12:56:16.601595Z"
    }
   },
   "cell_type": "code",
   "source": [
    "def find_gcd(a, b):\n",
    "    if b== 0:\n",
    "        return a\n",
    "    return find_gcd(b, a%b)\n",
    "\n",
    "find_gcd(20, 15)"
   ],
   "id": "1293db8d390e224c",
   "outputs": [
    {
     "data": {
      "text/plain": [
       "5"
      ]
     },
     "execution_count": 12,
     "metadata": {},
     "output_type": "execute_result"
    }
   ],
   "execution_count": 12
  },
  {
   "metadata": {},
   "cell_type": "code",
   "outputs": [],
   "execution_count": null,
   "source": "",
   "id": "84e31a9b9b265e83"
  }
 ],
 "metadata": {
  "kernelspec": {
   "display_name": "Python 3",
   "language": "python",
   "name": "python3"
  },
  "language_info": {
   "codemirror_mode": {
    "name": "ipython",
    "version": 2
   },
   "file_extension": ".py",
   "mimetype": "text/x-python",
   "name": "python",
   "nbconvert_exporter": "python",
   "pygments_lexer": "ipython2",
   "version": "2.7.6"
  }
 },
 "nbformat": 4,
 "nbformat_minor": 5
}
