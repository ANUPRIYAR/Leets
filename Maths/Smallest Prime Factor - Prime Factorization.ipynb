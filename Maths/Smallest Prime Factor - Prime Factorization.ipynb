{
 "cells": [
  {
   "metadata": {},
   "cell_type": "markdown",
   "source": [
    "# Prime Factorization of a number (Queries)\n",
    "1. 12 -> 2, 2, 3\n",
    "2. 15 -> 3, 5\n",
    "3. 60 -> 2, 2, 3, 5\n",
    "\n",
    "##### Optimized Approach:\n",
    "1. Create an SPF array of size n+1\n",
    "2. Initialize SPF array with its own index\n",
    "3. Start from 2 and go till sqrt(n) and update SPF array with the smallest prime factor of a number\n",
    "4. If SPF[i] == i, then i is prime\n",
    "5. For all multiples of i, update SPF[j] = i"
   ],
   "id": "e8f0db9c4f3a2d9b"
  },
  {
   "metadata": {
    "ExecuteTime": {
     "end_time": "2024-07-28T17:40:45.893219Z",
     "start_time": "2024-07-28T17:40:45.889167Z"
    }
   },
   "cell_type": "code",
   "source": [
    "from math import sqrt\n",
    "\n",
    "def prime_factorization(n):\n",
    "    spf = list(range(n+1))\n",
    "\n",
    "    for i in range(2, int(sqrt(n) + 1)):\n",
    "        if spf[i] == i:\n",
    "            for j in range(i*i, n+1, i):\n",
    "                if spf[j] == j:\n",
    "                    spf[j] = i\n",
    "    return spf"
   ],
   "id": "db6cd6c64ac9d480",
   "outputs": [],
   "execution_count": 6
  },
  {
   "metadata": {
    "ExecuteTime": {
     "end_time": "2024-07-28T17:40:47.858474Z",
     "start_time": "2024-07-28T17:40:47.851630Z"
    }
   },
   "cell_type": "code",
   "source": "prime_factorization(10)",
   "id": "555ab337f1f336",
   "outputs": [
    {
     "data": {
      "text/plain": [
       "[0, 1, 2, 3, 2, 5, 2, 7, 2, 3, 2]"
      ]
     },
     "execution_count": 7,
     "metadata": {},
     "output_type": "execute_result"
    }
   ],
   "execution_count": 7
  },
  {
   "metadata": {},
   "cell_type": "code",
   "outputs": [],
   "execution_count": null,
   "source": "",
   "id": "a60d5e6b13d3ca18"
  }
 ],
 "metadata": {
  "kernelspec": {
   "display_name": "Python 3",
   "language": "python",
   "name": "python3"
  },
  "language_info": {
   "codemirror_mode": {
    "name": "ipython",
    "version": 2
   },
   "file_extension": ".py",
   "mimetype": "text/x-python",
   "name": "python",
   "nbconvert_exporter": "python",
   "pygments_lexer": "ipython2",
   "version": "2.7.6"
  }
 },
 "nbformat": 4,
 "nbformat_minor": 5
}
