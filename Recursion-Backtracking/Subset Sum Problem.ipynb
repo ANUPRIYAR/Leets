{
 "cells": [
  {
   "cell_type": "raw",
   "id": "a294af0a-a8a7-421f-8bf9-c50e9d8bef6f",
   "metadata": {},
   "source": [
    "Subset Sum Problem\n",
    "Difficulty: MediumAccuracy: 32.0%Submissions: 228K+Points: 4\n",
    "Given an array of non-negative integers, and a value sum, determine if there is a subset of the given set with sum equal to given sum. \n",
    "\n",
    "\n",
    "Example 1:\n",
    "\n",
    "Input:\n",
    "N = 6\n",
    "arr[] = {3, 34, 4, 12, 5, 2}\n",
    "sum = 9\n",
    "Output: 1 \n",
    "Explanation: Here there exists a subset with\n",
    "sum = 9, 4+3+2 = 9.\n",
    "Example 2:\n",
    "\n",
    "Input:\n",
    "N = 6\n",
    "arr[] = {3, 34, 4, 12, 5, 2}\n",
    "sum = 30\n",
    "Output: 0 \n",
    "Explanation: There is no subset with sum 30.\n",
    "\n",
    "Your Task:  \n",
    "You don't need to read input or print anything. Your task is to complete the function isSubsetSum() which takes the array arr[], its size N and an integer sum as input parameters and returns boolean value true if there exists a subset with given sum and false otherwise.\n",
    "The driver code itself prints 1, if returned value is true and prints 0 if returned value is false.\n",
    " \n",
    "\n",
    "Expected Time Complexity: O(sum*N)\n",
    "Expected Auxiliary Space: O(sum*N)\n",
    " \n",
    "\n",
    "Constraints:\n",
    "1 <= N <= 100\n",
    "1<= arr[i] <= 100\n",
    "1<= sum <= 104\n",
    "\n",
    "Seen this question in a real interview before ?\n",
    "Yes\n",
    "No\n",
    "Company Tags\n",
    "AmazonMicrosoft"
   ]
  },
  {
   "cell_type": "code",
   "execution_count": 1,
   "id": "745df543-6002-4ea7-8f11-a1a1196c8db3",
   "metadata": {},
   "outputs": [],
   "source": [
    "class Solution:\n",
    "    def isSubsetSum (self, N, arr, sum):\n",
    "        def backtrack(index, sum, dp):\n",
    "            if sum == 0:\n",
    "                return 1\n",
    "            \n",
    "            if index >= N:\n",
    "                return 0\n",
    "                \n",
    "            take = False\n",
    "            if dp[index][sum] == -1:\n",
    "                if arr[index] <= sum:\n",
    "                    take = backtrack(index + 1, sum - arr[index], dp)\n",
    "                not_take = backtrack(index + 1, sum, dp)\n",
    "                \n",
    "                dp[index][sum] = take or not_take\n",
    "            return dp[index][sum]\n",
    "                \n",
    "        dp = [[-1]*(sum + 1) for _ in range(N)]\n",
    "        return backtrack(0, sum, dp)"
   ]
  },
  {
   "cell_type": "markdown",
   "id": "3c90489c-a6c3-4b95-bed8-5c72c66a52be",
   "metadata": {},
   "source": [
    "# Bottom Up "
   ]
  },
  {
   "cell_type": "code",
   "execution_count": 2,
   "id": "8b247fc5-f469-4b21-9707-30897734170a",
   "metadata": {},
   "outputs": [],
   "source": [
    "class Solution:\n",
    "    def isSubsetSum (self, N, arr, sum):\n",
    "        dp = [[0]*(sum + 1) for _ in range(N +1)]\n",
    "        \n",
    "        for i in range(N + 1):\n",
    "            dp[i][0] = 1   # sum can be always 0 when taken an empty list\n",
    "            \n",
    "        for i in range(1, N + 1):\n",
    "            for j in range(1, sum + 1):\n",
    "                if arr[i-1] > j:\n",
    "                    dp[i][j] = dp[i-1][j] \n",
    "                else:\n",
    "                    dp[i][j] = dp[i-1][j] or dp[i-1][j - arr[i-1]]\n",
    "        return dp[N][sum]"
   ]
  },
  {
   "cell_type": "code",
   "execution_count": null,
   "id": "abe0fc59-b012-419d-bed6-91edc310353e",
   "metadata": {},
   "outputs": [],
   "source": []
  }
 ],
 "metadata": {
  "kernelspec": {
   "display_name": "Python 3 (ipykernel)",
   "language": "python",
   "name": "python3"
  },
  "language_info": {
   "codemirror_mode": {
    "name": "ipython",
    "version": 3
   },
   "file_extension": ".py",
   "mimetype": "text/x-python",
   "name": "python",
   "nbconvert_exporter": "python",
   "pygments_lexer": "ipython3",
   "version": "3.11.5"
  },
  "widgets": {
   "application/vnd.jupyter.widget-state+json": {
    "state": {},
    "version_major": 2,
    "version_minor": 0
   }
  }
 },
 "nbformat": 4,
 "nbformat_minor": 5
}
