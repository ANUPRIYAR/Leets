{
 "cells": [
  {
   "cell_type": "code",
   "execution_count": null,
   "id": "954bd027c358a828",
   "metadata": {},
   "outputs": [],
   "source": "# Code structure / Pattern\n"
  },
  {
   "cell_type": "code",
   "execution_count": null,
   "id": "7cce84878b109507",
   "metadata": {},
   "outputs": [],
   "source": [
    "# Subsequences\n",
    "def func(....):\n",
    "    return backtrack(0, [])\n",
    "\n",
    "def backtrack(index, result):\n",
    "    if index >= len(....):  # base case\n",
    "        print(result)\n",
    "        return \n",
    "    \n",
    "    # include\n",
    "    result.append(....[index])\n",
    "    backtrack(index+1, result)\n",
    "    result.pop()\n",
    "    # exclude\n",
    "    backtrack(index+1, result)\n",
    "    "
   ]
  },
  {
   "cell_type": "code",
   "execution_count": 1,
   "id": "99915c7a1f0b180",
   "metadata": {
    "ExecuteTime": {
     "end_time": "2024-07-17T05:21:08.401837Z",
     "start_time": "2024-07-17T05:21:08.382825Z"
    }
   },
   "outputs": [
    {
     "name": "stdout",
     "output_type": "stream",
     "text": [
      "[3, 1, 2]\n",
      "[3, 1]\n",
      "[3, 2]\n",
      "[3]\n",
      "[1, 2]\n",
      "[1]\n",
      "[2]\n",
      "[]\n"
     ]
    }
   ],
   "source": [
    "arr = [3, 1, 2]\n",
    "\n",
    "def print_subsequences(arr):\n",
    "    def backtrack(index, result):\n",
    "        if index >= len(arr):\n",
    "            print(result)\n",
    "            return \n",
    "        \n",
    "        result.append(arr[index])\n",
    "        backtrack(index + 1, result)\n",
    "        result.pop()\n",
    "        backtrack(index + 1, result)\n",
    "    \n",
    "    backtrack(0, [])\n",
    "    \n",
    "print_subsequences(arr)"
   ]
  },
  {
   "cell_type": "code",
   "execution_count": 44,
   "id": "5da37b5d17052c19",
   "metadata": {
    "ExecuteTime": {
     "end_time": "2024-07-17T15:12:57.039683Z",
     "start_time": "2024-07-17T15:12:57.034657Z"
    }
   },
   "outputs": [
    {
     "name": "stdout",
     "output_type": "stream",
     "text": [
      "[1, 1]\n",
      "[2]\n"
     ]
    }
   ],
   "source": [
    "# Printing subsequences who sum is k\n",
    "def print_subsequences(arr, target):\n",
    "    def backtrack(index, result, sum_):\n",
    "        if index == len(arr):\n",
    "            if sum_ == target:\n",
    "                print(result)\n",
    "            return \n",
    "            \n",
    "        result.append(arr[index])\n",
    "        sum_ += arr[index]\n",
    "        backtrack(index + 1, result, sum_)\n",
    "        result.pop()\n",
    "        sum_ -= arr[index]\n",
    "        backtrack(index + 1, result, sum_)\n",
    "        \n",
    "    backtrack(0, [], 0)\n",
    "\n",
    "arr = [1,2,1]  \n",
    "target = 2\n",
    "print_subsequences(arr, target)    "
   ]
  },
  {
   "cell_type": "code",
   "execution_count": 26,
   "id": "af6fd23a6bc77728",
   "metadata": {
    "ExecuteTime": {
     "end_time": "2024-07-17T07:20:57.464695Z",
     "start_time": "2024-07-17T07:20:57.447735Z"
    }
   },
   "outputs": [
    {
     "name": "stdout",
     "output_type": "stream",
     "text": [
      "[1, 1]\n"
     ]
    }
   ],
   "source": [
    "# Print any one subsequence whose sum is k ( or any other condition is satisfied \n",
    "def print_subsequences(arr, target):\n",
    "    def backtrack(index, result, sum_):\n",
    "        if index == len(arr):\n",
    "            if sum_ == target:\n",
    "                print(result)\n",
    "                return True # if condition satisfied, return True\n",
    "            return False # if no returns , return False\n",
    "            \n",
    "        result.append(arr[index])\n",
    "        sum_ += arr[index]\n",
    "        if backtrack(index + 1, result, sum_):  # change this to boolean\n",
    "            return True\n",
    "        result.pop()\n",
    "        sum_ -= arr[index]\n",
    "        if backtrack(index + 1, result, sum_): # change this to boolean\n",
    "            return True\n",
    "        return False  # if no true returns, return False\n",
    "    \n",
    "    backtrack(0, [], 0)\n",
    "\n",
    "arr = [1,2,1]\n",
    "sum = 2 \n",
    "\n",
    "print_subsequences(arr, sum) "
   ]
  },
  {
   "cell_type": "code",
   "execution_count": 30,
   "id": "f1b46dc3cd15ac09",
   "metadata": {
    "ExecuteTime": {
     "end_time": "2024-07-17T07:38:52.192195Z",
     "start_time": "2024-07-17T07:38:52.187193Z"
    }
   },
   "outputs": [
    {
     "name": "stdout",
     "output_type": "stream",
     "text": [
      "2\n"
     ]
    }
   ],
   "source": [
    "# Count the number of subsequences who sum is k\n",
    "def count_subsequences(arr, target):\n",
    "    def backtrack(index, result, sum_):\n",
    "        # strictly if array contain positives only\n",
    "        if sum > target: return 0 # Additional Base condition,(we can write multiple base cases) \n",
    "        if index == len(arr):\n",
    "            if sum_ == target:\n",
    "                return 1 # if condition satisfied, return 1\n",
    "            return 0 # else 0\n",
    "            \n",
    "        result.append(arr[index])\n",
    "        sum_ += arr[index]\n",
    "        left =  backtrack(index + 1, result, sum_)  # get the left count\n",
    "        result.pop()\n",
    "        sum_ -= arr[index]\n",
    "        \n",
    "        right =  backtrack(index + 1, result, sum_) # get the right count\n",
    "        return left + right  # Add them both and return\n",
    "    \n",
    "    return backtrack(0, [], 0) # return whatever backtrack returns \n",
    "    \n",
    "arr = [1,2,1]\n",
    "sum = 2 \n",
    "print(count_subsequences(arr, sum))"
   ]
  },
  {
   "cell_type": "code",
   "execution_count": 41,
   "id": "5c4003e72b49ebcc",
   "metadata": {
    "ExecuteTime": {
     "end_time": "2024-07-17T09:18:33.949762Z",
     "start_time": "2024-07-17T09:18:33.934358Z"
    }
   },
   "outputs": [
    {
     "name": "stdout",
     "output_type": "stream",
     "text": [
      "[1, 2, 3, 4, 5, 6, 7, 8]\n"
     ]
    }
   ],
   "source": [
    "# Merge Sort \n",
    "def merge(arr, low, mid, high):\n",
    "    left = low\n",
    "    right = mid + 1\n",
    "    temp = []\n",
    "    while (left <= mid) and (right <= high):\n",
    "        if arr[left] <= arr[right]:\n",
    "            temp.append(arr[left])\n",
    "            left += 1\n",
    "        else:\n",
    "            temp.append(arr[right])\n",
    "            right += 1\n",
    "    while left <= mid:\n",
    "        temp.append(arr[left])\n",
    "        left += 1\n",
    "    while right <= high:\n",
    "        temp.append(arr[right])\n",
    "        right += 1\n",
    "        \n",
    "    for i in range(low, high + 1):\n",
    "        arr[i] = temp[i-low]\n",
    "        \n",
    "def mergesort(arr, low, high):\n",
    "    if low >= high:\n",
    "        return \n",
    "    mid = (low + high)//2\n",
    "    mergesort(arr, low, mid)\n",
    "    mergesort(arr, mid + 1, high)\n",
    "    merge(arr, low, mid, high)\n",
    "    \n",
    "def sort(arr):\n",
    "    return mergesort(arr, 0, len(arr)- 1)\n",
    "    \n",
    "arr = [6,8,2,4,1,3,5,7] \n",
    "sort(arr)    \n",
    "print(arr)"
   ]
  },
  {
   "cell_type": "code",
   "execution_count": null,
   "id": "45bb5e021e0b5c8b",
   "metadata": {},
   "outputs": [],
   "source": [
    "# Print all permuatations of an array \n",
    "# Using extra space Complexity\n",
    "        \n",
    "        "
   ]
  }
 ],
 "metadata": {
  "kernelspec": {
   "display_name": "Python 3 (ipykernel)",
   "language": "python",
   "name": "python3"
  },
  "language_info": {
   "codemirror_mode": {
    "name": "ipython",
    "version": 3
   },
   "file_extension": ".py",
   "mimetype": "text/x-python",
   "name": "python",
   "nbconvert_exporter": "python",
   "pygments_lexer": "ipython3",
   "version": "3.11.5"
  },
  "widgets": {
   "application/vnd.jupyter.widget-state+json": {
    "state": {},
    "version_major": 2,
    "version_minor": 0
   }
  }
 },
 "nbformat": 4,
 "nbformat_minor": 5
}
