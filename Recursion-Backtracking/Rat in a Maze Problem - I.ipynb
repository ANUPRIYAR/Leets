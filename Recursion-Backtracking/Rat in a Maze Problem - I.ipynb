{
 "cells": [
  {
   "cell_type": "markdown",
   "id": "21a63137-43d8-4b92-92dc-a04ff9185fc4",
   "metadata": {},
   "source": [
    "## Rat in a Maze Problem - I\n",
    "<h3> Difficulty: Medium </h3>\n",
    "Accuracy: 35.75%Submissions: 261K+Points: 4\n",
    "<hr> <code> Consider a rat placed at (0, 0) in a square matrix mat of order n* n. It has to reach the destination at (n - 1, n - 1). Find all possible paths that the rat can take to reach from source to destination. The directions in which the rat can move are 'U'(up), 'D'(down), 'L' (left), 'R' (right). Value 0 at a cell in the matrix represents that it is blocked and rat cannot move to it while value 1 at a cell in the matrix represents that rat can be travel through it.\n",
    "Note: In a path, no cell can be visited more than one time. If the source cell is 0, the rat cannot move to any other cell. In case of no path, return an empty list. The driver will output \"-1\" automatically. </code> </hr>\n",
    "\n",
    "<h2> Examples:  </h2>\n",
    "\n",
    "<pre>\n",
    "<strong > Input: mat[][] = {{1, 0, 0, 0},  \n",
    "         {1, 1, 0, 1},   \n",
    "         {1, 1, 0, 0},  \n",
    "         {0, 1, 1, 1}} </strong>  </pre>\n",
    "<pre> <strong> Output:  \n",
    "DDRDRR DRDDRR  \n",
    "Explanation:  \n",
    "The rat can reach the destination at   \n",
    "(3, 3) from (0, 0) by two paths - DRDDRR   \n",
    "and DDRDRR, when printed in sorted order  \n",
    "we get DDRDRR DRDDRR. </strong> </pre>\n",
    "\n",
    "\n",
    "<pre> <strong> Input: mat[][] = {{1, 0},  \n",
    "         {1, 0}}  </strong> </pre>\n",
    "Output:  \n",
    "-1  \n",
    "<pre>\n",
    "<strong> Explanation:  \n",
    "No path exists and destination cell is   \n",
    "blocked.  \n",
    "Expected Time Complexity: O((3N^2)).  \n",
    "Expected Auxiliary Space: O(L * X), L = length of the path, X = number of paths.  </pre>\n",
    "</strong>\n",
    "\n",
    "<p><strong> Constraints:  </strong></p>\n",
    "<ul>\n",
    "2 ≤ n ≤ 5  \n",
    "0 ≤ mat[i][j] ≤ 1  \n",
    "<ul>"
   ]
  },
  {
   "cell_type": "code",
   "execution_count": 13,
   "id": "2b0fd942-c7fa-4cef-b70a-7dd06cc8ddfb",
   "metadata": {},
   "outputs": [],
   "source": [
    "class Solution:\n",
    "    def findPath(self, mat):\n",
    "        directions = [[1, 0, 'D'], [-1, 0, 'U'], [0, -1 , 'L'], [0, 1, 'R']]\n",
    "        \n",
    "        visited = [[0]*len(mat[0]) for _ in range(len(mat)) ]\n",
    "        result = []\n",
    "        if mat[0][0] == 0:\n",
    "            return []\n",
    "        visited[0][0] = 1\n",
    "        self.find(0, 0, mat, directions, result, [], visited)\n",
    "        return result\n",
    "        \n",
    "\n",
    "    def find(self, x, y, mat, directions, result, current, visited):\n",
    "        if x == (len(mat)-1) and y == len(mat[0]) - 1:\n",
    "            result.append(''.join(current))\n",
    "            print(f\"Added to result : {''.join(current)}\")\n",
    "            return \n",
    "        \n",
    "        for dx, dy, dir in directions:\n",
    "            if 0 <= x + dx < len(mat) and 0 <= y + dy < len(mat[0]) and mat[x +dx][y +dy] != 0 and visited[x+dx][y+dy] == 0:\n",
    "                current.append(dir)\n",
    "                print(f\"direction : {dir} added\")\n",
    "                visited[x+dx][y+dy] = 1\n",
    "                self.find(x + dx, y + dy, mat, directions, result, current , visited)\n",
    "                print(f\"Backtracking {dir}\")\n",
    "                current.pop()\n",
    "                visited[x+dx][y+dy] = 0"
   ]
  },
  {
   "cell_type": "code",
   "execution_count": 14,
   "id": "08978b96-372b-408f-997f-9e97976baf58",
   "metadata": {},
   "outputs": [
    {
     "name": "stdout",
     "output_type": "stream",
     "text": [
      "direction : D added\n",
      "direction : R added\n",
      "Added to result : DR\n",
      "Backtracking R\n",
      "Backtracking D\n",
      "direction : R added\n",
      "direction : D added\n",
      "Added to result : RD\n",
      "Backtracking D\n",
      "Backtracking R\n"
     ]
    },
    {
     "data": {
      "text/plain": [
       "['DR', 'RD']"
      ]
     },
     "execution_count": 14,
     "metadata": {},
     "output_type": "execute_result"
    }
   ],
   "source": [
    "mat = [[1,1],[1,1]]\n",
    "sol = Solution()\n",
    "sol.findPath(mat)"
   ]
  },
  {
   "cell_type": "code",
   "execution_count": null,
   "id": "d27bfeb3-9a93-4379-a860-283f6affbf18",
   "metadata": {},
   "outputs": [],
   "source": []
  },
  {
   "cell_type": "code",
   "execution_count": null,
   "id": "6c443762-66fa-4d0b-9c89-c4a198b08c79",
   "metadata": {},
   "outputs": [],
   "source": []
  }
 ],
 "metadata": {
  "kernelspec": {
   "display_name": "Python 3 (ipykernel)",
   "language": "python",
   "name": "python3"
  },
  "language_info": {
   "codemirror_mode": {
    "name": "ipython",
    "version": 3
   },
   "file_extension": ".py",
   "mimetype": "text/x-python",
   "name": "python",
   "nbconvert_exporter": "python",
   "pygments_lexer": "ipython3",
   "version": "3.11.5"
  },
  "widgets": {
   "application/vnd.jupyter.widget-state+json": {
    "state": {},
    "version_major": 2,
    "version_minor": 0
   }
  }
 },
 "nbformat": 4,
 "nbformat_minor": 5
}
