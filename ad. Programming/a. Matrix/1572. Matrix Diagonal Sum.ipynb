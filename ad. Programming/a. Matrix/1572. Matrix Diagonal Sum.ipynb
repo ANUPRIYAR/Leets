{
 "cells": [
  {
   "cell_type": "markdown",
   "id": "5c5c7375-ef7b-4db6-82bc-bb7a4b667643",
   "metadata": {},
   "source": [
    "<h2><a href=\"https://leetcode.com/problems/matrix-diagonal-sum\">1572. Matrix Diagonal Sum</a></h2><h3>Easy</h3><hr><p>Given a&nbsp;square&nbsp;matrix&nbsp;<code>mat</code>, return the sum of the matrix diagonals.</p>\n",
    "\n",
    "<p>Only include the sum of all the elements on the primary diagonal and all the elements on the secondary diagonal that are not part of the primary diagonal.</p>\n",
    "\n",
    "<p>&nbsp;</p>\n",
    "<p><strong class=\"example\">Example 1:</strong></p>\n",
    "<img alt=\"\" src=\"https://assets.leetcode.com/uploads/2020/08/14/sample_1911.png\" style=\"width: 336px; height: 174px;\" />\n",
    "<pre>\n",
    "<strong>Input:</strong> mat = [[<strong>1</strong>,2,<strong>3</strong>],\n",
    "&nbsp;             [4,<strong>5</strong>,6],\n",
    "&nbsp;             [<strong>7</strong>,8,<strong>9</strong>]]\n",
    "<strong>Output:</strong> 25\n",
    "<strong>Explanation: </strong>Diagonals sum: 1 + 5 + 9 + 3 + 7 = 25\n",
    "Notice that element mat[1][1] = 5 is counted only once.\n",
    "</pre>\n",
    "\n",
    "<p><strong class=\"example\">Example 2:</strong></p>\n",
    "\n",
    "<pre>\n",
    "<strong>Input:</strong> mat = [[<strong>1</strong>,1,1,<strong>1</strong>],\n",
    "&nbsp;             [1,<strong>1</strong>,<strong>1</strong>,1],\n",
    "&nbsp;             [1,<strong>1</strong>,<strong>1</strong>,1],\n",
    "&nbsp;             [<strong>1</strong>,1,1,<strong>1</strong>]]\n",
    "<strong>Output:</strong> 8\n",
    "</pre>\n",
    "\n",
    "<p><strong class=\"example\">Example 3:</strong></p>\n",
    "\n",
    "<pre>\n",
    "<strong>Input:</strong> mat = [[<strong>5</strong>]]\n",
    "<strong>Output:</strong> 5\n",
    "</pre>\n",
    "\n",
    "<p>&nbsp;</p>\n",
    "<p><strong>Constraints:</strong></p>\n",
    "\n",
    "<ul>\n",
    "\t<li><code>n == mat.length == mat[i].length</code></li>\n",
    "\t<li><code>1 &lt;= n &lt;= 100</code></li>\n",
    "\t<li><code>1 &lt;= mat[i][j] &lt;= 100</code></li>\n",
    "</ul>\n"
   ]
  },
  {
   "cell_type": "code",
   "execution_count": 1,
   "id": "c72b1990-a784-4fe7-ba4e-c5d77f537ddf",
   "metadata": {},
   "outputs": [],
   "source": [
    "from typing import List\n",
    "\n",
    "class Solution:\n",
    "    def diagonalSum(self, mat: List[List[int]]) -> int:\n",
    "        rows, cols = len(mat), len(mat[0])\n",
    "\n",
    "        sum = 0\n",
    "        for i in range(rows):\n",
    "            for j in range(cols):\n",
    "                \n",
    "                if i == j:\n",
    "                    sum += mat[i][j]\n",
    "                elif (j == cols - 1 - i):\n",
    "                    sum += mat[i][j]\n",
    "                else:\n",
    "                    continue\n",
    "\n",
    "        return sum"
   ]
  },
  {
   "cell_type": "code",
   "execution_count": null,
   "id": "d32f8182-f710-4a73-9aea-41b9737b90dc",
   "metadata": {},
   "outputs": [],
   "source": []
  }
 ],
 "metadata": {
  "kernelspec": {
   "display_name": "Python 3 (ipykernel)",
   "language": "python",
   "name": "python3"
  },
  "language_info": {
   "codemirror_mode": {
    "name": "ipython",
    "version": 3
   },
   "file_extension": ".py",
   "mimetype": "text/x-python",
   "name": "python",
   "nbconvert_exporter": "python",
   "pygments_lexer": "ipython3",
   "version": "3.11.5"
  },
  "widgets": {
   "application/vnd.jupyter.widget-state+json": {
    "state": {},
    "version_major": 2,
    "version_minor": 0
   }
  }
 },
 "nbformat": 4,
 "nbformat_minor": 5
}
