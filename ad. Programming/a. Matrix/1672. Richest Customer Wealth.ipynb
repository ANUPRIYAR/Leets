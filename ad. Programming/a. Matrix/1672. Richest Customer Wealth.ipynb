{
 "cells": [
  {
   "cell_type": "markdown",
   "id": "9b5594a3-2fc9-446a-92e5-4b772d53b260",
   "metadata": {},
   "source": [
    "<h2><a href=\"https://leetcode.com/problems/richest-customer-wealth\">1672. Richest Customer Wealth</a></h2><h3>Easy</h3><hr><p>You are given an <code>m x n</code> integer grid <code>accounts</code> where <code>accounts[i][j]</code> is the amount of money the <code>i​​​​​<sup>​​​​​​th</sup>​​​​</code> customer has in the <code>j​​​​​<sup>​​​​​​th</sup></code>​​​​ bank. Return<em> the <strong>wealth</strong> that the richest customer has.</em></p>\n",
    "\n",
    "<p>A customer&#39;s <strong>wealth</strong> is the amount of money they have in all their bank accounts. The richest customer is the customer that has the maximum <strong>wealth</strong>.</p>\n",
    "\n",
    "<p>&nbsp;</p>\n",
    "<p><strong class=\"example\">Example 1:</strong></p>\n",
    "\n",
    "<pre>\n",
    "<strong>Input:</strong> accounts = [[1,2,3],[3,2,1]]\n",
    "<strong>Output:</strong> 6\n",
    "<strong>Explanation</strong><strong>:</strong>\n",
    "<code>1st customer has wealth = 1 + 2 + 3 = 6\n",
    "</code><code>2nd customer has wealth = 3 + 2 + 1 = 6\n",
    "</code>Both customers are considered the richest with a wealth of 6 each, so return 6.\n",
    "</pre>\n",
    "\n",
    "<p><strong class=\"example\">Example 2:</strong></p>\n",
    "\n",
    "<pre>\n",
    "<strong>Input:</strong> accounts = [[1,5],[7,3],[3,5]]\n",
    "<strong>Output:</strong> 10\n",
    "<strong>Explanation</strong>: \n",
    "1st customer has wealth = 6\n",
    "2nd customer has wealth = 10 \n",
    "3rd customer has wealth = 8\n",
    "The 2nd customer is the richest with a wealth of 10.</pre>\n",
    "\n",
    "<p><strong class=\"example\">Example 3:</strong></p>\n",
    "\n",
    "<pre>\n",
    "<strong>Input:</strong> accounts = [[2,8,7],[7,1,3],[1,9,5]]\n",
    "<strong>Output:</strong> 17\n",
    "</pre>\n",
    "\n",
    "<p>&nbsp;</p>\n",
    "<p><strong>Constraints:</strong></p>\n",
    "\n",
    "<ul>\n",
    "\t<li><code>m ==&nbsp;accounts.length</code></li>\n",
    "\t<li><code>n ==&nbsp;accounts[i].length</code></li>\n",
    "\t<li><code>1 &lt;= m, n &lt;= 50</code></li>\n",
    "\t<li><code>1 &lt;= accounts[i][j] &lt;= 100</code></li>\n",
    "</ul>\n"
   ]
  },
  {
   "cell_type": "code",
   "execution_count": 2,
   "id": "33ae12bf-da9f-4a2a-b0a9-a0d5dc6b403c",
   "metadata": {},
   "outputs": [],
   "source": [
    "from typing import List\n",
    "\n",
    "class Solution:\n",
    "    def maximumWealth(self, accounts: List[List[int]]) -> int:\n",
    "\n",
    "        rows = len(accounts)\n",
    "        max_amount = 0\n",
    "        cash = [0]* rows\n",
    "        for i in range(rows):\n",
    "            cash[i] = sum(accounts[i])\n",
    "            max_amount = max(cash[i], max_amount)\n",
    "\n",
    "        return max_amount"
   ]
  },
  {
   "cell_type": "code",
   "execution_count": null,
   "id": "5cbae313-79eb-43b6-8977-d02b0037a297",
   "metadata": {},
   "outputs": [],
   "source": []
  }
 ],
 "metadata": {
  "kernelspec": {
   "display_name": "Python 3 (ipykernel)",
   "language": "python",
   "name": "python3"
  },
  "language_info": {
   "codemirror_mode": {
    "name": "ipython",
    "version": 3
   },
   "file_extension": ".py",
   "mimetype": "text/x-python",
   "name": "python",
   "nbconvert_exporter": "python",
   "pygments_lexer": "ipython3",
   "version": "3.11.5"
  },
  "widgets": {
   "application/vnd.jupyter.widget-state+json": {
    "state": {},
    "version_major": 2,
    "version_minor": 0
   }
  }
 },
 "nbformat": 4,
 "nbformat_minor": 5
}
