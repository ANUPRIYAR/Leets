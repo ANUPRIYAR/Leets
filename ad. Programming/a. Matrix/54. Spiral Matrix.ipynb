{
 "cells": [
  {
   "cell_type": "markdown",
   "id": "1792c02f-6411-4b95-9a0c-3e57fa51a064",
   "metadata": {},
   "source": [
    "<h2><a href=\"https://leetcode.com/problems/spiral-matrix\">54. Spiral Matrix</a></h2><h3>Medium</h3><hr><p>Given an <code>m x n</code> <code>matrix</code>, return <em>all elements of the</em> <code>matrix</code> <em>in spiral order</em>.</p>\n",
    "\n",
    "<p>&nbsp;</p>\n",
    "<p><strong class=\"example\">Example 1:</strong></p>\n",
    "<img alt=\"\" src=\"https://assets.leetcode.com/uploads/2020/11/13/spiral1.jpg\" style=\"width: 242px; height: 242px;\" />\n",
    "<pre>\n",
    "<strong>Input:</strong> matrix = [[1,2,3],[4,5,6],[7,8,9]]\n",
    "<strong>Output:</strong> [1,2,3,6,9,8,7,4,5]\n",
    "</pre>\n",
    "\n",
    "<p><strong class=\"example\">Example 2:</strong></p>\n",
    "<img alt=\"\" src=\"https://assets.leetcode.com/uploads/2020/11/13/spiral.jpg\" style=\"width: 322px; height: 242px;\" />\n",
    "<pre>\n",
    "<strong>Input:</strong> matrix = [[1,2,3,4],[5,6,7,8],[9,10,11,12]]\n",
    "<strong>Output:</strong> [1,2,3,4,8,12,11,10,9,5,6,7]\n",
    "</pre>\n",
    "\n",
    "<p>&nbsp;</p>\n",
    "<p><strong>Constraints:</strong></p>\n",
    "\n",
    "<ul>\n",
    "\t<li><code>m == matrix.length</code></li>\n",
    "\t<li><code>n == matrix[i].length</code></li>\n",
    "\t<li><code>1 &lt;= m, n &lt;= 10</code></li>\n",
    "\t<li><code>-100 &lt;= matrix[i][j] &lt;= 100</code></li>\n",
    "</ul>\n"
   ]
  },
  {
   "cell_type": "code",
   "execution_count": null,
   "id": "715f8efc-3556-47e6-8574-75d230e94c78",
   "metadata": {},
   "outputs": [],
   "source": [
    "from typing import List\n",
    "\n",
    "class Solution:\n",
    "    def spiralOrder(self, matrix: List[List[int]]) -> List[int]:\n",
    "        rows = len(matrix)\n",
    "        cols = len(matrix[0])\n",
    "        res = []\n",
    "        left, right = 0, len(matrix[0]) \n",
    "        top, bottom = 0, len(matrix) \n",
    "\n",
    "        while left < right and top < bottom:\n",
    "            \n",
    "            # Traverse from left to right on top row\n",
    "            for i in range(left, right):\n",
    "                res.append(matrix[top][i])\n",
    "            top += 1   # shifting boundary after topmost row traversed\n",
    "\n",
    "            # Traverse from top to bottom -> going down\n",
    "            for i in range(top, bottom):\n",
    "                res.append(matrix[i][right -1])\n",
    "            right -= 1             # shrinking boundary\n",
    "            \n",
    "            if not (left < right and top < bottom):\n",
    "                break\n",
    "                \n",
    "            # going in reverse horizontally (right to left)\n",
    "            for i in range(right-1, left-1, -1):\n",
    "                res.append(matrix[bottom - 1][i])\n",
    "            bottom -= 1            #  shrinking boundary\n",
    "\n",
    "            # going in reverse vertically(bottom to top)\n",
    "            for i in range(bottom-1, top -1, -1):\n",
    "                res.append(matrix[i][left])\n",
    "            left += 1                # shrinking boundary\n",
    "        return res\n"
   ]
  }
 ],
 "metadata": {
  "kernelspec": {
   "display_name": "Python 3 (ipykernel)",
   "language": "python",
   "name": "python3"
  },
  "language_info": {
   "codemirror_mode": {
    "name": "ipython",
    "version": 3
   },
   "file_extension": ".py",
   "mimetype": "text/x-python",
   "name": "python",
   "nbconvert_exporter": "python",
   "pygments_lexer": "ipython3",
   "version": "3.11.5"
  },
  "widgets": {
   "application/vnd.jupyter.widget-state+json": {
    "state": {},
    "version_major": 2,
    "version_minor": 0
   }
  }
 },
 "nbformat": 4,
 "nbformat_minor": 5
}
