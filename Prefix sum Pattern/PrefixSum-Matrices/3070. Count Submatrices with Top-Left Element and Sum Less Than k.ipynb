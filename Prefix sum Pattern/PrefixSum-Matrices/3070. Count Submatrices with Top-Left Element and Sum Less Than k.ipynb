{
 "cells": [
  {
   "cell_type": "markdown",
   "id": "c36a2e6b-6ad3-4c4c-b0c1-e83acc76a5cd",
   "metadata": {},
   "source": [
    "<h2><a href=\"https://leetcode.com/problems/count-submatrices-with-top-left-element-and-sum-less-than-k\">3070. Count Submatrices with Top-Left Element and Sum Less Than k</a></h2><h3>Medium</h3><hr><p>You are given a <strong>0-indexed</strong> integer matrix <code>grid</code> and an integer <code>k</code>.</p>\n",
    "\n",
    "<p>Return <em>the <strong>number</strong> of <span data-keyword=\"submatrix\">submatrices</span> that contain the top-left element of the</em> <code>grid</code>, <em>and have a sum less than or equal to </em><code>k</code>.</p>\n",
    "\n",
    "<p>&nbsp;</p>\n",
    "<p><strong class=\"example\">Example 1:</strong></p>\n",
    "<img alt=\"\" src=\"https://assets.leetcode.com/uploads/2024/01/01/example1.png\" style=\"padding: 10px; background: #fff; border-radius: .5rem;\" />\n",
    "<pre>\n",
    "<strong>Input:</strong> grid = [[7,6,3],[6,6,1]], k = 18\n",
    "<strong>Output:</strong> 4\n",
    "<strong>Explanation:</strong> There are only 4 submatrices, shown in the image above, that contain the top-left element of grid, and have a sum less than or equal to 18.</pre>\n",
    "\n",
    "<p><strong class=\"example\">Example 2:</strong></p>\n",
    "<img alt=\"\" src=\"https://assets.leetcode.com/uploads/2024/01/01/example21.png\" style=\"padding: 10px; background: #fff; border-radius: .5rem;\" />\n",
    "<pre>\n",
    "<strong>Input:</strong> grid = [[7,2,9],[1,5,0],[2,6,6]], k = 20\n",
    "<strong>Output:</strong> 6\n",
    "<strong>Explanation:</strong> There are only 6 submatrices, shown in the image above, that contain the top-left element of grid, and have a sum less than or equal to 20.\n",
    "</pre>\n",
    "\n",
    "<p>&nbsp;</p>\n",
    "<p><strong>Constraints:</strong></p>\n",
    "\n",
    "<ul>\n",
    "\t<li><code>m == grid.length </code></li>\n",
    "\t<li><code>n == grid[i].length</code></li>\n",
    "\t<li><code>1 &lt;= n, m &lt;= 1000 </code></li>\n",
    "\t<li><code>0 &lt;= grid[i][j] &lt;= 1000</code></li>\n",
    "\t<li><code>1 &lt;= k &lt;= 10<sup>9</sup></code></li>\n",
    "</ul>\n"
   ]
  },
  {
   "cell_type": "code",
   "execution_count": 2,
   "id": "3f195835-de23-4586-8ee6-10025f0667f2",
   "metadata": {},
   "outputs": [],
   "source": [
    "from typing import List\n",
    "\n",
    "class Solution:\n",
    "    def countSubmatrices(self, grid: List[List[int]], k: int) -> int:\n",
    "        rows, cols = len(grid) , len(grid[0])\n",
    "\n",
    "        ps = [[0]*cols for _ in range(rows)]\n",
    "        for i in range(rows):               # calculating prefix sum matrix\n",
    "            for j in range(cols):\n",
    "                x = ps[i-1][j] if i > 0 else 0\n",
    "                y = ps[i][j-1] if j > 0 else 0\n",
    "                prev = ps[i-1][j-1] if (i > 0 and j > 0) else 0\n",
    "                ps[i][j] = x + y - prev + grid[i][j]\n",
    "\n",
    "        count = 0\n",
    "        for i in range(rows):                    # In the prefix sum matrix, all the elements whose value is less than k will be a matrix                                                    \n",
    "            for j in range(cols) :               # containing top-left element and value less than(or equal) k\n",
    "                if ps[i][j] <= k :\n",
    "                    count += 1\n",
    "\n",
    "        return count"
   ]
  },
  {
   "cell_type": "code",
   "execution_count": 3,
   "id": "0cdf9038-60be-4f11-9e29-031fc6d1ae8d",
   "metadata": {},
   "outputs": [
    {
     "ename": "NameError",
     "evalue": "name 'x' is not defined",
     "output_type": "error",
     "traceback": [
      "\u001b[1;31m---------------------------------------------------------------------------\u001b[0m",
      "\u001b[1;31mNameError\u001b[0m                                 Traceback (most recent call last)",
      "Cell \u001b[1;32mIn[3], line 1\u001b[0m\n\u001b[1;32m----> 1\u001b[0m \u001b[43mx\u001b[49m \u001b[38;5;241m+\u001b[39m x\n",
      "\u001b[1;31mNameError\u001b[0m: name 'x' is not defined"
     ]
    }
   ],
   "source": [
    "x + x"
   ]
  },
  {
   "cell_type": "code",
   "execution_count": 21,
   "id": "044fbc11-e064-4448-8ae5-42839d0de36a",
   "metadata": {},
   "outputs": [],
   "source": [
    "from typing import List\n",
    "\n",
    "class Solution:\n",
    "    def numberOfSubmatrices(self, grid: List[List[str]]) -> int:\n",
    "        rows, cols = len(grid), len(grid[0])\n",
    "        value_map = {'X':0, 'Y':0 }\n",
    "\n",
    "        x_map = {\"X\":1}\n",
    "        y_map = {\"Y\":1}\n",
    "        ps = [[0]* cols for _ in range(rows)]\n",
    "        for i in range(rows):\n",
    "            for j in range(cols):\n",
    "                x = ps[i-1][j] if i > 0 else [0, 0]\n",
    "                y = ps[i][j-1] if j > 0 else [0, 0]\n",
    "                prev = ps[i-1][j-1] if (i > 0 and j > 0) else [0,0]\n",
    "                x_value = x[0] + y[0] - prev[0] + x_map.get(grid[i][j], 0)\n",
    "                print(x_value)\n",
    "                y_value = x[1] + y[1]- prev[1] + y_map.get(grid[i][j], 0)\n",
    "                ps[i][j] = [x_value, y_value]\n",
    "        print(ps)\n",
    "                # ps[i][j] = value_map.get(x, 0) + value_map.get(y, 0) - value_map.get(prev, 0) + value_map.get(grid[i][j], 0)\n",
    "                # ans = x + y - prev + grid[i][j]\n",
    "                # print(ps[i][j])\n",
    "\n",
    "        "
   ]
  },
  {
   "cell_type": "code",
   "execution_count": 23,
   "id": "a7893710-8de1-4fb4-9872-10f619237742",
   "metadata": {},
   "outputs": [
    {
     "name": "stdout",
     "output_type": "stream",
     "text": [
      "1\n",
      "1\n",
      "1\n",
      "1\n",
      "1\n",
      "1\n",
      "[[[1, 0], [1, 1], [1, 1]], [[1, 1], [1, 2], [1, 2]]]\n"
     ]
    }
   ],
   "source": [
    "grid = [[\"X\",\"Y\",\".\"],[\"Y\",\".\",\".\"]]\n",
    "sol = Solution()\n",
    "sol.numberOfSubmatrices(grid)"
   ]
  },
  {
   "cell_type": "code",
   "execution_count": null,
   "id": "82a2f7b9-bcb5-459b-bb21-72bf24dcf702",
   "metadata": {},
   "outputs": [],
   "source": []
  }
 ],
 "metadata": {
  "kernelspec": {
   "display_name": "Python 3 (ipykernel)",
   "language": "python",
   "name": "python3"
  },
  "language_info": {
   "codemirror_mode": {
    "name": "ipython",
    "version": 3
   },
   "file_extension": ".py",
   "mimetype": "text/x-python",
   "name": "python",
   "nbconvert_exporter": "python",
   "pygments_lexer": "ipython3",
   "version": "3.11.5"
  },
  "widgets": {
   "application/vnd.jupyter.widget-state+json": {
    "state": {},
    "version_major": 2,
    "version_minor": 0
   }
  }
 },
 "nbformat": 4,
 "nbformat_minor": 5
}
