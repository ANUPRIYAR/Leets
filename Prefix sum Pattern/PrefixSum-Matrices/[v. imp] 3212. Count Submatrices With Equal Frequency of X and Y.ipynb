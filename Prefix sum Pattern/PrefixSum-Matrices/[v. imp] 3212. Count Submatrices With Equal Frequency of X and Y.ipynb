{
 "cells": [
  {
   "cell_type": "markdown",
   "id": "d75bdb02-3e29-4eb5-b819-5305a5d3363f",
   "metadata": {},
   "source": [
    "<h2><a href=\"https://leetcode.com/problems/count-submatrices-with-equal-frequency-of-x-and-y\">3212. Count Submatrices With Equal Frequency of X and Y</a></h2><h3>Medium</h3><hr><p>Given a 2D character matrix <code>grid</code>, where <code>grid[i][j]</code> is either <code>&#39;X&#39;</code>, <code>&#39;Y&#39;</code>, or <code>&#39;.&#39;</code>, return the number of <span data-keyword=\"submatrix\">submatrices</span> that contain:</p>\n",
    "\n",
    "<ul>\n",
    "\t<li><code>grid[0][0]</code></li>\n",
    "\t<li>an <strong>equal</strong> frequency of <code>&#39;X&#39;</code> and <code>&#39;Y&#39;</code>.</li>\n",
    "\t<li><strong>at least</strong> one <code>&#39;X&#39;</code>.</li>\n",
    "</ul>\n",
    "\n",
    "<p>&nbsp;</p>\n",
    "<p><strong class=\"example\">Example 1:</strong></p>\n",
    "\n",
    "<div class=\"example-block\">\n",
    "<p><strong>Input:</strong> <span class=\"example-io\">grid = [[&quot;X&quot;,&quot;Y&quot;,&quot;.&quot;],[&quot;Y&quot;,&quot;.&quot;,&quot;.&quot;]]</span></p>\n",
    "\n",
    "<p><strong>Output:</strong> <span class=\"example-io\">3</span></p>\n",
    "\n",
    "<p><strong>Explanation:</strong></p>\n",
    "\n",
    "<p><strong><img alt=\"\" src=\"https://assets.leetcode.com/uploads/2024/06/07/examplems.png\" style=\"padding: 10px; background: rgb(255, 255, 255); border-radius: 0.5rem; width: 175px; height: 350px;\" /></strong></p>\n",
    "</div>\n",
    "\n",
    "<p><strong class=\"example\">Example 2:</strong></p>\n",
    "\n",
    "<div class=\"example-block\">\n",
    "<p><strong>Input:</strong> <span class=\"example-io\">grid = [[&quot;X&quot;,&quot;X&quot;],[&quot;X&quot;,&quot;Y&quot;]]</span></p>\n",
    "\n",
    "<p><strong>Output:</strong> <span class=\"example-io\">0</span></p>\n",
    "\n",
    "<p><strong>Explanation:</strong></p>\n",
    "\n",
    "<p>No submatrix has an equal frequency of <code>&#39;X&#39;</code> and <code>&#39;Y&#39;</code>.</p>\n",
    "</div>\n",
    "\n",
    "<p><strong class=\"example\">Example 3:</strong></p>\n",
    "\n",
    "<div class=\"example-block\">\n",
    "<p><strong>Input:</strong> <span class=\"example-io\">grid = [[&quot;.&quot;,&quot;.&quot;],[&quot;.&quot;,&quot;.&quot;]]</span></p>\n",
    "\n",
    "<p><strong>Output:</strong> <span class=\"example-io\">0</span></p>\n",
    "\n",
    "<p><strong>Explanation:</strong></p>\n",
    "\n",
    "<p>No submatrix has at least one <code>&#39;X&#39;</code>.</p>\n",
    "</div>\n",
    "\n",
    "<p>&nbsp;</p>\n",
    "<p><strong>Constraints:</strong></p>\n",
    "\n",
    "<ul>\n",
    "\t<li><code>1 &lt;= grid.length, grid[i].length &lt;= 1000</code></li>\n",
    "\t<li><code>grid[i][j]</code> is either <code>&#39;X&#39;</code>, <code>&#39;Y&#39;</code>, or <code>&#39;.&#39;</code>.</li>\n",
    "</ul>\n"
   ]
  },
  {
   "cell_type": "code",
   "execution_count": 2,
   "id": "7e73f77b-49e0-4a42-820c-d0b3cae693e2",
   "metadata": {},
   "outputs": [],
   "source": [
    "from typing import List\n",
    "\n",
    "class Solution:\n",
    "    def numberOfSubmatrices(self, grid: List[List[str]]) -> int:\n",
    "        rows, cols = len(grid), len(grid[0])\n",
    "        x_map = {\"X\": 1}   # Since we cant count characters , we are making a map that if X found convert it to 1\n",
    "        y_map = {\"Y\": 1}    # Same for Y\n",
    "        ps = [[0]* cols for _ in range(rows)]\n",
    "        \n",
    "        for i in range(rows):\n",
    "            for j in range(cols):\n",
    "                x = ps[i-1][j] if i > 0 else [0, 0]   # Now ps[i][j] will be of form of list-[int, int], hence default value needs to be [0, 0]\n",
    "                y = ps[i][j-1] if j > 0 else [0, 0]\n",
    "                prev = ps[i-1][j-1] if (i > 0 and j > 0) else [0,0]\n",
    "                x_value = x[0] + y[0] - prev[0] + x_map.get(grid[i][j], 0)   # we count x values separaterly and y values separately\n",
    "                y_value = x[1] + y[1]- prev[1] + y_map.get(grid[i][j], 0)    # we are taking values x[0] and x[i] reading grid using x_map and y_map\n",
    "                ps[i][j] = [x_value, y_value]    # then form ps[i][j]\n",
    "\n",
    "\n",
    "        count = 0\n",
    "        for i in range(rows):\n",
    "            for j in range(cols):\n",
    "                x, y = ps[i][j][0], ps[i][j][1]   # here we first a and y frequencies \n",
    "                if x == y and x > 0:         # then check if they are equal and greater than 0(ques. requirement)\n",
    "                    count += 1\n",
    "        return count"
   ]
  },
  {
   "cell_type": "code",
   "execution_count": null,
   "id": "94f502d6-28c5-4f9a-aa8e-c682ecd0067f",
   "metadata": {},
   "outputs": [],
   "source": []
  }
 ],
 "metadata": {
  "kernelspec": {
   "display_name": "Python 3 (ipykernel)",
   "language": "python",
   "name": "python3"
  },
  "language_info": {
   "codemirror_mode": {
    "name": "ipython",
    "version": 3
   },
   "file_extension": ".py",
   "mimetype": "text/x-python",
   "name": "python",
   "nbconvert_exporter": "python",
   "pygments_lexer": "ipython3",
   "version": "3.11.5"
  },
  "widgets": {
   "application/vnd.jupyter.widget-state+json": {
    "state": {},
    "version_major": 2,
    "version_minor": 0
   }
  }
 },
 "nbformat": 4,
 "nbformat_minor": 5
}
