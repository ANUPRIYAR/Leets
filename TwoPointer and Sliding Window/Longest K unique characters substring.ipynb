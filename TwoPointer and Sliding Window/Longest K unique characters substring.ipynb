{
 "cells": [
  {
   "cell_type": "markdown",
   "id": "10693078-f7c6-406e-99c0-ddd28aab13c8",
   "metadata": {},
   "source": [
    "<h2>Longest K unique characters substring </h2> \n",
    "<h3> Difficulty: Medium </h3> \n",
    "<p> Accuracy: 34.65%Submissions: 155K+Points: 4   </p>\n",
    "\n",
    "<p> Given a string you need to print the size of the longest possible substring that has exactly K unique characters. If there is no possible substring then print -1. </p>\n",
    "\n",
    "<ul>\n",
    "<pre>\n",
    "Example 1:\n",
    "Input:\n",
    "S = \"aabacbebebe\", K = 3\n",
    "Output: \n",
    "7\n",
    "Explanation: \n",
    "\"cbebebe\" is the longest substring with 3 distinct characters.\n",
    "</pre>\n",
    "</ul>\n",
    "\n",
    "<ul>\n",
    "<pre>\n",
    "Example 2:\n",
    "\n",
    "Input: \n",
    "S = \"aaaa\", K = 2\n",
    "Output: -1\n",
    "Explanation: \n",
    "There's no substring with 2 distinct characters.\n",
    "</pre>\n",
    "</ul>\n",
    "\n",
    "\n",
    "\n",
    "<p><strong> Your Task: </strong></p>\n",
    "You don't need to read input or print anything. Your task is to complete the function longestKSubstr() which takes the string S and an integer K as input and returns the length of the longest substring with exactly K distinct characters. If there is no substring with exactly K distinct characters then return -1.\n",
    "\n",
    "Expected Time Complexity: O(|S|).\n",
    "Expected Auxiliary Space: O(|S|).\n",
    "\n",
    "<ul>\n",
    "Constraints:\n",
    "<li><code> 1 ≤ |S| ≤ 105\n",
    "<li><code> 1 ≤ K ≤ 26\n",
    "<li><code>All characters are lowercase latin characters.\n",
    "\n",
    "<li><code>Seen this question in a real interview before ?\n",
    "Yes\n",
    "No\n",
    "Company Tags\n",
    "AmazonGoogleSAP Labs\n",
    "</ul>\n"
   ]
  },
  {
   "cell_type": "code",
   "execution_count": 1,
   "id": "2c78a499-a5c6-4a97-9a99-9a863a3bbfcc",
   "metadata": {},
   "outputs": [],
   "source": [
    "\n",
    "class Solution:\n",
    "    def longestKSubstr(self, s, k):\n",
    "        start, end = 0,0\n",
    "        maxlen = 0\n",
    "        n = len(s)\n",
    "        \n",
    "        distinct = dict()\n",
    "        \n",
    "        while end < n:\n",
    "            char = s[end]\n",
    "            distinct[char] = distinct.get(char, 0) + 1\n",
    "            \n",
    "            while len(distinct) > k:\n",
    "                start_char = s[start]\n",
    "                distinct[start_char] -= 1\n",
    "                if distinct[start_char] == 0:\n",
    "                    del distinct[start_char]\n",
    "                \n",
    "                start += 1\n",
    " \n",
    "            if len(distinct) == k:\n",
    "                length = end - start + 1\n",
    "                maxlen = max(maxlen, length)\n",
    "            \n",
    "            end += 1\n",
    "            \n",
    "        return maxlen if maxlen > 0 else -1 "
   ]
  },
  {
   "cell_type": "code",
   "execution_count": null,
   "id": "42e32b0f-2254-4510-a7bd-e0223c62d3d7",
   "metadata": {},
   "outputs": [],
   "source": []
  }
 ],
 "metadata": {
  "kernelspec": {
   "display_name": "Python 3 (ipykernel)",
   "language": "python",
   "name": "python3"
  },
  "language_info": {
   "codemirror_mode": {
    "name": "ipython",
    "version": 3
   },
   "file_extension": ".py",
   "mimetype": "text/x-python",
   "name": "python",
   "nbconvert_exporter": "python",
   "pygments_lexer": "ipython3",
   "version": "3.11.5"
  },
  "widgets": {
   "application/vnd.jupyter.widget-state+json": {
    "state": {},
    "version_major": 2,
    "version_minor": 0
   }
  }
 },
 "nbformat": 4,
 "nbformat_minor": 5
}
