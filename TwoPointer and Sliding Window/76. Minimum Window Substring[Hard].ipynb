{
 "cells": [
  {
   "cell_type": "markdown",
   "id": "a6ad5943-bd6a-4169-9d24-cc72a512d680",
   "metadata": {},
   "source": [
    "<h2><a href=\"https://leetcode.com/problems/minimum-window-substring\">76. Minimum Window Substring</a></h2><h3>Hard</h3><hr><p>Given two strings <code>s</code> and <code>t</code> of lengths <code>m</code> and <code>n</code> respectively, return <em>the <strong>minimum window</strong></em> <span data-keyword=\"substring-nonempty\"><strong><em>substring</em></strong></span><em> of </em><code>s</code><em> such that every character in </em><code>t</code><em> (<strong>including duplicates</strong>) is included in the window</em>. If there is no such substring, return <em>the empty string </em><code>&quot;&quot;</code>.</p>\n",
    "\n",
    "<p>The testcases will be generated such that the answer is <strong>unique</strong>.</p>\n",
    "\n",
    "<p>&nbsp;</p>\n",
    "<p><strong class=\"example\">Example 1:</strong></p>\n",
    "\n",
    "<pre>\n",
    "<strong>Input:</strong> s = &quot;ADOBECODEBANC&quot;, t = &quot;ABC&quot;\n",
    "<strong>Output:</strong> &quot;BANC&quot;\n",
    "<strong>Explanation:</strong> The minimum window substring &quot;BANC&quot; includes &#39;A&#39;, &#39;B&#39;, and &#39;C&#39; from string t.\n",
    "</pre>\n",
    "\n",
    "<p><strong class=\"example\">Example 2:</strong></p>\n",
    "\n",
    "<pre>\n",
    "<strong>Input:</strong> s = &quot;a&quot;, t = &quot;a&quot;\n",
    "<strong>Output:</strong> &quot;a&quot;\n",
    "<strong>Explanation:</strong> The entire string s is the minimum window.\n",
    "</pre>\n",
    "\n",
    "<p><strong class=\"example\">Example 3:</strong></p>\n",
    "\n",
    "<pre>\n",
    "<strong>Input:</strong> s = &quot;a&quot;, t = &quot;aa&quot;\n",
    "<strong>Output:</strong> &quot;&quot;\n",
    "<strong>Explanation:</strong> Both &#39;a&#39;s from t must be included in the window.\n",
    "Since the largest window of s only has one &#39;a&#39;, return empty string.\n",
    "</pre>\n",
    "\n",
    "<p>&nbsp;</p>\n",
    "<p><strong>Constraints:</strong></p>\n",
    "\n",
    "<ul>\n",
    "\t<li><code>m == s.length</code></li>\n",
    "\t<li><code>n == t.length</code></li>\n",
    "\t<li><code>1 &lt;= m, n &lt;= 10<sup>5</sup></code></li>\n",
    "\t<li><code>s</code> and <code>t</code> consist of uppercase and lowercase English letters.</li>\n",
    "</ul>\n",
    "\n",
    "<p>&nbsp;</p>\n",
    "<p><strong>Follow up:</strong> Could you find an algorithm that runs in <code>O(m + n)</code> time?</p>\n"
   ]
  },
  {
   "attachments": {
    "bcc612f2-3527-4273-b04a-03f3df033cb3.png": {
     "image/png": "[encoded data removed]"
    }
   },
   "cell_type": "markdown",
   "id": "4d21e38a-360e-4319-9bb4-8ee37f052bd4",
   "metadata": {},
   "source": [
    "![image.png](attachment:bcc612f2-3527-4273-b04a-03f3df033cb3.png)"
   ]
  },
  {
   "cell_type": "code",
   "execution_count": 1,
   "id": "4587e453-526b-411f-b860-0f6609cecec1",
   "metadata": {},
   "outputs": [],
   "source": [
    "import math\n",
    "class Solution:\n",
    "    def minWindow(self, s: str, t: str) -> str:\n",
    "        start, end = 0, 0\n",
    "        n = len(s) \n",
    "        freq_t, freqs = dict(), dict()\n",
    "        min_window = math.inf\n",
    "        minsubstr = \"\"\n",
    "\n",
    "        for char in t:\n",
    "            freq_t[char]  = freq_t.get(char, 0) + 1\n",
    "\n",
    "\n",
    "        while end < n:\n",
    "            char = s[end]\n",
    "            freqs[char] = freqs.get(char, 0) + 1\n",
    "\n",
    "            while self.match(freqs, freq_t):\n",
    "                substring = s[start: end + 1]\n",
    "                length = end - start + 1\n",
    "                if length < min_window:\n",
    "                    min_window = length\n",
    "                    minsubstr = substring\n",
    "\n",
    "                start_char = s[start]\n",
    "                freqs[start_char] -= 1\n",
    "                if freqs[start_char] == 0:\n",
    "                    del freqs[start_char]\n",
    "\n",
    "                start += 1\n",
    "\n",
    "            end += 1\n",
    "        return minsubstr\n",
    "\n",
    "    def match(self, maps, mapt):\n",
    "        for char in mapt:\n",
    "            if maps.get(char, 0) < mapt[char]:\n",
    "                return False\n",
    "        return True \n"
   ]
  },
  {
   "cell_type": "code",
   "execution_count": null,
   "id": "8a51faa9-395f-4333-a13a-57882bebe4c5",
   "metadata": {},
   "outputs": [],
   "source": []
  }
 ],
 "metadata": {
  "kernelspec": {
   "display_name": "Python 3 (ipykernel)",
   "language": "python",
   "name": "python3"
  },
  "language_info": {
   "codemirror_mode": {
    "name": "ipython",
    "version": 3
   },
   "file_extension": ".py",
   "mimetype": "text/x-python",
   "name": "python",
   "nbconvert_exporter": "python",
   "pygments_lexer": "ipython3",
   "version": "3.12.4"
  },
  "widgets": {
   "application/vnd.jupyter.widget-state+json": {
    "state": {},
    "version_major": 2,
    "version_minor": 0
   }
  }
 },
 "nbformat": 4,
 "nbformat_minor": 5
}
