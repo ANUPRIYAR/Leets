{
 "cells": [
  {
   "cell_type": "code",
   "execution_count": null,
   "id": "7833b9b2-540e-4602-a864-c6b9809a17c0",
   "metadata": {},
   "outputs": [],
   "source": []
  },
  {
   "cell_type": "code",
   "execution_count": 25,
   "id": "b44a8965-8a07-428a-bf39-bc9fd717ec17",
   "metadata": {},
   "outputs": [],
   "source": [
    "import math\n",
    "def build(arr, node, start, end, tree):\n",
    "    if start == end:\n",
    "        tree[node] = arr[start]\n",
    "    else:\n",
    "        mid = (start + end)//2\n",
    "        build(arr, 2* node + 1, start, mid, tree)\n",
    "        build(arr, 2*node + 2, mid + 1, end, tree)\n",
    "        tree[node] = max(tree[2  * node + 1], tree[2 * node + 2])\n",
    "\n",
    "def query(node, start, end, L, R, tree):\n",
    "    if L > end or R < start:\n",
    "        return 0\n",
    "    if L <= start and end <= R:\n",
    "        return tree[node]\n",
    "    mid = start + (end - start)//2\n",
    "    left = query(2*node + 1 , start, mid, L, R, tree)\n",
    "    right = query(2*node + 2, mid + 1, end, L, R, tree)\n",
    "    return max(left, right)\n",
    "\n",
    "def update(node, start, end, pos, val, tree):\n",
    "    if pos < start or end < pos:\n",
    "        return\n",
    "    if start == end:\n",
    "        tree[node] = val\n",
    "    else:\n",
    "        mid = (start + end)//2\n",
    "        # if start <= pos <= mid:\n",
    "        update(2*node + 1, start, mid, pos , val, tree)\n",
    "        update(2*node + 2, mid + 1, end, pos, val, tree)\n",
    "        tree[node] = max(tree[2*node + 1], tree[2*node + 2])\n",
    "\n",
    "def LengthofLIS(nums):\n",
    "    n = len(nums)\n",
    "    tree = [0]* (4*n)\n",
    "    arr = [0] * n\n",
    "    build(arr, 0, 0, n -1, tree)\n",
    "\n",
    "    for num in nums:\n",
    "        lis_len = query(0, 0, n-1, 0, num -1, tree) + 1\n",
    "        update(0, 0, n-1, num, lis_len, tree)\n",
    "\n",
    "    return query(0, 0, n-1, 0, n-1, tree)\n"
   ]
  },
  {
   "cell_type": "code",
   "execution_count": 26,
   "id": "80dc0146-d8e8-41df-93fa-1dd606cbd9c1",
   "metadata": {},
   "outputs": [
    {
     "name": "stdout",
     "output_type": "stream",
     "text": [
      "Length of Longest Increasing Subsequence: 3\n"
     ]
    }
   ],
   "source": [
    "nums = [10, 9, 2, 5, 3, 7, 101, 18]\n",
    "print(\"Length of Longest Increasing Subsequence:\", LengthofLIS(nums))"
   ]
  },
  {
   "cell_type": "code",
   "execution_count": null,
   "id": "c7bec250-3f20-4374-8138-46d5829dcd8a",
   "metadata": {},
   "outputs": [],
   "source": []
  },
  {
   "cell_type": "code",
   "execution_count": null,
   "id": "133078ff-58be-4cc0-8a9d-b69e3ca62c7a",
   "metadata": {},
   "outputs": [],
   "source": []
  }
 ],
 "metadata": {
  "kernelspec": {
   "display_name": "Python 3 (ipykernel)",
   "language": "python",
   "name": "python3"
  },
  "language_info": {
   "codemirror_mode": {
    "name": "ipython",
    "version": 3
   },
   "file_extension": ".py",
   "mimetype": "text/x-python",
   "name": "python",
   "nbconvert_exporter": "python",
   "pygments_lexer": "ipython3",
   "version": "3.12.4"
  }
 },
 "nbformat": 4,
 "nbformat_minor": 5
}
