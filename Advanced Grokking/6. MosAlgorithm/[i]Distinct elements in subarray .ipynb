{
 "cells": [
  {
   "cell_type": "markdown",
   "id": "8bf5452a-9b50-4368-8045-7a3f34caca3e",
   "metadata": {},
   "source": [
    "# Distinct elements in subarray (medium)\n",
    "\n",
    "You are given an integer array `nums[]` and a list of queries `queries[]`, where each query is defined as queries\\[i\\] = \\[lefti, righti\\]. For each query, determine the number of distinct integers in the subarray of `nums` that starts at index lefti and ends at index righti for each query.\n",
    "\n",
    "Return an array `answer[]` where `answer[i]` is the result for the ith query.\n",
    "\n",
    "### Examples\n",
    "\n",
    "1.  Example 1:\n",
    "    \n",
    "    *   Input: nums = `[2, 1, 2, 3, 4]`, queries = `[[0, 2], [1, 3], [2, 4]]`\n",
    "    *   Expected Output: `[2, 3, 3]`\n",
    "    *   Explanation:\n",
    "        *   For the first query `[0, 2]`, the subarray is `[2, 1, 2]`, which has 2 distinct elements: `{2, 1}`.\n",
    "        *   For the second query `[1, 3]`, the subarray is `[1, 2, 3]`, which has 3 distinct elements: `{1, 2, 3}`.\n",
    "        *   For the third query `[2, 4]`, the subarray is `[2, 3, 4]`, which has 3 distinct elements: `{2, 3, 4}`.\n",
    "2.  Example 2:\n",
    "    \n",
    "    *   Input: nums = `[5, 3, 5, 7, 5, 3, 8]`, queries = `[[0, 5], [2, 4], [3, 6]]`\n",
    "    *   Expected Output: `[3, 2, 4]`\n",
    "    *   Explanation:\n",
    "        *   For the first query `[0, 5]`, the subarray is `[5, 3, 5, 7, 5, 3]`, which has 3 distinct elements: `{5, 3, 7}`.\n",
    "        *   For the second query `[2, 4]`, the subarray is `[5, 7, 5]`, which has 2 distinct elements: `{5, 7}`.\n",
    "        *   For the third query `[3, 6]`, the subarray is `[7, 5, 3, 8]`, which has 4 distinct elements: `{7, 5, 3, 8}`.\n",
    "3.  Example 3:\n",
    "    \n",
    "    *   Input: nums\\[\\] = `[9, 9, 8, 8, 7, 6, 6, 5]`, queries\\[\\] = `[[0, 3], [2, 5], [4, 7]]`\n",
    "    *   Expected Output:answer\\[\\] = `[2, 3, 3]`\n",
    "    *   Explanation:\n",
    "        *   For the first query `[0, 3]`, the subarray is `[9, 9, 8, 8]`, which has 2 distinct elements: `{9, 8}`.\n",
    "        *   For the second query `[2, 5]`, the subarray is `[8, 8, 7, 6]`, which has 3 distinct elements: `{8, 7, 6}`.\n",
    "        *   For the third query `[4, 7]`, the subarray is `[7, 6, 6, 5]`, which has 3 distinct elements: `{7, 6, 5}`."
   ]
  },
  {
   "cell_type": "code",
   "execution_count": 14,
   "id": "ee77d197-f27f-4069-a799-224d8807eba1",
   "metadata": {},
   "outputs": [],
   "source": [
    "import math\n",
    "class Query:\n",
    "    def __init__(self, left, right, index):\n",
    "        self.left = left\n",
    "        self.right = right\n",
    "        self.index= index\n",
    "\n",
    "class Solution:\n",
    "    def distinctelements(self, arr, queries):\n",
    "        hashmap = dict()\n",
    "        queries = [Query(query[0], query[1], i) for i, query in enumerate(queries)]\n",
    "\n",
    "        blocksize = math.ceil(math.sqrt(len(arr)))\n",
    "        queries.sort(key = lambda q:(q.left//blocksize, q.right))\n",
    "\n",
    "        currentleft, currentright = 0, -1\n",
    "        currentdistinct = 0\n",
    "        result = [0] * len(queries)\n",
    "        for query in queries:\n",
    "            left = query.left\n",
    "            right = query.right\n",
    "\n",
    "            while currentright < right:\n",
    "                currentright += 1\n",
    "                hashmap[arr[currentright]] =  hashmap.get(arr[currentright] , 0) + 1\n",
    "                currentdistinct = len(hashmap)\n",
    "\n",
    "            while currentright > right:\n",
    "                hashmap[arr[currentright]] -= 1\n",
    "                if hashmap[arr[currentright]] == 0:\n",
    "                    del hashmap[arr[currentright]]\n",
    "                currentright -= 1\n",
    "                currentdistinct = len(hashmap)\n",
    "\n",
    "            while currentleft < left:\n",
    "                hashmap[arr[currentleft]] -= 1\n",
    "                if hashmap[arr[currentleft]] == 0:\n",
    "                    del hashmap[arr[currentleft]]\n",
    "                currentleft += 1\n",
    "                currentdistinct = len(hashmap)\n",
    "\n",
    "            while currentleft > left:\n",
    "                currentleft -= 1\n",
    "                hashmap[arr[currentleft]] =  hashmap.get(arr[currentleft] , 0) + 1\n",
    "                currentdistinct = len(hashmap)\n",
    "\n",
    "            result[query.index] = currentdistinct \n",
    "\n",
    "        return result\n",
    " "
   ]
  },
  {
   "cell_type": "code",
   "execution_count": 15,
   "id": "3fb99070-9987-425d-b734-0d205eae1944",
   "metadata": {},
   "outputs": [
    {
     "name": "stdout",
     "output_type": "stream",
     "text": [
      "[2, 3, 3]\n"
     ]
    }
   ],
   "source": [
    "arr = [2, 1, 2, 3, 4]\n",
    "queries = [[0, 2], [1, 3], [2, 4]]\n",
    "sol = Solution()\n",
    "print(sol.distinctelements(arr, queries))"
   ]
  },
  {
   "cell_type": "code",
   "execution_count": null,
   "id": "3ef92719-4e05-464b-a908-85ff24d46ae9",
   "metadata": {},
   "outputs": [],
   "source": [
    "arr = [9, 9, 8, 8, 7, 6, 6, 5]\n",
    "queries[] = [[0, 3], [2, 5], [4, 7]]\n"
   ]
  }
 ],
 "metadata": {
  "kernelspec": {
   "display_name": "Python 3 (ipykernel)",
   "language": "python",
   "name": "python3"
  },
  "language_info": {
   "codemirror_mode": {
    "name": "ipython",
    "version": 3
   },
   "file_extension": ".py",
   "mimetype": "text/x-python",
   "name": "python",
   "nbconvert_exporter": "python",
   "pygments_lexer": "ipython3",
   "version": "3.12.4"
  }
 },
 "nbformat": 4,
 "nbformat_minor": 5
}
