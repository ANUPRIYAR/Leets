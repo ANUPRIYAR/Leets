{
 "cells": [
  {
   "cell_type": "code",
   "execution_count": 2,
   "id": "a083c438-467e-404d-b810-82bfdcf2e506",
   "metadata": {},
   "outputs": [
    {
     "name": "stdout",
     "output_type": "stream",
     "text": [
      "Serialized Output: 1,2,3,4,null,5,6,null,null,null,null,null,\n",
      "Deserialized Output: 1,2,3,4,null,5,6,null,null,null,null,null,\n"
     ]
    }
   ],
   "source": [
    "from collections import deque\n",
    "\n",
    "class NAryNode:\n",
    "    def __init__(self, val=0, children=None):\n",
    "        self.val = val\n",
    "        self.children = children if children is not None else []\n",
    "\n",
    "class Solution:\n",
    "    def serialize(self, root):\n",
    "        if root is None:\n",
    "            return \"\"  # If the tree is empty, return an empty string\n",
    "        sb = []\n",
    "        queue = deque([root])  # Add the root node to the queue\n",
    "\n",
    "        while queue:\n",
    "            node = queue.popleft()  # Remove the front node from the queue\n",
    "            if node is None:\n",
    "                sb.append(\"null,\")  # Add \"null\" to the string to indicate the end of a level\n",
    "                continue\n",
    "            sb.append(f\"{node.val},\")  # Append the value of the current node to the string\n",
    "            for child in node.children:\n",
    "                queue.append(child)  # Add all children of the current node to the queue\n",
    "            queue.append(None)\n",
    "\n",
    "        return \"\".join(sb)\n",
    "\n",
    "    def deserialize(self, data):\n",
    "        if not data:\n",
    "            return None  # If the input string is empty, return null\n",
    "        nodes = data.split(\",\")  # Split the string by commas to get node values\n",
    "        root = NAryNode(int(nodes[0]), [])\n",
    "        queue = deque([root])  # Add the root node to the queue\n",
    "\n",
    "        i = 1\n",
    "        while i < len(nodes):\n",
    "            # Ensure deque is not empty before popping\n",
    "            if queue:\n",
    "                parent = queue.popleft()  # Get the next parent node from the queue\n",
    "            else:\n",
    "                break\n",
    "\n",
    "            while i < len(nodes) and nodes[i] != \"null\" and parent:\n",
    "                child = NAryNode(int(nodes[i]), [])\n",
    "                parent.children.append(child)  # Add the child node to the parent\n",
    "                queue.append(child)  # Add the child to the queue to process its children\n",
    "                i += 1\n",
    "            i += 1\n",
    "        return root\n",
    "\n",
    "if __name__ == \"__main__\":\n",
    "    solution = Solution()\n",
    "\n",
    "    # Create nodes for the tree\n",
    "    root = NAryNode(1, [\n",
    "        NAryNode(2, [NAryNode(5), NAryNode(6)]),\n",
    "        NAryNode(3),\n",
    "        NAryNode(4)\n",
    "    ])\n",
    "\n",
    "    # Serialize the tree\n",
    "    serialized_data = solution.serialize(root)\n",
    "    print(\"Serialized Output:\", serialized_data)\n",
    "\n",
    "    # Deserialize the tree back from the serialized data\n",
    "    deserialized_root = solution.deserialize(serialized_data)\n",
    "    print(\"Deserialized Output:\", solution.serialize(deserialized_root))\n"
   ]
  },
  {
   "cell_type": "code",
   "execution_count": null,
   "id": "5cca74cd-414f-47c1-a478-0f931b929195",
   "metadata": {},
   "outputs": [],
   "source": []
  }
 ],
 "metadata": {
  "kernelspec": {
   "display_name": "Python 3 (ipykernel)",
   "language": "python",
   "name": "python3"
  },
  "language_info": {
   "codemirror_mode": {
    "name": "ipython",
    "version": 3
   },
   "file_extension": ".py",
   "mimetype": "text/x-python",
   "name": "python",
   "nbconvert_exporter": "python",
   "pygments_lexer": "ipython3",
   "version": "3.12.4"
  }
 },
 "nbformat": 4,
 "nbformat_minor": 5
}
