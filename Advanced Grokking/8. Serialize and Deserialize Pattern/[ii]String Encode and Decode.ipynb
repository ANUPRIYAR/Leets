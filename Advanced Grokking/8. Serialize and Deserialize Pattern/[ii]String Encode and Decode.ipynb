{
 "cells": [
  {
   "cell_type": "markdown",
   "id": "26c17fd3-8031-421d-a779-ce72f0193445",
   "metadata": {},
   "source": [
    "# String Encode and Decode\n",
    "\n",
    "Solved \n",
    "\n",
    "Medium\n",
    "\n",
    "Design an algorithm to encode a list of strings to a single string. The encoded string is then decoded back to the original list of strings.\n",
    "\n",
    "Please implement `encode` and `decode`\n",
    "\n",
    "Example 1:\n",
    "\n",
    "    Input: [\"neet\",\"code\",\"love\",\"you\"]\n",
    "    \n",
    "    Output:[\"neet\",\"code\",\"love\",\"you\"]\n",
    "    \n",
    "\n",
    "Copy\n",
    "\n",
    "Example 2:\n",
    "\n",
    "    Input: [\"we\",\"say\",\":\",\"yes\"]\n",
    "    \n",
    "    Output: [\"we\",\"say\",\":\",\"yes\"]\n",
    "    \n",
    "\n",
    "Copy\n",
    "\n",
    "Constraints:\n",
    "\n",
    "*   `0 <= strs.length < 100`\n",
    "*   `0 <= strs[i].length < 200`\n",
    "*   `strs[i]` contains only UTF-8 characters."
   ]
  },
  {
   "cell_type": "code",
   "execution_count": 1,
   "id": "713a9432-93a1-40ee-b067-377142b0f9cc",
   "metadata": {},
   "outputs": [],
   "source": [
    "from typing import List\n",
    "\n",
    "class Solution:\n",
    "\n",
    "    def encode(self, strs: List[str]) -> str:\n",
    "        encoded_string = []\n",
    "        for s in strs:\n",
    "            encoded_string.append(f'{len(s)}#{s}')\n",
    "        return ''.join(encoded_string)\n",
    "\n",
    "\n",
    "    def decode(self, s: str) -> List[str]:\n",
    "        strs = []\n",
    "        i = 0\n",
    "        while i < len(s):\n",
    "            j = s.find('#', i)\n",
    "            length = int(s[i:j])\n",
    "            strs.append(s[j + 1:j+1+length])\n",
    "            i = j + 1 + length\n",
    "        return strs"
   ]
  },
  {
   "cell_type": "code",
   "execution_count": null,
   "id": "5e0c5c65-ae84-4b0d-963f-ae977deebb05",
   "metadata": {},
   "outputs": [],
   "source": []
  }
 ],
 "metadata": {
  "kernelspec": {
   "display_name": "Python 3 (ipykernel)",
   "language": "python",
   "name": "python3"
  },
  "language_info": {
   "codemirror_mode": {
    "name": "ipython",
    "version": 3
   },
   "file_extension": ".py",
   "mimetype": "text/x-python",
   "name": "python",
   "nbconvert_exporter": "python",
   "pygments_lexer": "ipython3",
   "version": "3.12.4"
  }
 },
 "nbformat": 4,
 "nbformat_minor": 5
}
