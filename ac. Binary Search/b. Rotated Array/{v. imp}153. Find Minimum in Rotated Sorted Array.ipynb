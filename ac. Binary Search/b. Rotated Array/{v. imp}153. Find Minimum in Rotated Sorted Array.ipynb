{
 "cells": [
  {
   "cell_type": "markdown",
   "id": "5cc9c158-035a-46c6-9f5c-41c4830f0d1b",
   "metadata": {},
   "source": [
    "<h2><a href=\"https://leetcode.com/problems/find-minimum-in-rotated-sorted-array\">153. Find Minimum in Rotated Sorted Array</a></h2><h3>Medium</h3><hr><p>Suppose an array of length <code>n</code> sorted in ascending order is <strong>rotated</strong> between <code>1</code> and <code>n</code> times. For example, the array <code>nums = [0,1,2,4,5,6,7]</code> might become:</p>\n",
    "\n",
    "<ul>\n",
    "\t<li><code>[4,5,6,7,0,1,2]</code> if it was rotated <code>4</code> times.</li>\n",
    "\t<li><code>[0,1,2,4,5,6,7]</code> if it was rotated <code>7</code> times.</li>\n",
    "</ul>\n",
    "\n",
    "<p>Notice that <strong>rotating</strong> an array <code>[a[0], a[1], a[2], ..., a[n-1]]</code> 1 time results in the array <code>[a[n-1], a[0], a[1], a[2], ..., a[n-2]]</code>.</p>\n",
    "\n",
    "<p>Given the sorted rotated array <code>nums</code> of <strong>unique</strong> elements, return <em>the minimum element of this array</em>.</p>\n",
    "\n",
    "<p>You must write an algorithm that runs in&nbsp;<code>O(log n) time.</code></p>\n",
    "\n",
    "<p>&nbsp;</p>\n",
    "<p><strong class=\"example\">Example 1:</strong></p>\n",
    "\n",
    "<pre>\n",
    "<strong>Input:</strong> nums = [3,4,5,1,2]\n",
    "<strong>Output:</strong> 1\n",
    "<strong>Explanation:</strong> The original array was [1,2,3,4,5] rotated 3 times.\n",
    "</pre>\n",
    "\n",
    "<p><strong class=\"example\">Example 2:</strong></p>\n",
    "\n",
    "<pre>\n",
    "<strong>Input:</strong> nums = [4,5,6,7,0,1,2]\n",
    "<strong>Output:</strong> 0\n",
    "<strong>Explanation:</strong> The original array was [0,1,2,4,5,6,7] and it was rotated 4 times.\n",
    "</pre>\n",
    "\n",
    "<p><strong class=\"example\">Example 3:</strong></p>\n",
    "\n",
    "<pre>\n",
    "<strong>Input:</strong> nums = [11,13,15,17]\n",
    "<strong>Output:</strong> 11\n",
    "<strong>Explanation:</strong> The original array was [11,13,15,17] and it was rotated 4 times. \n",
    "</pre>\n",
    "\n",
    "<p>&nbsp;</p>\n",
    "<p><strong>Constraints:</strong></p>\n",
    "\n",
    "<ul>\n",
    "\t<li><code>n == nums.length</code></li>\n",
    "\t<li><code>1 &lt;= n &lt;= 5000</code></li>\n",
    "\t<li><code>-5000 &lt;= nums[i] &lt;= 5000</code></li>\n",
    "\t<li>All the integers of <code>nums</code> are <strong>unique</strong>.</li>\n",
    "\t<li><code>nums</code> is sorted and rotated between <code>1</code> and <code>n</code> times.</li>\n",
    "</ul>\n"
   ]
  },
  {
   "cell_type": "code",
   "execution_count": null,
   "id": "65c81b30-2754-4d94-b265-67ba94f1e657",
   "metadata": {},
   "outputs": [],
   "source": [
    "class Solution:\n",
    "    def findMin(self, nums: List[int]) -> int:\n",
    "        start, end = 0, len(nums) - 1\n",
    "\n",
    "        while start < end:\n",
    "            mid = start + (end - start)//2\n",
    "            if nums[mid] < nums[end]:  # right part sorted\n",
    "                end = mid\n",
    "            else:\n",
    "                start = mid  + 1\n",
    "\n",
    "        return nums[start]\n"
   ]
  }
 ],
 "metadata": {
  "kernelspec": {
   "display_name": "Python 3 (ipykernel)",
   "language": "python",
   "name": "python3"
  },
  "language_info": {
   "codemirror_mode": {
    "name": "ipython",
    "version": 3
   },
   "file_extension": ".py",
   "mimetype": "text/x-python",
   "name": "python",
   "nbconvert_exporter": "python",
   "pygments_lexer": "ipython3",
   "version": "3.11.5"
  },
  "widgets": {
   "application/vnd.jupyter.widget-state+json": {
    "state": {},
    "version_major": 2,
    "version_minor": 0
   }
  }
 },
 "nbformat": 4,
 "nbformat_minor": 5
}
