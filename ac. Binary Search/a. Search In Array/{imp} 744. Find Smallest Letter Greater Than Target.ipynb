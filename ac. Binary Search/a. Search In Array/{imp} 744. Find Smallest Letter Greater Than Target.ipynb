{
 "cells": [
  {
   "cell_type": "markdown",
   "id": "7b286a9a-b866-4c55-b405-95c47ae2e95a",
   "metadata": {},
   "source": [
    "<h2><a href=\"https://leetcode.com/problems/find-smallest-letter-greater-than-target/?envType=study-plan-v2&envId=binary-search\">744. Find Smallest Letter Greater Than Target</a></h2><h3>Easy</h3><hr><p>You are given an array of characters <code>letters</code> that is sorted in <strong>non-decreasing order</strong>, and a character <code>target</code>. There are <strong>at least two different</strong> characters in <code>letters</code>.</p>\n",
    "\n",
    "<p>Return <em>the smallest character in </em><code>letters</code><em> that is lexicographically greater than </em><code>target</code>. If such a character does not exist, return the first character in <code>letters</code>.</p>\n",
    "\n",
    "<p>&nbsp;</p>\n",
    "<p><strong class=\"example\">Example 1:</strong></p>\n",
    "\n",
    "<pre>\n",
    "<strong>Input:</strong> letters = [&quot;c&quot;,&quot;f&quot;,&quot;j&quot;], target = &quot;a&quot;\n",
    "<strong>Output:</strong> &quot;c&quot;\n",
    "<strong>Explanation:</strong> The smallest character that is lexicographically greater than &#39;a&#39; in letters is &#39;c&#39;.\n",
    "</pre>\n",
    "\n",
    "<p><strong class=\"example\">Example 2:</strong></p>\n",
    "\n",
    "<pre>\n",
    "<strong>Input:</strong> letters = [&quot;c&quot;,&quot;f&quot;,&quot;j&quot;], target = &quot;c&quot;\n",
    "<strong>Output:</strong> &quot;f&quot;\n",
    "<strong>Explanation:</strong> The smallest character that is lexicographically greater than &#39;c&#39; in letters is &#39;f&#39;.\n",
    "</pre>\n",
    "\n",
    "<p><strong class=\"example\">Example 3:</strong></p>\n",
    "\n",
    "<pre>\n",
    "<strong>Input:</strong> letters = [&quot;x&quot;,&quot;x&quot;,&quot;y&quot;,&quot;y&quot;], target = &quot;z&quot;\n",
    "<strong>Output:</strong> &quot;x&quot;\n",
    "<strong>Explanation:</strong> There are no characters in letters that is lexicographically greater than &#39;z&#39; so we return letters[0].\n",
    "</pre>\n",
    "\n",
    "<p>&nbsp;</p>\n",
    "<p><strong>Constraints:</strong></p>\n",
    "\n",
    "<ul>\n",
    "\t<li><code>2 &lt;= letters.length &lt;= 10<sup>4</sup></code></li>\n",
    "\t<li><code>letters[i]</code> is a lowercase English letter.</li>\n",
    "\t<li><code>letters</code> is sorted in <strong>non-decreasing</strong> order.</li>\n",
    "\t<li><code>letters</code> contains at least two different characters.</li>\n",
    "\t<li><code>target</code> is a lowercase English letter.</li>\n",
    "</ul>\n"
   ]
  },
  {
   "cell_type": "code",
   "execution_count": 1,
   "id": "913820af-9dcd-477f-a8f7-602bb74e687a",
   "metadata": {},
   "outputs": [],
   "source": [
    "from typing import List\n",
    "\n",
    "class Solution:\n",
    "    def nextGreatestLetter(self, letters: List[str], target: str) -> str:\n",
    "        start, end = 0, len(letters) - 1\n",
    "        n = len(letters)\n",
    "        if target >= letters[-1]:\n",
    "            return letters[0]\n",
    "\n",
    "        while start <= end:                    # Since we have the find smallest letter GREATER THAN TARGET, dont match EQUALITY with Mid\n",
    "            mid = start + (end -start)//2\n",
    "\n",
    "            if target < letters[mid]:\n",
    "                end = mid -1 \n",
    "            else:\n",
    "                start = mid + 1\n",
    "        \n",
    "        return letters[start % n]       # start can go beyond the indexes, hence take a mod of length of letters"
   ]
  },
  {
   "cell_type": "code",
   "id": "be943be6-92e9-4233-8f7e-af24aae9f4e4",
   "metadata": {
    "ExecuteTime": {
     "end_time": "2024-06-26T17:11:14.955848Z",
     "start_time": "2024-06-26T17:11:14.953733Z"
    }
   },
   "source": [],
   "outputs": [],
   "execution_count": null
  },
  {
   "metadata": {
    "ExecuteTime": {
     "end_time": "2024-06-27T03:14:39.304599Z",
     "start_time": "2024-06-27T03:14:39.288397Z"
    }
   },
   "cell_type": "code",
   "source": [
    "from collections import defaultdict\n",
    "timestore = defaultdict(dict)"
   ],
   "id": "6c4911ab001255cc",
   "outputs": [],
   "execution_count": 3
  },
  {
   "metadata": {
    "ExecuteTime": {
     "end_time": "2024-06-27T03:14:48.991126Z",
     "start_time": "2024-06-27T03:14:48.984235Z"
    }
   },
   "cell_type": "code",
   "source": "timestore['a']['b'] = 1",
   "id": "e8981b97875619af",
   "outputs": [],
   "execution_count": 4
  },
  {
   "metadata": {
    "ExecuteTime": {
     "end_time": "2024-06-27T03:15:00.942865Z",
     "start_time": "2024-06-27T03:15:00.931777Z"
    }
   },
   "cell_type": "code",
   "source": "timestore['a']['b']",
   "id": "ce4c228c606bab05",
   "outputs": [
    {
     "data": {
      "text/plain": [
       "1"
      ]
     },
     "execution_count": 5,
     "metadata": {},
     "output_type": "execute_result"
    }
   ],
   "execution_count": 5
  },
  {
   "metadata": {},
   "cell_type": "code",
   "outputs": [],
   "execution_count": null,
   "source": "",
   "id": "84860b1d1c39f19c"
  }
 ],
 "metadata": {
  "kernelspec": {
   "display_name": "Python 3 (ipykernel)",
   "language": "python",
   "name": "python3"
  },
  "language_info": {
   "codemirror_mode": {
    "name": "ipython",
    "version": 3
   },
   "file_extension": ".py",
   "mimetype": "text/x-python",
   "name": "python",
   "nbconvert_exporter": "python",
   "pygments_lexer": "ipython3",
   "version": "3.11.5"
  },
  "widgets": {
   "application/vnd.jupyter.widget-state+json": {
    "state": {},
    "version_major": 2,
    "version_minor": 0
   }
  }
 },
 "nbformat": 4,
 "nbformat_minor": 5
}
