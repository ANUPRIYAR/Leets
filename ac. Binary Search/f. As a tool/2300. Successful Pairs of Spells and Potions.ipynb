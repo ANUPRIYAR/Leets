{
 "cells": [
  {
   "cell_type": "markdown",
   "id": "b3a410a9-8eac-4747-ac16-ad4dc67036c5",
   "metadata": {},
   "source": [
    "<h2><a href=\"https://leetcode.com/problems/successful-pairs-of-spells-and-potions\">2300. Successful Pairs of Spells and Potions</a></h2><h3>Medium</h3><hr><p>You are given two positive integer arrays <code>spells</code> and <code>potions</code>, of length <code>n</code> and <code>m</code> respectively, where <code>spells[i]</code> represents the strength of the <code>i<sup>th</sup></code> spell and <code>potions[j]</code> represents the strength of the <code>j<sup>th</sup></code> potion.</p>\n",
    "\n",
    "<p>You are also given an integer <code>success</code>. A spell and potion pair is considered <strong>successful</strong> if the <strong>product</strong> of their strengths is <strong>at least</strong> <code>success</code>.</p>\n",
    "\n",
    "<p>Return <em>an integer array </em><code>pairs</code><em> of length </em><code>n</code><em> where </em><code>pairs[i]</code><em> is the number of <strong>potions</strong> that will form a successful pair with the </em><code>i<sup>th</sup></code><em> spell.</em></p>\n",
    "\n",
    "<p>&nbsp;</p>\n",
    "<p><strong class=\"example\">Example 1:</strong></p>\n",
    "\n",
    "<pre>\n",
    "<strong>Input:</strong> spells = [5,1,3], potions = [1,2,3,4,5], success = 7\n",
    "<strong>Output:</strong> [4,0,3]\n",
    "<strong>Explanation:</strong>\n",
    "- 0<sup>th</sup> spell: 5 * [1,2,3,4,5] = [5,<u><strong>10</strong></u>,<u><strong>15</strong></u>,<u><strong>20</strong></u>,<u><strong>25</strong></u>]. 4 pairs are successful.\n",
    "- 1<sup>st</sup> spell: 1 * [1,2,3,4,5] = [1,2,3,4,5]. 0 pairs are successful.\n",
    "- 2<sup>nd</sup> spell: 3 * [1,2,3,4,5] = [3,6,<u><strong>9</strong></u>,<u><strong>12</strong></u>,<u><strong>15</strong></u>]. 3 pairs are successful.\n",
    "Thus, [4,0,3] is returned.\n",
    "</pre>\n",
    "\n",
    "<p><strong class=\"example\">Example 2:</strong></p>\n",
    "\n",
    "<pre>\n",
    "<strong>Input:</strong> spells = [3,1,2], potions = [8,5,8], success = 16\n",
    "<strong>Output:</strong> [2,0,2]\n",
    "<strong>Explanation:</strong>\n",
    "- 0<sup>th</sup> spell: 3 * [8,5,8] = [<u><strong>24</strong></u>,15,<u><strong>24</strong></u>]. 2 pairs are successful.\n",
    "- 1<sup>st</sup> spell: 1 * [8,5,8] = [8,5,8]. 0 pairs are successful. \n",
    "- 2<sup>nd</sup> spell: 2 * [8,5,8] = [<strong><u>16</u></strong>,10,<u><strong>16</strong></u>]. 2 pairs are successful. \n",
    "Thus, [2,0,2] is returned.\n",
    "</pre>\n",
    "\n",
    "<p>&nbsp;</p>\n",
    "<p><strong>Constraints:</strong></p>\n",
    "\n",
    "<ul>\n",
    "\t<li><code>n == spells.length</code></li>\n",
    "\t<li><code>m == potions.length</code></li>\n",
    "\t<li><code>1 &lt;= n, m &lt;= 10<sup>5</sup></code></li>\n",
    "\t<li><code>1 &lt;= spells[i], potions[i] &lt;= 10<sup>5</sup></code></li>\n",
    "\t<li><code>1 &lt;= success &lt;= 10<sup>10</sup></code></li>\n",
    "</ul>\n"
   ]
  },
  {
   "cell_type": "code",
   "execution_count": 1,
   "id": "4e64ecf4-7aa4-434a-8ffe-17273526a6aa",
   "metadata": {},
   "outputs": [],
   "source": [
    "from typing import List\n",
    "class Solution:\n",
    "    def successfulPairs(self, spells: List[int], potions: List[int], success: int) -> List[int]:\n",
    "        potions.sort()\n",
    "\n",
    "        res = []\n",
    "        for i in range(len(spells)):\n",
    "            start_index = self.binary_search(spells[i], potions, success)\n",
    "            res.append(len(potions)-1 - start_index if start_index >= 0 else len(potions)) \n",
    "\n",
    "        return res\n",
    "\n",
    "\n",
    "    def binary_search(self, spell, potions, success):\n",
    "        start, end = 0, len(potions)- 1\n",
    "\n",
    "        while start <= end:\n",
    "            mid = start + (end - start)//2\n",
    "\n",
    "            if spell * potions[mid] == success and (mid == 0 or spell * potions[mid-1] < success ):\n",
    "                return mid -1 if mid != 0 else -1\n",
    "\n",
    "            if spell * potions[mid] < success:\n",
    "                start = mid + 1\n",
    "            else:\n",
    "                end = mid - 1\n",
    "\n",
    "        return end"
   ]
  },
  {
   "cell_type": "markdown",
   "id": "77360cdb-8daf-4a35-8c68-74cdcf045c6e",
   "metadata": {},
   "source": [
    "## After removing mid Condtions"
   ]
  },
  {
   "cell_type": "code",
   "execution_count": 2,
   "id": "022b0106-0b5e-4c0d-b550-f3ac271c6692",
   "metadata": {},
   "outputs": [],
   "source": [
    "class Solution:\n",
    "    def successfulPairs(self, spells: List[int], potions: List[int], success: int) -> List[int]:\n",
    "        potions.sort()\n",
    "\n",
    "        res = []\n",
    "        for i in range(len(spells)):\n",
    "            start_index = self.binary_search(spells[i], potions, success)\n",
    "            res.append(len(potions)-1 - start_index if start_index >= 0 else len(potions)) \n",
    "        return res\n",
    "\n",
    "\n",
    "    def binary_search(self, spell, potions, success):\n",
    "        start, end = 0, len(potions)- 1\n",
    "\n",
    "        while start <= end:\n",
    "            mid = start + (end - start)//2\n",
    "\n",
    "            if spell * potions[mid] < success:\n",
    "                start = mid + 1\n",
    "            else:\n",
    "                end = mid - 1\n",
    "            \n",
    "        return end       "
   ]
  },
  {
   "cell_type": "code",
   "id": "461c48cb-903c-4e30-a123-2b91c330b3c1",
   "metadata": {
    "ExecuteTime": {
     "end_time": "2024-07-05T11:12:11.853658Z",
     "start_time": "2024-07-05T11:12:11.851424Z"
    }
   },
   "source": [],
   "outputs": [],
   "execution_count": null
  },
  {
   "metadata": {},
   "cell_type": "code",
   "outputs": [],
   "execution_count": null,
   "source": "",
   "id": "e208c5bbfded1d61"
  }
 ],
 "metadata": {
  "kernelspec": {
   "display_name": "Python 3 (ipykernel)",
   "language": "python",
   "name": "python3"
  },
  "language_info": {
   "codemirror_mode": {
    "name": "ipython",
    "version": 3
   },
   "file_extension": ".py",
   "mimetype": "text/x-python",
   "name": "python",
   "nbconvert_exporter": "python",
   "pygments_lexer": "ipython3",
   "version": "3.11.5"
  },
  "widgets": {
   "application/vnd.jupyter.widget-state+json": {
    "state": {},
    "version_major": 2,
    "version_minor": 0
   }
  }
 },
 "nbformat": 4,
 "nbformat_minor": 5
}
